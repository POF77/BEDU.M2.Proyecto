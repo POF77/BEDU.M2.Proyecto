{
  "nbformat": 4,
  "nbformat_minor": 0,
  "metadata": {
    "colab": {
      "name": "postwork 5.ipynb",
      "provenance": [],
      "collapsed_sections": []
    },
    "kernelspec": {
      "name": "python3",
      "display_name": "Python 3"
    },
    "language_info": {
      "name": "python"
    }
  },
  "cells": [
    {
      "cell_type": "markdown",
      "metadata": {
        "id": "aC3dOMtdstcn"
      },
      "source": [
        "# Postwork 5"
      ]
    },
    {
      "cell_type": "markdown",
      "metadata": {
        "id": "Ztxi3UjYuFVz"
      },
      "source": [
        "### Objetivo\n",
        "* Limpiar nuestro dataset de NaNs.\n",
        "* Reindexar si es necesario\n",
        "* Renombrar columnas si es necesario\n",
        "* Experimentar la aplicación de agregaciones para explorar nuestro dataset"
      ]
    },
    {
      "cell_type": "markdown",
      "metadata": {
        "id": "rpRNNkG-tMS8"
      },
      "source": [
        "Importación de librerías y carga del dataset"
      ]
    },
    {
      "cell_type": "code",
      "metadata": {
        "id": "k4JThFsJbBag"
      },
      "source": [
        "import pandas as pd\n",
        "import numpy as np"
      ],
      "execution_count": 1,
      "outputs": []
    },
    {
      "cell_type": "code",
      "metadata": {
        "id": "2HHoQ04ggfDH"
      },
      "source": [
        "brute = pd.read_csv(\"https://raw.githubusercontent.com/POF77/Proyecto.BEDU.ModuloII/main/Datos_nuevos/bruteData.csv\")\n",
        "df = brute.copy()"
      ],
      "execution_count": 37,
      "outputs": []
    },
    {
      "cell_type": "markdown",
      "metadata": {
        "id": "fZubIQPhs4PK"
      },
      "source": [
        "### Desarrollo\n",
        "\n",
        "Ya que tenemos nuestro dataset en un DataFrame y que hemos realizado una primera exploración, ha llegado la hora de hacer un poco de limpieza. Limpiar tu DataFrame es sumamente importante para poder utilizarlo después de manera cómoda y apropiada. También vamos a explorar nuestro dataset usando agregaciones para ver si podemos empezar a responder algunas de las preguntas que nos hemos planteado. Los pasos que debes de seguir son los siguientes:"
      ]
    },
    {
      "cell_type": "markdown",
      "metadata": {
        "id": "F0UpNZGEtXvg"
      },
      "source": [
        "#### 1. Explora tu dataset con el fin de encontrar los NaNs que contiene. Piensa en la distribución de NaNs por columna y por fila."
      ]
    },
    {
      "cell_type": "code",
      "metadata": {
        "colab": {
          "base_uri": "https://localhost:8080/"
        },
        "id": "-DKRg3hQgwsE",
        "outputId": "a2318d19-3b2c-4f7d-a43c-336e03520e23"
      },
      "source": [
        "print(f'Dimensión del dataset: {df.shape[0]} filas y {df.shape[1]} columnas')"
      ],
      "execution_count": 3,
      "outputs": [
        {
          "output_type": "stream",
          "text": [
            "Dimensión del dataset: 21356 filas y 16 columnas\n"
          ],
          "name": "stdout"
        }
      ]
    },
    {
      "cell_type": "markdown",
      "metadata": {
        "id": "Ms_keTjlrNRd"
      },
      "source": [
        "Cantidad de NaNs en el data"
      ]
    },
    {
      "cell_type": "code",
      "metadata": {
        "colab": {
          "base_uri": "https://localhost:8080/"
        },
        "id": "ot2kKD8xg5Jv",
        "outputId": "be6e32a9-3fe1-4fdc-bd9d-e94a8af6bb55"
      },
      "source": [
        "df.isna().sum()"
      ],
      "execution_count": 8,
      "outputs": [
        {
          "output_type": "execute_result",
          "data": {
            "text/plain": [
              "country                                        0\n",
              "year                                           0\n",
              "iso3                                       19442\n",
              "health_measure                                58\n",
              "sex                                           58\n",
              "respiratory_infections_and_tuberculosis       58\n",
              "chronic_respiratory_diseases                  58\n",
              "ClimateSource                              19442\n",
              "climate_units                              19442\n",
              "sector                                     19442\n",
              "allghg                                     19442\n",
              "co2                                        19442\n",
              "ch4                                        19442\n",
              "n2o                                        19442\n",
              "fgas                                       19442\n",
              "mean_annual_tempC                          19442\n",
              "dtype: int64"
            ]
          },
          "metadata": {
            "tags": []
          },
          "execution_count": 8
        }
      ]
    },
    {
      "cell_type": "markdown",
      "metadata": {
        "id": "HPrpge-iu1iC"
      },
      "source": [
        "#### 2. Piensa cuáles son los procedimientos que puedes aplicar a tus NaNs. ¿Tenemos que eliminar las filas/columnas que tienen esos NaNs? ¿O podríamos rellenar esos NaNs con algún valor de manera que podamos retener esas filas/columnas?\n",
        "\n",
        "\n",
        "Debido a que es una cantidad grande de NaNs, se optará por eliminarlos"
      ]
    },
    {
      "cell_type": "markdown",
      "metadata": {
        "id": "anRR-w7Uvhtv"
      },
      "source": [
        "#### 3. Limpia tu dataset de manera que no quede ningún NaN."
      ]
    },
    {
      "cell_type": "markdown",
      "metadata": {
        "id": "uIHknmFBq1VG"
      },
      "source": [
        "Eliminación de columnas que no serán utilizadas y de filas duplicadas"
      ]
    },
    {
      "cell_type": "code",
      "metadata": {
        "id": "TJAaM0HmmorE"
      },
      "source": [
        "df = df.drop([\"iso3\",\"health_measure\",\"sex\",\"ClimateSource\",\"climate_units\",\"sector\"], axis=1)\n",
        "\n",
        "df = df.drop_duplicates()"
      ],
      "execution_count": 44,
      "outputs": []
    },
    {
      "cell_type": "markdown",
      "metadata": {
        "id": "oTIEmrR5iZc3"
      },
      "source": [
        "Eliminando NaN's de datos ambientales"
      ]
    },
    {
      "cell_type": "code",
      "metadata": {
        "colab": {
          "base_uri": "https://localhost:8080/"
        },
        "id": "vk2GdPCmi1EV",
        "outputId": "3f30bd9a-bb1a-4a83-a6c7-409a0c87b05b"
      },
      "source": [
        "df = df.dropna(subset=[\"allghg\",\"co2\",\"ch4\",\"n2o\",\"fgas\",\"mean_annual_tempC\"])\n",
        "df.shape"
      ],
      "execution_count": 45,
      "outputs": [
        {
          "output_type": "execute_result",
          "data": {
            "text/plain": [
              "(986, 10)"
            ]
          },
          "metadata": {
            "tags": []
          },
          "execution_count": 45
        }
      ]
    },
    {
      "cell_type": "markdown",
      "metadata": {
        "id": "Vj0nD2vzj-LK"
      },
      "source": [
        "Eliminando NaN's de datos de salud"
      ]
    },
    {
      "cell_type": "code",
      "metadata": {
        "colab": {
          "base_uri": "https://localhost:8080/"
        },
        "id": "cA3fLVbEkFvB",
        "outputId": "6c635fd6-52cc-4b19-da13-d52b6a836fc8"
      },
      "source": [
        "df = df.dropna(subset=[\"respiratory_infections_and_tuberculosis\",\"chronic_respiratory_diseases\"])\n",
        "df.shape"
      ],
      "execution_count": 46,
      "outputs": [
        {
          "output_type": "execute_result",
          "data": {
            "text/plain": [
              "(928, 10)"
            ]
          },
          "metadata": {
            "tags": []
          },
          "execution_count": 46
        }
      ]
    },
    {
      "cell_type": "markdown",
      "metadata": {
        "id": "9ChCWkGvmDyY"
      },
      "source": [
        "#### 4. Reindexa tu dataset si lo consideras necesario."
      ]
    },
    {
      "cell_type": "code",
      "metadata": {
        "id": "uRG-XyrMm-Cl"
      },
      "source": [
        "df = df.reset_index(drop=True)"
      ],
      "execution_count": 47,
      "outputs": []
    },
    {
      "cell_type": "markdown",
      "metadata": {
        "id": "KVfGWGLIoE6w"
      },
      "source": [
        "#### 5. Renombra tus columnas si lo consideras necesario."
      ]
    },
    {
      "cell_type": "code",
      "metadata": {
        "id": "Y7QZHFrpo0Ch"
      },
      "source": [
        "new_names = {\n",
        "    \"allghg\":\"all_greenhouse_gas\",\n",
        "    \"co2\":\"CO2_carbon_dioxide\",\n",
        "    \"ch4\":\"CH4_methane\",\n",
        "    \"n2o\":\"N2O_nitrous_oxide\"\n",
        "}\n",
        "\n",
        "df = df.rename(columns=new_names)"
      ],
      "execution_count": 48,
      "outputs": []
    },
    {
      "cell_type": "markdown",
      "metadata": {
        "id": "9ptjH53SsQ1O"
      },
      "source": [
        "#### 6. Prueba aplicar agregaciones a tu DataFrame para ver si puedes empezar a responder algunas de las preguntas que te planteaste anteriormente. Aquí tienes una lista de algunas de las funciones que puedes utilizar para agregar/reducir tu dataset:\n"
      ]
    },
    {
      "cell_type": "code",
      "metadata": {
        "colab": {
          "base_uri": "https://localhost:8080/"
        },
        "id": "4Lw3G7wX5rkQ",
        "outputId": "7fceeefb-d747-462a-abf3-8a284e2f875d"
      },
      "source": [
        "# np.mean(df[\"mean_annual_tempC\"])\n"
      ],
      "execution_count": null,
      "outputs": [
        {
          "output_type": "execute_result",
          "data": {
            "text/plain": [
              "9.564829312957174"
            ]
          },
          "metadata": {
            "tags": []
          },
          "execution_count": 77
        }
      ]
    },
    {
      "cell_type": "markdown",
      "metadata": {
        "id": "bADZz0FEuONZ"
      },
      "source": [
        "#### Análisis de dataset resultante"
      ]
    },
    {
      "cell_type": "code",
      "metadata": {
        "colab": {
          "base_uri": "https://localhost:8080/"
        },
        "id": "RGraqlGKkwQk",
        "outputId": "9456e06c-1484-40e2-e4ab-59686ab705d6"
      },
      "source": [
        "#porcentaje de datos no eliminados\n",
        "\n",
        "porcentaje = df.shape[0] / brute.shape[0] * 100\n",
        "print(f'filas del dataset crudo: {brute.shape[0]} \\nfilas del dataset después de limpieza: {df.shape[0]}')\n",
        "print(f'Porcentaje de datos netos: {porcentaje:.2f}%')"
      ],
      "execution_count": 52,
      "outputs": [
        {
          "output_type": "stream",
          "text": [
            "filas del dataset crudo: 21356 \n",
            "filas del dataset después de limpieza: 928\n",
            "Porcentaje de datos netos: 4.35%\n"
          ],
          "name": "stdout"
        }
      ]
    },
    {
      "cell_type": "markdown",
      "metadata": {
        "id": "uPPITBE-uWvR"
      },
      "source": [
        "Cantidad de datos por país:"
      ]
    },
    {
      "cell_type": "code",
      "metadata": {
        "colab": {
          "base_uri": "https://localhost:8080/"
        },
        "id": "OeslzPzcqy3z",
        "outputId": "8eefd78b-ec7b-4272-a81e-b12f374d6466"
      },
      "source": [
        "df[\"country\"].value_counts()"
      ],
      "execution_count": 53,
      "outputs": [
        {
          "output_type": "execute_result",
          "data": {
            "text/plain": [
              "Poland            29\n",
              "Germany           29\n",
              "Portugal          29\n",
              "Norway            29\n",
              "Hungary           29\n",
              "Iceland           29\n",
              "Mexico            29\n",
              "New Zealand       29\n",
              "Luxembourg        29\n",
              "Turkey            29\n",
              "Sweden            29\n",
              "Spain             29\n",
              "Greece            29\n",
              "Australia         29\n",
              "Netherlands       29\n",
              "Slovakia          29\n",
              "Israel            29\n",
              "Switzerland       29\n",
              "Estonia           29\n",
              "Canada            29\n",
              "Ireland           29\n",
              "Slovenia          29\n",
              "Japan             29\n",
              "United Kingdom    29\n",
              "Italy             29\n",
              "Austria           29\n",
              "France            29\n",
              "Latvia            29\n",
              "Belgium           29\n",
              "Denmark           29\n",
              "Finland           29\n",
              "Chile             29\n",
              "Name: country, dtype: int64"
            ]
          },
          "metadata": {
            "tags": []
          },
          "execution_count": 53
        }
      ]
    },
    {
      "cell_type": "markdown",
      "metadata": {
        "id": "5isN-aVXurYs"
      },
      "source": [
        "Años registrados"
      ]
    },
    {
      "cell_type": "code",
      "metadata": {
        "colab": {
          "base_uri": "https://localhost:8080/"
        },
        "id": "QT50VgFJyM61",
        "outputId": "e276830c-8ac0-4f78-b8b7-e4823f786e92"
      },
      "source": [
        "print(f'cantidad de años registrados: {max(df[\"year\"]) - min(df[\"year\"])}')\n",
        "print(f'desde {min(df[\"year\"])} hasta {max(df[\"year\"])}')"
      ],
      "execution_count": 57,
      "outputs": [
        {
          "output_type": "stream",
          "text": [
            "cantidad de años registrados: 28\n",
            "desde 1990 hasta 2018\n"
          ],
          "name": "stdout"
        }
      ]
    }
  ]
}