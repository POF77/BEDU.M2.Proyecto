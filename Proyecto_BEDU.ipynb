{
  "nbformat": 4,
  "nbformat_minor": 0,
  "metadata": {
    "colab": {
      "name": "Proyecto_BEDU.ipynb",
      "provenance": [],
      "authorship_tag": "ABX9TyO4UFNuDpdsGYxjEklGgxh2",
      "include_colab_link": true
    },
    "kernelspec": {
      "name": "python3",
      "display_name": "Python 3"
    },
    "language_info": {
      "name": "python"
    }
  },
  "cells": [
    {
      "cell_type": "markdown",
      "metadata": {
        "id": "view-in-github",
        "colab_type": "text"
      },
      "source": [
        "<a href=\"https://colab.research.google.com/github/POF77/Proyecto.BEDU.ModuloII/blob/main/Proyecto_BEDU.ipynb\" target=\"_parent\"><img src=\"https://colab.research.google.com/assets/colab-badge.svg\" alt=\"Open In Colab\"/></a>"
      ]
    },
    {
      "cell_type": "markdown",
      "metadata": {
        "id": "p6dP3QR4kEKa"
      },
      "source": [
        "# Módulo 3: **Procesamiento de Datos con Python**\n",
        "## Proyecto Final\n",
        "### Equipo:\n",
        "- Edgar Israel Casanova Cardoz\n",
        "- Omar Garduza\n",
        "- Lizzeth Gómez Rodríguez\n",
        "- Paul O'Hea Flores\n",
        "- Alan Sandoval"
      ]
    },
    {
      "cell_type": "markdown",
      "metadata": {
        "id": "Sd905bRglQiq"
      },
      "source": [
        "# **IMPACTO DEL CAMBIO CLIMÁTICO EN LA SALUD PÚBLICA**\n",
        "\n",
        "## 1. Identificación del Problema\n",
        "- Efecto negativo del Cambio climático sobre la salud pública\n",
        "\n",
        "## 2. Investigación y justificación del problema\n",
        "<p align = justify>\n",
        "El Cambio Climático es un problema de años pero que hoy en día se encuentra agudizado y que a su vez ha alterado drásticamente la biodiversidad del planeta, lo cual favorece la transmisión de patógenos causantes de enfermedades, particularmente aquellas relacionadas con las olas de calor, la falta de agua potable, la reproducción de plagas y las inundaciones.\n",
        "\n",
        "<p align = justify>\n",
        "En este sentido, la población más afectada es aquella que carece de infraestructura salubre adecuada, en combinación con otros factores como las condiciones vulnerables de vivienda y una mala alimentación. Dicha población se puede encontrar con mayor abundancia en países en vías de desarrollo. Por lo anterior, es importante tomar acción sobre los efectos negativos que puede causar el Cambio Climático sobre la salud pública.\n",
        "\n",
        "<p align = justify>\n",
        "Organizaciones internacionales como Greenpeace, el Intergovernmental Panel on Climate Change (IPCC) y la Organización Mundial de la Salud (OMS) han presentado estudios respecto a la gravedad que puede presentar el cambio climático sobre la salud pública; y se sabe que, entre los principales gases de efecto invernadero se encuentran el dióxido de carbono (CO2), el metano (CH4), el óxido nitroso(N2O) y el ozono (O3).\n"
      ]
    },
    {
      "cell_type": "markdown",
      "metadata": {
        "id": "hPW4rc_ooDaC"
      },
      "source": [
        "## 3. Preguntas de Investigación\n",
        "- ¿Cuál es el impacto del cambio climático sobre la salud?\n",
        "- ¿Qué relación existe entre el cambio climático, la contaminación del aire, el incremento de la temperatura y la intensificación de enfermedades respiratorias, de salud mental, gastrointestinales y cardiacas?\n",
        "- ¿Qué relación existe entre el cambio climático y la aparición de nuevas enfermedades o virus?\n",
        "- ¿Qué tipo de actividades afectan de manera negativa el cambio climático?\n",
        "- ¿Qué enfermedad presenta la mayor correlación con el cambio climático?\n",
        "- ¿Qué países se encuentran mayormente afectados por el cambio climático, los desarrollados o aquellos en vías de desarrollo?\n",
        "- ¿Qué países contribuyen más al cambio climático, los de mayor o menor afectación?\n",
        "\n",
        "## 4. Información Disponible (Modificar con la nueva base)\n",
        "<p align = justify>\n",
        "Los datos para el presente análisis se han obtenido de dos fuentes de información disponibles, por un lado, los datos del IPCC nos permiten cuantificar los niveles del cambio climático, cuyos disponibles van de 1996 a 2019, las variables a utilizar son los gases de efecto invernadero ya mencionados anteriormente:  CO2, CH4, N2O y O3. Por otro lado, se utilizan datos de la OMS para cuantificar las defunciones cuyas causas son enfermedades respiratorias."
      ]
    },
    {
      "cell_type": "code",
      "metadata": {
        "id": "H12hTg2Rg8Vj"
      },
      "source": [
        "# Importación de los paquetes necesarios para el análisis\n",
        "import pandas as pd\n",
        "import numpy as np"
      ],
      "execution_count": 1,
      "outputs": []
    },
    {
      "cell_type": "markdown",
      "metadata": {
        "id": "QG8I0zEwnREU"
      },
      "source": [
        "### Cargado y exploración de los datos"
      ]
    },
    {
      "cell_type": "code",
      "metadata": {
        "colab": {
          "base_uri": "https://localhost:8080/",
          "height": 204
        },
        "id": "Odb0Q-ZMhHrO",
        "outputId": "6c78c01a-e9c2-4eb9-a554-bbffcbee389f"
      },
      "source": [
        "# Leemos el archivo csv que contiene los niveles de gases de efecto invernader, la temperatura y los fallecimientos por países.\n",
        "# Guerdamos el archivo en el objeto \"df\"\n",
        "df = pd.read_csv(\"https://raw.githubusercontent.com/POF77/Proyecto.BEDU.ModuloII/main/Datos_nuevos/datos_netos.csv\") #Modificar con la nueva base\n",
        "df.head()"
      ],
      "execution_count": 12,
      "outputs": [
        {
          "output_type": "execute_result",
          "data": {
            "text/html": [
              "<div>\n",
              "<style scoped>\n",
              "    .dataframe tbody tr th:only-of-type {\n",
              "        vertical-align: middle;\n",
              "    }\n",
              "\n",
              "    .dataframe tbody tr th {\n",
              "        vertical-align: top;\n",
              "    }\n",
              "\n",
              "    .dataframe thead th {\n",
              "        text-align: right;\n",
              "    }\n",
              "</style>\n",
              "<table border=\"1\" class=\"dataframe\">\n",
              "  <thead>\n",
              "    <tr style=\"text-align: right;\">\n",
              "      <th></th>\n",
              "      <th>Unnamed: 0</th>\n",
              "      <th>country</th>\n",
              "      <th>year</th>\n",
              "      <th>mean_year_tempeC</th>\n",
              "      <th>id</th>\n",
              "      <th>tot_gas</th>\n",
              "      <th>year_deaths</th>\n",
              "    </tr>\n",
              "  </thead>\n",
              "  <tbody>\n",
              "    <tr>\n",
              "      <th>0</th>\n",
              "      <td>1</td>\n",
              "      <td>Albania</td>\n",
              "      <td>1992</td>\n",
              "      <td>11.433333</td>\n",
              "      <td>Albania-1992</td>\n",
              "      <td>7.09</td>\n",
              "      <td>5792</td>\n",
              "    </tr>\n",
              "    <tr>\n",
              "      <th>1</th>\n",
              "      <td>2</td>\n",
              "      <td>Albania</td>\n",
              "      <td>1993</td>\n",
              "      <td>11.350000</td>\n",
              "      <td>Albania-1993</td>\n",
              "      <td>7.03</td>\n",
              "      <td>6028</td>\n",
              "    </tr>\n",
              "    <tr>\n",
              "      <th>2</th>\n",
              "      <td>3</td>\n",
              "      <td>Albania</td>\n",
              "      <td>1994</td>\n",
              "      <td>12.333333</td>\n",
              "      <td>Albania-1994</td>\n",
              "      <td>7.87</td>\n",
              "      <td>4636</td>\n",
              "    </tr>\n",
              "    <tr>\n",
              "      <th>3</th>\n",
              "      <td>4</td>\n",
              "      <td>Albania</td>\n",
              "      <td>1995</td>\n",
              "      <td>11.175000</td>\n",
              "      <td>Albania-1995</td>\n",
              "      <td>7.63</td>\n",
              "      <td>4820</td>\n",
              "    </tr>\n",
              "    <tr>\n",
              "      <th>4</th>\n",
              "      <td>5</td>\n",
              "      <td>Albania</td>\n",
              "      <td>1996</td>\n",
              "      <td>10.966667</td>\n",
              "      <td>Albania-1996</td>\n",
              "      <td>7.36</td>\n",
              "      <td>4488</td>\n",
              "    </tr>\n",
              "  </tbody>\n",
              "</table>\n",
              "</div>"
            ],
            "text/plain": [
              "   Unnamed: 0  country  year  ...            id tot_gas  year_deaths\n",
              "0           1  Albania  1992  ...  Albania-1992    7.09         5792\n",
              "1           2  Albania  1993  ...  Albania-1993    7.03         6028\n",
              "2           3  Albania  1994  ...  Albania-1994    7.87         4636\n",
              "3           4  Albania  1995  ...  Albania-1995    7.63         4820\n",
              "4           5  Albania  1996  ...  Albania-1996    7.36         4488\n",
              "\n",
              "[5 rows x 7 columns]"
            ]
          },
          "metadata": {
            "tags": []
          },
          "execution_count": 12
        }
      ]
    },
    {
      "cell_type": "code",
      "metadata": {
        "id": "V2fLWdIZjE7s"
      },
      "source": [
        ""
      ],
      "execution_count": null,
      "outputs": []
    }
  ]
}