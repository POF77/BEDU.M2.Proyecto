{
 "cells": [
  {
   "cell_type": "markdown",
   "metadata": {
    "colab_type": "text",
    "id": "view-in-github"
   },
   "source": [
    "<a href=\"https://colab.research.google.com/github/POF77/Proyecto.BEDU.ModuloII/blob/main/Proyecto_BEDU.ipynb\" target=\"_parent\"><img src=\"https://colab.research.google.com/assets/colab-badge.svg\" alt=\"Open In Colab\"/></a>"
   ]
  },
  {
   "cell_type": "markdown",
   "metadata": {
    "id": "p6dP3QR4kEKa"
   },
   "source": [
    "# Módulo 3: **Procesamiento de Datos con Python**\n",
    "## Proyecto Final\n",
    "### Equipo:\n",
    "- Edgar Israel Casanova Cardoz\n",
    "- Omar Garduza\n",
    "- Lizzeth Gómez Rodríguez\n",
    "- Paul O'Hea Flores\n",
    "- Alan Sandoval\n",
    "-p"
   ]
  },
  {
   "cell_type": "markdown",
   "metadata": {
    "id": "Sd905bRglQiq"
   },
   "source": [
    "# **IMPACTO DEL CAMBIO CLIMÁTICO EN LA SALUD PÚBLICA**\n",
    "\n",
    "## 1. Identificación del Problema\n",
    "- Impacto del cambio climático sobre las enfermedades respiratorias en países de la OCDE\n",
    "\n",
    "## 2. Investigación y justificación del problema\n",
    "<p align = justify>\n",
    "El Cambio Climático es un problema de años pero que hoy en día se encuentra agudizado y que a su vez ha alterado drásticamente la biodiversidad del planeta, lo cual favorece la transmisión de patógenos causantes de enfermedades, particularmente aquellas relacionadas con las olas de calor, la falta de agua potable, la reproducción de plagas y las inundaciones.\n",
    "\n",
    "<p align = justify>\n",
    "En este sentido, la población más afectada es aquella que carece de infraestructura salubre adecuada, en combinación con otros factores como las condiciones vulnerables de vivienda y una mala alimentación. Dicha población se puede encontrar con mayor abundancia en países en vías de desarrollo. Por lo anterior, es importante tomar acción sobre los efectos negativos que puede causar el Cambio Climático sobre la salud pública.\n",
    "\n",
    "<p align = justify>\n",
    "Organizaciones internacionales como Greenpeace, el Intergovernmental Panel on Climate Change (IPCC) y la Organización Mundial de la Salud (OMS) han presentado estudios respecto a la gravedad que puede presentar el cambio climático sobre la salud pública; y se sabe que, entre los principales gases de efecto invernadero se encuentran el dióxido de carbono (CO2), el metano (CH4), el óxido nitroso(N2O) y el ozono (O3).\n"
   ]
  },
  {
   "cell_type": "markdown",
   "metadata": {
    "id": "hPW4rc_ooDaC"
   },
   "source": [
    "## 3. Preguntas de Investigación\n",
    "- ¿Cuál es el impacto del cambio climático sobre la salud?\n",
    "- ¿Qué relación existe entre el cambio climático, la contaminación del aire, el incremento de la temperatura y la intensificación de enfermedades respiratorias, de salud mental, gastrointestinales y cardiacas?\n",
    "- ¿Qué relación existe entre el cambio climático y la aparición de nuevas enfermedades o virus?\n",
    "- ¿Qué tipo de actividades afectan de manera negativa el cambio climático?\n",
    "- ¿Qué enfermedad presenta la mayor correlación con el cambio climático?\n",
    "- ¿Qué países se encuentran mayormente afectados por el cambio climático, los desarrollados o aquellos en vías de desarrollo?\n",
    "- ¿Qué países contribuyen más al cambio climático, los de mayor o menor afectación?\n",
    "\n",
    "### Información Disponible (Modificar con la nueva base)\n",
    "<p align = justify>\n",
    "Los datos para el presente análisis se han obtenido de dos fuentes de información disponibles, por un lado, los datos del IPCC nos permiten cuantificar los niveles del cambio climático, cuyos disponibles van de 1996 a 2019, las variables a utilizar son los gases de efecto invernadero ya mencionados anteriormente:  CO2, CH4, N2O y O3. Por otro lado, se utilizan datos de la OMS para cuantificar las defunciones cuyas causas son enfermedades respiratorias."
   ]
  },
  {
   "cell_type": "code",
   "execution_count": 1,
   "metadata": {
    "id": "H12hTg2Rg8Vj"
   },
   "outputs": [],
   "source": [
    "# Importación de los paquetes necesarios para el análisis\n",
    "import pandas as pd\n",
    "import numpy as np"
   ]
  },
  {
   "cell_type": "markdown",
   "metadata": {
    "id": "QG8I0zEwnREU"
   },
   "source": [
    "### Cargado y exploración de los datos"
   ]
  },
  {
   "cell_type": "code",
   "execution_count": 10,
   "metadata": {
    "colab": {
     "base_uri": "https://localhost:8080/",
     "height": 204
    },
    "id": "Odb0Q-ZMhHrO",
    "outputId": "6c78c01a-e9c2-4eb9-a554-bbffcbee389f",
    "scrolled": true
   },
   "outputs": [
    {
     "data": {
      "text/html": [
       "<div>\n",
       "<style scoped>\n",
       "    .dataframe tbody tr th:only-of-type {\n",
       "        vertical-align: middle;\n",
       "    }\n",
       "\n",
       "    .dataframe tbody tr th {\n",
       "        vertical-align: top;\n",
       "    }\n",
       "\n",
       "    .dataframe thead th {\n",
       "        text-align: right;\n",
       "    }\n",
       "</style>\n",
       "<table border=\"1\" class=\"dataframe\">\n",
       "  <thead>\n",
       "    <tr style=\"text-align: right;\">\n",
       "      <th></th>\n",
       "      <th>Unnamed: 0</th>\n",
       "      <th>country</th>\n",
       "      <th>year</th>\n",
       "      <th>id</th>\n",
       "      <th>tot_gas</th>\n",
       "      <th>all_gas</th>\n",
       "      <th>ch4</th>\n",
       "      <th>co2</th>\n",
       "      <th>fgas</th>\n",
       "      <th>n2o</th>\n",
       "      <th>mean_year_tempeC</th>\n",
       "      <th>year_deaths</th>\n",
       "    </tr>\n",
       "  </thead>\n",
       "  <tbody>\n",
       "    <tr>\n",
       "      <th>0</th>\n",
       "      <td>1</td>\n",
       "      <td>Afghanistan</td>\n",
       "      <td>1900</td>\n",
       "      <td>Afghanistan-1900</td>\n",
       "      <td>NaN</td>\n",
       "      <td>NaN</td>\n",
       "      <td>NaN</td>\n",
       "      <td>NaN</td>\n",
       "      <td>NaN</td>\n",
       "      <td>NaN</td>\n",
       "      <td>NaN</td>\n",
       "      <td>NaN</td>\n",
       "    </tr>\n",
       "    <tr>\n",
       "      <th>1</th>\n",
       "      <td>2</td>\n",
       "      <td>Afghanistan</td>\n",
       "      <td>1901</td>\n",
       "      <td>Afghanistan-1901</td>\n",
       "      <td>NaN</td>\n",
       "      <td>NaN</td>\n",
       "      <td>NaN</td>\n",
       "      <td>NaN</td>\n",
       "      <td>NaN</td>\n",
       "      <td>NaN</td>\n",
       "      <td>12.991667</td>\n",
       "      <td>NaN</td>\n",
       "    </tr>\n",
       "    <tr>\n",
       "      <th>2</th>\n",
       "      <td>3</td>\n",
       "      <td>Afghanistan</td>\n",
       "      <td>1902</td>\n",
       "      <td>Afghanistan-1902</td>\n",
       "      <td>NaN</td>\n",
       "      <td>NaN</td>\n",
       "      <td>NaN</td>\n",
       "      <td>NaN</td>\n",
       "      <td>NaN</td>\n",
       "      <td>NaN</td>\n",
       "      <td>13.175000</td>\n",
       "      <td>NaN</td>\n",
       "    </tr>\n",
       "    <tr>\n",
       "      <th>3</th>\n",
       "      <td>4</td>\n",
       "      <td>Afghanistan</td>\n",
       "      <td>1903</td>\n",
       "      <td>Afghanistan-1903</td>\n",
       "      <td>NaN</td>\n",
       "      <td>NaN</td>\n",
       "      <td>NaN</td>\n",
       "      <td>NaN</td>\n",
       "      <td>NaN</td>\n",
       "      <td>NaN</td>\n",
       "      <td>12.008333</td>\n",
       "      <td>NaN</td>\n",
       "    </tr>\n",
       "    <tr>\n",
       "      <th>4</th>\n",
       "      <td>5</td>\n",
       "      <td>Afghanistan</td>\n",
       "      <td>1904</td>\n",
       "      <td>Afghanistan-1904</td>\n",
       "      <td>NaN</td>\n",
       "      <td>NaN</td>\n",
       "      <td>NaN</td>\n",
       "      <td>NaN</td>\n",
       "      <td>NaN</td>\n",
       "      <td>NaN</td>\n",
       "      <td>12.458333</td>\n",
       "      <td>NaN</td>\n",
       "    </tr>\n",
       "  </tbody>\n",
       "</table>\n",
       "</div>"
      ],
      "text/plain": [
       "   Unnamed: 0      country  year                id  tot_gas  all_gas  ch4  \\\n",
       "0           1  Afghanistan  1900  Afghanistan-1900      NaN      NaN  NaN   \n",
       "1           2  Afghanistan  1901  Afghanistan-1901      NaN      NaN  NaN   \n",
       "2           3  Afghanistan  1902  Afghanistan-1902      NaN      NaN  NaN   \n",
       "3           4  Afghanistan  1903  Afghanistan-1903      NaN      NaN  NaN   \n",
       "4           5  Afghanistan  1904  Afghanistan-1904      NaN      NaN  NaN   \n",
       "\n",
       "   co2  fgas  n2o  mean_year_tempeC  year_deaths  \n",
       "0  NaN   NaN  NaN               NaN          NaN  \n",
       "1  NaN   NaN  NaN         12.991667          NaN  \n",
       "2  NaN   NaN  NaN         13.175000          NaN  \n",
       "3  NaN   NaN  NaN         12.008333          NaN  \n",
       "4  NaN   NaN  NaN         12.458333          NaN  "
      ]
     },
     "execution_count": 10,
     "metadata": {},
     "output_type": "execute_result"
    }
   ],
   "source": [
    "# Leemos el archivo csv que contiene los niveles de gases de efecto invernader, la temperatura y los fallecimientos por países.\n",
    "# Guerdamos el archivo en el objeto \"df\"\n",
    "df = pd.read_csv(\"https://raw.githubusercontent.com/POF77/Proyecto.BEDU.ModuloII/main/Datos_nuevos/datos_brutos.csv\") #Modificar con la nueva base\n",
    "df.head()"
   ]
  },
  {
   "cell_type": "markdown",
   "metadata": {
    "id": "V2fLWdIZjE7s"
   },
   "source": [
    "## 4. Exploración de datos\n",
    "El conjunto de datos nos sirve para ver la relación entre el cambio climático y las muertes provocadas a causa de una enfermedad respiratoria. "
   ]
  },
  {
   "cell_type": "code",
   "execution_count": 11,
   "metadata": {},
   "outputs": [
    {
     "data": {
      "text/plain": [
       "(27978, 12)"
      ]
     },
     "execution_count": 11,
     "metadata": {},
     "output_type": "execute_result"
    }
   ],
   "source": [
    "df.shape"
   ]
  },
  {
   "cell_type": "markdown",
   "metadata": {},
   "source": [
    "- Podemos observar de igual manera que el tamaño del dataset es de 27978 filas por 12 columnas, lo cuál teniendo en cuenta de que son 36 paises miembros de la OCDE, podemos ver que tenemos un numero moderado de datos\n",
    "- Las columnas con las que cuenta el dataset son país, año, id, total de gases, todos los gases, emisiones de metano, emisiones de dióxido de carbono, emisiones de gases Fluoruro, emisiones de Nitrógeno, temperatura promedio en grados Celsius, número de muertes en dicho año por enfermedades respiratorias\n",
    "\n",
    "- Podemos notar que el nombre de las columnas que presenta nuestro dataset, no es el más apropiado, ya que columnas como 'Unnamed:0' o  tot_gas y all_gas pueden confundirse en su interpretación\n"
   ]
  },
  {
   "cell_type": "code",
   "execution_count": 12,
   "metadata": {},
   "outputs": [
    {
     "data": {
      "text/plain": [
       "Unnamed: 0            int64\n",
       "country              object\n",
       "year                  int64\n",
       "id                   object\n",
       "tot_gas             float64\n",
       "all_gas             float64\n",
       "ch4                 float64\n",
       "co2                 float64\n",
       "fgas                float64\n",
       "n2o                 float64\n",
       "mean_year_tempeC    float64\n",
       "year_deaths         float64\n",
       "dtype: object"
      ]
     },
     "execution_count": 12,
     "metadata": {},
     "output_type": "execute_result"
    }
   ],
   "source": [
    "df.dtypes"
   ]
  },
  {
   "cell_type": "markdown",
   "metadata": {},
   "source": [
    "- Podemos observar el tipo de datos de las columnas de nuestro conjunto de datos, vemos que el id es un string que se interpreta como objeto así como el país, los demás valores son valores numéricos enteros y flotantes, también podemos usar la función df.info() para obtener información de las columnas"
   ]
  },
  {
   "cell_type": "code",
   "execution_count": 9,
   "metadata": {},
   "outputs": [
    {
     "name": "stdout",
     "output_type": "stream",
     "text": [
      "<class 'pandas.core.frame.DataFrame'>\n",
      "RangeIndex: 1435 entries, 0 to 1434\n",
      "Data columns (total 12 columns):\n",
      " #   Column            Non-Null Count  Dtype  \n",
      "---  ------            --------------  -----  \n",
      " 0   Unnamed: 0        1435 non-null   int64  \n",
      " 1   country           1435 non-null   object \n",
      " 2   year              1435 non-null   int64  \n",
      " 3   id                1435 non-null   object \n",
      " 4   tot_gas           1435 non-null   float64\n",
      " 5   all_gas           1435 non-null   float64\n",
      " 6   ch4               1435 non-null   float64\n",
      " 7   co2               1435 non-null   float64\n",
      " 8   fgas              1435 non-null   float64\n",
      " 9   n2o               1435 non-null   float64\n",
      " 10  mean_year_tempeC  1435 non-null   float64\n",
      " 11  year_deaths       1435 non-null   int64  \n",
      "dtypes: float64(7), int64(3), object(2)\n",
      "memory usage: 134.7+ KB\n"
     ]
    }
   ],
   "source": [
    "df.info()"
   ]
  },
  {
   "cell_type": "markdown",
   "metadata": {},
   "source": [
    "- De igual manera podemos darnos cuenta de que existen varios NA's en nuestro dataset, esto dificulta la obtención de datos ya que hay muchos países con los cuáles algunas columnas no tenemos registro de muertes o emisiones, incluso de su temperatura."
   ]
  },
  {
   "cell_type": "code",
   "execution_count": 13,
   "metadata": {},
   "outputs": [
    {
     "data": {
      "text/plain": [
       "array(['Afghanistan', 'Albania', 'Algeria', 'Andorra', 'Angola',\n",
       "       'Antigua and Barbuda', 'Argentina', 'Armenia', 'Australia',\n",
       "       'Austria', 'Azerbaijan', 'Bahamas', 'Bahrain', 'Bangladesh',\n",
       "       'Barbados', 'Belarus', 'Belgium', 'Belize', 'Benin', 'Bhutan',\n",
       "       'Bolivia', 'Bosnia and Herzegovina', 'Botswana', 'Brazil',\n",
       "       'Brunei', 'Bulgaria', 'Burkina Faso', 'Burundi', 'Cambodia',\n",
       "       'Cameroon', 'Canada', 'Cape Verde', 'Central African Republic',\n",
       "       'Chad', 'Chile', 'China', 'Colombia', 'Comoros',\n",
       "       'Congo (Democratic Republic of the)', 'Congo (Republic of the)',\n",
       "       'Cook Islands', 'Costa Rica', \"Cote d'Ivoire\", 'Croatia', 'Cuba',\n",
       "       'Cyprus', 'Czech Republic', 'Denmark', 'Djibouti', 'Dominica',\n",
       "       'Dominican Republic', 'Ecuador', 'Egypt', 'El Salvador',\n",
       "       'Equatorial Guinea', 'Eritrea', 'Estonia', 'Eswatini', 'Ethiopia',\n",
       "       'Faroe Islands', 'Federated States of Micronesia', 'Fiji',\n",
       "       'Finland', 'France', 'Gabon', 'Gambia', 'Georgia', 'Germany',\n",
       "       'Ghana', 'Greece', 'Greenland', 'Grenada', 'Guatemala', 'Guinea',\n",
       "       'Guinea-Bissau', 'Guyana', 'Haiti', 'Honduras', 'Hungary',\n",
       "       'Iceland', 'India', 'Indonesia', 'Iran', 'Iraq', 'Ireland',\n",
       "       'Israel', 'Italy', 'Jamaica', 'Japan', 'Jordan', 'Kazakhstan',\n",
       "       'Kenya', 'Kiribati', 'Korea', 'Kuwait', 'Kyrgyz Republic', 'Laos',\n",
       "       'Latvia', 'Lebanon', 'Lesotho', 'Liberia', 'Libya',\n",
       "       'Liechtenstein', 'Lithuania', 'Luxembourg', 'Macedonia',\n",
       "       'Madagascar', 'Malawi', 'Malaysia', 'Maldives', 'Mali', 'Malta',\n",
       "       'Marshall Islands', 'Mauritania', 'Mauritius', 'Mexico', 'Moldova',\n",
       "       'Monaco', 'Mongolia', 'Morocco', 'Mozambique', 'Myanmar (Burma)',\n",
       "       'Namibia', 'Nauru', 'Nepal', 'Netherlands', 'New Caledonia',\n",
       "       'New Zealand', 'Nicaragua', 'Niger', 'Nigeria',\n",
       "       'Northern Mariana Islands', 'Norway', 'Oman', 'Pakistan', 'Palau',\n",
       "       'Panama', 'Papua New Guinea', 'Paraguay', 'Peru', 'Philippines',\n",
       "       'Poland', 'Portugal', 'Puerto Rico', 'Qatar',\n",
       "       'Republic of Montenegro', 'Republic of Serbia', 'Romania',\n",
       "       'Russia', 'Rwanda', 'Samoa', 'Sao Tome and Principe',\n",
       "       'Saudi Arabia', 'Senegal', 'Seychelles', 'Sierra Leone',\n",
       "       'Singapore', 'Slovakia', 'Slovenia', 'Solomon Islands', 'Somalia',\n",
       "       'South Africa', 'South Sudan', 'Spain', 'Sri Lanka',\n",
       "       'St. Kitts and Nevis', 'St. Lucia',\n",
       "       'St. Vincent and the Grenadines', 'Sudan', 'Suriname', 'Sweden',\n",
       "       'Switzerland', 'Syria', 'Tajikistan', 'Tanzania', 'Thailand',\n",
       "       'Timor Leste', 'Togo', 'Tonga', 'Trinidad and Tobago', 'Tunisia',\n",
       "       'Turkey', 'Turkmenistan', 'Tuvalu', 'Uganda', 'Ukraine',\n",
       "       'United Arab Emirates', 'United Kingdom', 'United States',\n",
       "       'Uruguay', 'Uzbekistan', 'Vanuatu', 'Venezuela', 'Vietnam',\n",
       "       'Yemen', 'Zambia', 'Zimbabwe'], dtype=object)"
      ]
     },
     "execution_count": 13,
     "metadata": {},
     "output_type": "execute_result"
    }
   ],
   "source": [
    "df['country'].unique()"
   ]
  },
  {
   "cell_type": "code",
   "execution_count": 14,
   "metadata": {},
   "outputs": [
    {
     "data": {
      "text/plain": [
       "197"
      ]
     },
     "execution_count": 14,
     "metadata": {},
     "output_type": "execute_result"
    }
   ],
   "source": [
    "len(df['country'].unique())"
   ]
  },
  {
   "cell_type": "markdown",
   "metadata": {},
   "source": [
    "Podemos ver que tenemos cerca de 200 paises en nuestro conjunto de datos, los cuales deberán ser limpiados para obtener realmente los datos de los países con registros de mediciones"
   ]
  }
 ],
 "metadata": {
  "colab": {
   "authorship_tag": "ABX9TyMfYBUkUkW9cu7rvUFEAjyk",
   "include_colab_link": true,
   "name": "Proyecto_BEDU.ipynb",
   "provenance": []
  },
  "kernelspec": {
   "display_name": "Python 3",
   "language": "python",
   "name": "python3"
  },
  "language_info": {
   "codemirror_mode": {
    "name": "ipython",
    "version": 3
   },
   "file_extension": ".py",
   "mimetype": "text/x-python",
   "name": "python",
   "nbconvert_exporter": "python",
   "pygments_lexer": "ipython3",
   "version": "3.8.8"
  }
 },
 "nbformat": 4,
 "nbformat_minor": 1
}
