{
  "nbformat": 4,
  "nbformat_minor": 0,
  "metadata": {
    "colab": {
      "name": "Proyecto_BEDU.ipynb",
      "provenance": [],
      "include_colab_link": true
    },
    "kernelspec": {
      "display_name": "Python 3",
      "language": "python",
      "name": "python3"
    },
    "language_info": {
      "codemirror_mode": {
        "name": "ipython",
        "version": 3
      },
      "file_extension": ".py",
      "mimetype": "text/x-python",
      "name": "python",
      "nbconvert_exporter": "python",
      "pygments_lexer": "ipython3",
      "version": "3.8.8"
    }
  },
  "cells": [
    {
      "cell_type": "markdown",
      "metadata": {
        "id": "view-in-github",
        "colab_type": "text"
      },
      "source": [
        "<a href=\"https://colab.research.google.com/github/POF77/Proyecto.BEDU.ModuloII/blob/new_update/Proyecto_BEDU.ipynb\" target=\"_parent\"><img src=\"https://colab.research.google.com/assets/colab-badge.svg\" alt=\"Open In Colab\"/></a>"
      ]
    },
    {
      "cell_type": "markdown",
      "metadata": {
        "id": "p6dP3QR4kEKa"
      },
      "source": [
        "# Módulo 3: **Procesamiento de Datos con Python**\n",
        "## Proyecto Final\n",
        "### Equipo:\n",
        "- Edgar Israel Casanova Cardoz\n",
        "- Omar Garduza\n",
        "- Lizzeth Gómez Rodríguez\n",
        "- Paul O'Hea Flores\n",
        "- Alan Sandoval"
      ]
    },
    {
      "cell_type": "markdown",
      "metadata": {
        "id": "Sd905bRglQiq"
      },
      "source": [
        "# **IMPACTO DEL CAMBIO CLIMÁTICO EN LA SALUD PÚBLICA**\n",
        "\n",
        "## 1. Identificación del Problema\n",
        "- Impacto del cambio climático sobre las enfermedades respiratorias en países de la OCDE\n",
        "\n",
        "## 2. Investigación y justificación del problema\n",
        "<p align = justify>\n",
        "El Cambio Climático es un problema de años pero que hoy en día se encuentra agudizado y que a su vez ha alterado drásticamente la biodiversidad del planeta, lo cual favorece la transmisión de patógenos causantes de enfermedades, particularmente aquellas relacionadas con las olas de calor, la falta de agua potable, la reproducción de plagas y las inundaciones.\n",
        "\n",
        "<p align = justify>\n",
        "En este sentido, la población más afectada es aquella que carece de infraestructura salubre adecuada, en combinación con otros factores como las condiciones vulnerables de vivienda y una mala alimentación. Dicha población se puede encontrar con mayor abundancia en países en vías de desarrollo. En ese sentido y dada la disponibilidad de los datos, el presente estudio se realiza tomando en cuenta los países de la OCDE.\n",
        "\n",
        "<p align = justify>\n",
        "Asimiso, organizaciones internacionales como Greenpeace, el Intergovernmental Panel on Climate Change (IPCC) y la Organización Mundial de la Salud (OMS) han presentado estudios respecto a la gravedad que puede presentar el cambio climático sobre la salud pública, por lo que es importante tomar acción respecto al tema y entender mejor las causas para poder mitigar los efectos sobre la salud. Por su parte, se sabe que, entre los principales gases de efecto invernadero se encuentran el dióxido de carbono (CO2), el metano (CH4), el óxido nitroso(N2O) y el ozono (O3).\n"
      ]
    },
    {
      "cell_type": "markdown",
      "metadata": {
        "id": "hPW4rc_ooDaC"
      },
      "source": [
        "## 3. Preguntas de Investigación\n",
        "- ¿Cuál es el impacto del cambio climático sobre la salud?\n",
        "- ¿Qué relación existe entre el cambio climático, la contaminación del aire, el incremento de la temperatura y la intensificación de enfermedades respiratorias, de salud mental, gastrointestinales y cardiacas?\n",
        "- ¿Qué relación existe entre el cambio climático y la aparición de nuevas enfermedades o virus?\n",
        "- ¿Qué tipo de actividades afectan de manera negativa el cambio climático?\n",
        "- ¿Qué enfermedad presenta la mayor correlación con el cambio climático?\n",
        "- ¿Qué países se encuentran mayormente afectados por el cambio climático, los desarrollados o aquellos en vías de desarrollo?\n",
        "- ¿Qué países contribuyen más al cambio climático, los de mayor o menor afectación?\n",
        "\n",
        "### Información Disponible\n",
        "Los datos para el presente análisis se han obtenido de dos fuentes de información disponibles, por un lado, los datos del [Climate Watch](https://www.climatewatchdata.org/data-explorer/historical-emissions?historical-emissions-data-sources=cait&historical-emissions-gases=all-ghg&historical-emissions-regions=All%20Selected&historical-emissions-sectors=total-including-lucf&page=1) que nos permiten cuantificar los niveles de los gases que afectan al cambio climático, cuyos datos disponibles van de 1996 a 2019. Las variables que se toman en consideración son los gases de efecto invernadero ya mencionados anteriormente:  CO2, CH4, N2O y O3. Por otro lado, para cuantificar el efectos de estos gases sobre la salud se utilizan los datos de la [Universidad de Oxford](\"https://ourworldindata.org/grapher/respiratory-disease-death-rate?tab=chart\"), que es un compilado de las muertes por enfermedades respiratorias crónicas, cuyos años disponibles van desde 1990 a 2017. Estos datos se encuentran en el [Global Health Exchange](http://ghdx.healthdata.org/gbd-results-tool).En este estudio se utilizan los países de la OCDE como se mencionó anteriormente. Respecto a la cuantificación de la temperatura se utiliza **(PREGUNTAR A PAUL)**"
      ]
    },
    {
      "cell_type": "code",
      "metadata": {
        "id": "H12hTg2Rg8Vj"
      },
      "source": [
        "# Importación de los paquetes necesarios para el análisis\n",
        "import pandas as pd\n",
        "import numpy as np"
      ],
      "execution_count": 26,
      "outputs": []
    },
    {
      "cell_type": "markdown",
      "metadata": {
        "id": "QG8I0zEwnREU"
      },
      "source": [
        "### Cargado y exploración de los datos"
      ]
    },
    {
      "cell_type": "code",
      "metadata": {
        "kernelspec": {
          "display_name": "Python 3",
          "language": "python",
          "name": "python3"
        },
        "language_info": {
          "codemirror_mode": {
            "name": "ipython",
            "version": 3
          },
          "file_extension": ".py",
          "mimetype": "text/x-python",
          "name": "python",
          "nbconvert_exporter": "python",
          "pygments_lexer": "ipython3",
          "version": "3.8.8"
        },
        "id": "Ioomb8F18Du1",
        "colab": {
          "base_uri": "https://localhost:8080/",
          "height": 241
        },
        "outputId": "3bfbde0f-7f5c-4920-bfc8-abe2f85f2410"
      },
      "source": [
        "# Leemos el archivo csv que contiene los niveles de gases de efecto invernader, la temperatura y los fallecimientos por países.\n",
        "# Guardamos el archivo\n",
        "df = pd.read_csv(\"https://raw.githubusercontent.com/POF77/Proyecto.BEDU.ModuloII/main/Datos_nuevos/bruteData.csv\")\n",
        "df_original = df.copy()\n",
        "df.head()"
      ],
      "execution_count": 82,
      "outputs": [
        {
          "output_type": "execute_result",
          "data": {
            "text/html": [
              "<div>\n",
              "<style scoped>\n",
              "    .dataframe tbody tr th:only-of-type {\n",
              "        vertical-align: middle;\n",
              "    }\n",
              "\n",
              "    .dataframe tbody tr th {\n",
              "        vertical-align: top;\n",
              "    }\n",
              "\n",
              "    .dataframe thead th {\n",
              "        text-align: right;\n",
              "    }\n",
              "</style>\n",
              "<table border=\"1\" class=\"dataframe\">\n",
              "  <thead>\n",
              "    <tr style=\"text-align: right;\">\n",
              "      <th></th>\n",
              "      <th>country</th>\n",
              "      <th>year</th>\n",
              "      <th>iso3</th>\n",
              "      <th>health_measure</th>\n",
              "      <th>sex</th>\n",
              "      <th>respiratory_infections_and_tuberculosis</th>\n",
              "      <th>chronic_respiratory_diseases</th>\n",
              "      <th>ClimateSource</th>\n",
              "      <th>climate_units</th>\n",
              "      <th>sector</th>\n",
              "      <th>allghg</th>\n",
              "      <th>co2</th>\n",
              "      <th>ch4</th>\n",
              "      <th>n2o</th>\n",
              "      <th>fgas</th>\n",
              "      <th>mean_annual_tempC</th>\n",
              "    </tr>\n",
              "  </thead>\n",
              "  <tbody>\n",
              "    <tr>\n",
              "      <th>0</th>\n",
              "      <td>Bangladesh</td>\n",
              "      <td>1990</td>\n",
              "      <td>NaN</td>\n",
              "      <td>Deaths</td>\n",
              "      <td>Both</td>\n",
              "      <td>195547.33644</td>\n",
              "      <td>61136.67886</td>\n",
              "      <td>NaN</td>\n",
              "      <td>NaN</td>\n",
              "      <td>NaN</td>\n",
              "      <td>NaN</td>\n",
              "      <td>NaN</td>\n",
              "      <td>NaN</td>\n",
              "      <td>NaN</td>\n",
              "      <td>NaN</td>\n",
              "      <td>NaN</td>\n",
              "    </tr>\n",
              "    <tr>\n",
              "      <th>1</th>\n",
              "      <td>Lesotho</td>\n",
              "      <td>1990</td>\n",
              "      <td>NaN</td>\n",
              "      <td>Deaths</td>\n",
              "      <td>Both</td>\n",
              "      <td>3378.15120</td>\n",
              "      <td>999.76491</td>\n",
              "      <td>NaN</td>\n",
              "      <td>NaN</td>\n",
              "      <td>NaN</td>\n",
              "      <td>NaN</td>\n",
              "      <td>NaN</td>\n",
              "      <td>NaN</td>\n",
              "      <td>NaN</td>\n",
              "      <td>NaN</td>\n",
              "      <td>NaN</td>\n",
              "    </tr>\n",
              "    <tr>\n",
              "      <th>2</th>\n",
              "      <td>Timor-Leste</td>\n",
              "      <td>1990</td>\n",
              "      <td>NaN</td>\n",
              "      <td>Deaths</td>\n",
              "      <td>Both</td>\n",
              "      <td>1819.67578</td>\n",
              "      <td>244.29447</td>\n",
              "      <td>NaN</td>\n",
              "      <td>NaN</td>\n",
              "      <td>NaN</td>\n",
              "      <td>NaN</td>\n",
              "      <td>NaN</td>\n",
              "      <td>NaN</td>\n",
              "      <td>NaN</td>\n",
              "      <td>NaN</td>\n",
              "      <td>NaN</td>\n",
              "    </tr>\n",
              "    <tr>\n",
              "      <th>3</th>\n",
              "      <td>Lebanon</td>\n",
              "      <td>1990</td>\n",
              "      <td>NaN</td>\n",
              "      <td>Deaths</td>\n",
              "      <td>Both</td>\n",
              "      <td>743.06088</td>\n",
              "      <td>694.74642</td>\n",
              "      <td>NaN</td>\n",
              "      <td>NaN</td>\n",
              "      <td>NaN</td>\n",
              "      <td>NaN</td>\n",
              "      <td>NaN</td>\n",
              "      <td>NaN</td>\n",
              "      <td>NaN</td>\n",
              "      <td>NaN</td>\n",
              "      <td>NaN</td>\n",
              "    </tr>\n",
              "    <tr>\n",
              "      <th>4</th>\n",
              "      <td>Liberia</td>\n",
              "      <td>1990</td>\n",
              "      <td>NaN</td>\n",
              "      <td>Deaths</td>\n",
              "      <td>Both</td>\n",
              "      <td>5889.69301</td>\n",
              "      <td>436.66879</td>\n",
              "      <td>NaN</td>\n",
              "      <td>NaN</td>\n",
              "      <td>NaN</td>\n",
              "      <td>NaN</td>\n",
              "      <td>NaN</td>\n",
              "      <td>NaN</td>\n",
              "      <td>NaN</td>\n",
              "      <td>NaN</td>\n",
              "      <td>NaN</td>\n",
              "    </tr>\n",
              "  </tbody>\n",
              "</table>\n",
              "</div>"
            ],
            "text/plain": [
              "       country  year iso3 health_measure  ... ch4  n2o  fgas mean_annual_tempC\n",
              "0   Bangladesh  1990  NaN         Deaths  ... NaN  NaN   NaN               NaN\n",
              "1      Lesotho  1990  NaN         Deaths  ... NaN  NaN   NaN               NaN\n",
              "2  Timor-Leste  1990  NaN         Deaths  ... NaN  NaN   NaN               NaN\n",
              "3      Lebanon  1990  NaN         Deaths  ... NaN  NaN   NaN               NaN\n",
              "4      Liberia  1990  NaN         Deaths  ... NaN  NaN   NaN               NaN\n",
              "\n",
              "[5 rows x 16 columns]"
            ]
          },
          "metadata": {
            "tags": []
          },
          "execution_count": 82
        }
      ]
    },
    {
      "cell_type": "markdown",
      "metadata": {
        "id": "hOYapcuc8Du6"
      },
      "source": [
        "## 4. Exploración de datos\n",
        "El conjunto de datos nos sirve para ver la relación entre el cambio climático y las muertes provocadas a causa de una enfermedad respiratoria.\n",
        "\n",
        "A continuación observemos la estructura de los datos"
      ]
    },
    {
      "cell_type": "code",
      "metadata": {
        "id": "5QRGsHnW8Du7",
        "outputId": "cfe5542b-e34c-4c27-870d-8374672ec8f2",
        "colab": {
          "base_uri": "https://localhost:8080/"
        }
      },
      "source": [
        "df.shape"
      ],
      "execution_count": 83,
      "outputs": [
        {
          "output_type": "execute_result",
          "data": {
            "text/plain": [
              "(21356, 16)"
            ]
          },
          "metadata": {
            "tags": []
          },
          "execution_count": 83
        }
      ]
    },
    {
      "cell_type": "markdown",
      "metadata": {
        "id": "NxMkPJom8Du9"
      },
      "source": [
        "Podemos observar que el tamaño del dataset es de 21,356 filas y 16 columnas, lo cuál tomando en cuenta que son 36 países miembros de la OCDE, y que por cada país tenemos un histórico de datos aproximado de 30 años desde 1990 hasta 2019, podemos ver que tenemos conjunto completo de datos.\n",
        "\n",
        "Las columnas con las que cuenta el dataset son:\n",
        "1. País\n",
        "2. Año\n",
        "3. Iso3 (Abreviatura del país)\n",
        "4. Métrica de salud\n",
        "5. Sexo de la métrica\n",
        "6. Muertes por infecctiones respiratorias y tuberculosis\n",
        "7. Muertes por enfermedades respiratorias crónicas\n",
        "8. Fuente de los datos climáticos\n",
        "9. Unidades de métrica de datos climáticos\n",
        "10. Sector de medida de datos climáticos\n",
        "11. Total de gases de efecto invernadero\n",
        "12. Emisiones de dióxido de carbono(CO2)\n",
        "13. Emisiones de metano(CH4)\n",
        "14. Emisiones de Nitrógeno(N2O)\n",
        "15. Emisiones de gases Fluoruro(Fgas)\n",
        "16. Temperatura promedio en grados Celsius\n",
        "\n",
        "Observemos el nombre de las columnas que presenta nuestro dataset, algunas como como health_measure, climate_units,iso3, etc... no son entendibles al p´blico en general, por ser nombres técnicos que usan las personas que se dedican al estudio del cambio climático, gélogos entre otros del mismo gremio, por lo que es importante realizar algunos renombres en el conjunto de datos. "
      ]
    },
    {
      "cell_type": "code",
      "metadata": {
        "id": "lrTS1MZB8Du_",
        "outputId": "cb71b3c8-10ea-4f5c-939e-078c2f398a41",
        "colab": {
          "base_uri": "https://localhost:8080/"
        }
      },
      "source": [
        "df.dtypes"
      ],
      "execution_count": 84,
      "outputs": [
        {
          "output_type": "execute_result",
          "data": {
            "text/plain": [
              "country                                     object\n",
              "year                                         int64\n",
              "iso3                                        object\n",
              "health_measure                              object\n",
              "sex                                         object\n",
              "respiratory_infections_and_tuberculosis    float64\n",
              "chronic_respiratory_diseases               float64\n",
              "ClimateSource                               object\n",
              "climate_units                               object\n",
              "sector                                      object\n",
              "allghg                                     float64\n",
              "co2                                        float64\n",
              "ch4                                        float64\n",
              "n2o                                        float64\n",
              "fgas                                       float64\n",
              "mean_annual_tempC                          float64\n",
              "dtype: object"
            ]
          },
          "metadata": {
            "tags": []
          },
          "execution_count": 84
        }
      ]
    },
    {
      "cell_type": "markdown",
      "metadata": {
        "id": "3yONnPRA8DvD"
      },
      "source": [
        "Observando el tipo de datos de las columnas de nuestro conjunto de datos, nos damos cuenta que la mayoría de las columnas son datos de tipo flotante y objetos(por lo general este tipo de datos son asignados a los string), y únicamente la columna de año('year') son de datos enteros, también podemos usar la función df.info() para obtener información de las columnas."
      ]
    },
    {
      "cell_type": "code",
      "metadata": {
        "id": "SfQLPHg38DvE",
        "outputId": "80620709-f6c0-442a-cbe7-133d89eab88a",
        "colab": {
          "base_uri": "https://localhost:8080/"
        }
      },
      "source": [
        "df.info()"
      ],
      "execution_count": 85,
      "outputs": [
        {
          "output_type": "stream",
          "text": [
            "<class 'pandas.core.frame.DataFrame'>\n",
            "RangeIndex: 21356 entries, 0 to 21355\n",
            "Data columns (total 16 columns):\n",
            " #   Column                                   Non-Null Count  Dtype  \n",
            "---  ------                                   --------------  -----  \n",
            " 0   country                                  21356 non-null  object \n",
            " 1   year                                     21356 non-null  int64  \n",
            " 2   iso3                                     1914 non-null   object \n",
            " 3   health_measure                           21298 non-null  object \n",
            " 4   sex                                      21298 non-null  object \n",
            " 5   respiratory_infections_and_tuberculosis  21298 non-null  float64\n",
            " 6   chronic_respiratory_diseases             21298 non-null  float64\n",
            " 7   ClimateSource                            1914 non-null   object \n",
            " 8   climate_units                            1914 non-null   object \n",
            " 9   sector                                   1914 non-null   object \n",
            " 10  allghg                                   1914 non-null   float64\n",
            " 11  co2                                      1914 non-null   float64\n",
            " 12  ch4                                      1914 non-null   float64\n",
            " 13  n2o                                      1914 non-null   float64\n",
            " 14  fgas                                     1914 non-null   float64\n",
            " 15  mean_annual_tempC                        1914 non-null   float64\n",
            "dtypes: float64(8), int64(1), object(7)\n",
            "memory usage: 2.6+ MB\n"
          ],
          "name": "stdout"
        }
      ]
    },
    {
      "cell_type": "markdown",
      "metadata": {
        "id": "Ovr3WLuG8DvG"
      },
      "source": [
        "Con el método anterior nos damos cuenta de que existen varios NA's en nuestro dataset, lo cual complica la manipulación de los datos al haber países cuyas columnas no se tienen registro de muertes o emisiones, incluso de su temperatura. Sin embargo, no es de preocuparse siempre que se realice la limpieza correspondiente ya que estas omisiones se deben a que en la columna de países se encuentran registros que en relidad son estados y no países como \"Durango\", \"Iowa\", etc.\n"
      ]
    },
    {
      "cell_type": "code",
      "metadata": {
        "id": "Q02iX2AA8DvL",
        "outputId": "4e019e91-4b3f-4b45-ff39-82886a480390",
        "colab": {
          "base_uri": "https://localhost:8080/"
        }
      },
      "source": [
        "df['country'].unique()"
      ],
      "execution_count": 86,
      "outputs": [
        {
          "output_type": "execute_result",
          "data": {
            "text/plain": [
              "array(['Bangladesh', 'Lesotho', 'Timor-Leste', 'Lebanon', 'Liberia',\n",
              "       'Bhutan', 'Nicaragua', 'Viet Nam',\n",
              "       'Southeast Asia, East Asia, and Oceania', 'Libya', 'Eritrea',\n",
              "       'Mali', 'Sunderland', 'Nottingham', 'Ethiopia', 'India',\n",
              "       'Mauritania', 'Central Bedfordshire', 'Leicester', 'Bedford',\n",
              "       'Wiltshire', 'Hampshire', 'Greece', 'South Africa',\n",
              "       'Venezuela (Bolivarian Republic of)', 'Pakistan',\n",
              "       'United States Virgin Islands', 'Iraq', 'Nepal',\n",
              "       'Tropical Latin America', 'Niger', 'Camden', 'Indiana', 'Jamaica',\n",
              "       'Kuwait', 'Poole', 'Hounslow', 'Guinea', 'Hartlepool', 'Oman',\n",
              "       'North America', 'Iceland', 'Sub-Saharan Africa', 'Oxfordshire',\n",
              "       'Bermuda', 'Djibouti', 'Honduras', 'Eswatini', 'Hertfordshire',\n",
              "       'Israel', \"Democratic People's Republic of Korea\", 'Nigeria',\n",
              "       'Iowa', 'Herefordshire, County of', 'Botswana', 'Essex',\n",
              "       'Latin America and Caribbean', 'Ireland', 'Low-middle SDI',\n",
              "       'Haiti', 'Stockport', 'Madagascar', 'Sao Tome and Principe',\n",
              "       'Panama', 'Western Sub-Saharan Africa', 'Greenland', 'Solihull',\n",
              "       'Brunei Darussalam', 'Mauritius', 'Marshall Islands', 'Cambodia',\n",
              "       'Mozambique', 'Australasia', 'East Asia', 'Morocco', 'Malawi',\n",
              "       'Central Sub-Saharan Africa', 'Singapore', 'Senegal',\n",
              "       'Syrian Arab Republic', 'Saint Vincent and the Grenadines',\n",
              "       'South Asia', 'South Sudan', 'Taiwan (Province of China)', 'Kenya',\n",
              "       'Worcestershire', 'Louisiana', 'Trafford', 'Middle SDI', 'Brazil',\n",
              "       'Burkina Faso', 'Sierra Leone', 'Kentucky', 'Samoa', 'Indonesia',\n",
              "       'Barking and Dagenham', 'Western Europe', 'Suriname', 'Swindon',\n",
              "       'Togo', 'Malaysia', 'Thurrock', 'Darlington', 'Paraguay',\n",
              "       'Central African Republic', 'Coventry',\n",
              "       'Latin America & Caribbean - WB', 'Arkansas', 'Sefton', 'Norfolk',\n",
              "       'Malta', 'Guam', 'Staffordshire', 'Portugal', 'Rwanda',\n",
              "       'United Arab Emirates', 'Qatar', 'Massachusetts', 'Isle of Wight',\n",
              "       'Bahamas', 'Cumbria', 'Peterborough', 'New Zealand', 'Bournemouth',\n",
              "       'Sri Lanka', 'Algeria', 'Tunisia', 'Seychelles', 'Lancashire',\n",
              "       'Congo', 'China', 'South Asia - WB', 'Walsall',\n",
              "       'Europe & Central Asia - WB', 'Somalia',\n",
              "       'North Africa and Middle East', 'Southern Sub-Saharan Africa',\n",
              "       'Southend-on-Sea', 'Redcar and Cleveland', 'Slough', 'Oceania',\n",
              "       'East Asia & Pacific - WB', 'Chad', 'Monaco', 'Egypt',\n",
              "       'Bolivia (Plurinational State of)', 'Bury', 'Vanuatu', 'Belgium',\n",
              "       'Bolton', 'Newcastle upon Tyne', 'Missouri', 'Cuba', 'Zambia',\n",
              "       'Middle East & North Africa - WB', 'Southeast Asia', 'Surrey',\n",
              "       'Benin', 'Maldives', 'Wirral', 'Middlesbrough', 'Connecticut',\n",
              "       'Telford and Wrekin', 'Yemen', 'Gabon', 'Uganda', 'Luton',\n",
              "       'Richmond upon Thames', 'Sub-Saharan Africa - WB',\n",
              "       'Eastern Sub-Saharan Africa', 'Ghana', 'Austria', 'Stoke-on-Trent',\n",
              "       'Armenia', 'Cabo Verde', 'Saint Kitts and Nevis', 'Wolverhampton',\n",
              "       'Finland', 'Myanmar', 'Northern Mariana Islands', 'Jordan',\n",
              "       'Mississippi', \"Lao People's Democratic Republic\", 'Oldham',\n",
              "       'Warrington', 'Birmingham', 'Nevada', 'Afghanistan', 'Florida',\n",
              "       'Comoros', 'Cook Islands', 'United Kingdom', 'Gambia',\n",
              "       'Central Latin America', 'Barnet', 'Thailand', 'Mexico',\n",
              "       'Nebraska', 'Tuvalu', 'Cameroon', 'Niue', 'Westminster',\n",
              "       'Republic of Korea', 'American Samoa', 'New Mexico', 'Washington',\n",
              "       'Germany', 'Australia', 'Puerto Rico', 'Philippines', 'Argentina',\n",
              "       'Scotland', 'Guatemala', 'Japan', 'Solomon Islands', 'El Salvador',\n",
              "       'Equatorial Guinea', 'Gunma', 'Riau', 'Tōkyō', 'Quintana Roo',\n",
              "       'South Kalimantan', 'East Nusa Tenggara', 'North Dakota',\n",
              "       'Central Sulawesi', 'Denmark', 'Machakos', 'Yamanashi',\n",
              "       'Riau Islands', 'Bengkulu', 'Nauru', 'Palau',\n",
              "       'High-income North America', 'Durango', 'Utah',\n",
              "       'Baja California Sur',\n",
              "       'Central Europe, Eastern Europe, and Central Asia', 'Wales',\n",
              "       'Tokelau', 'Virginia', 'Cambridgeshire', 'West Java', 'Miyazaki',\n",
              "       'Tlaxcala', 'Hidalgo', 'Greater London', 'Nagasaki',\n",
              "       'South Dakota', 'Azerbaijan', 'Nayarit', 'Sonora', 'Toyama',\n",
              "       'Suffolk', 'Andorra', 'Michoacán de Ocampo', 'New Jersey',\n",
              "       'North Sumatra', 'Isiolo', 'Embu', 'East Midlands', 'TransNzoia',\n",
              "       'Wisconsin', 'Bali', 'Cyprus', 'Kiambu', 'Bahrain', 'Papua',\n",
              "       'North Carolina', 'Jambi', \"Murang'a\", 'Maryland',\n",
              "       'West Kalimantan', 'Vihiga', 'North West England', 'Kisii',\n",
              "       'France', 'Saint Lucia', 'Georgia', 'Poland', 'Colima', 'Puebla',\n",
              "       'Wyoming', 'Uruguay', 'Nandi', 'Warwickshire', 'Kwale', 'Mongolia',\n",
              "       'Trinidad and Tobago', 'Kensington and Chelsea', 'Nyandarua',\n",
              "       'Minnesota', 'Slovakia', 'Oklahoma', 'Chile',\n",
              "       'Yorkshire and the Humber', 'West Midlands', 'Kyrgyzstan',\n",
              "       'Mexico City', 'Shropshire', 'North Sulawesi', 'Oregon',\n",
              "       'San Luis Potosí', 'Saitama', 'United States of America',\n",
              "       'Ecuador', 'Montana', 'East of England', 'Dudley', 'Guerrero',\n",
              "       'Piaui', 'Bromley', 'Southeast Sulawesi', 'Rhode Island',\n",
              "       'Mato Grosso do Sul', 'Aguascalientes', 'Barbados', 'Colombia',\n",
              "       'Jakarta', 'Antigua and Barbuda', 'Bahia', 'Republic of Moldova',\n",
              "       'South West England', 'South Carolina', 'Morelos', 'Bulgaria',\n",
              "       'Serbia', 'Namibia', 'Central Asia', 'San Marino', 'Campeche',\n",
              "       'Aceh', 'Hungary', 'High-income', 'Paraíba', 'Dominica', 'Oaxaca',\n",
              "       'Canada', 'Banten', 'Eastern Europe', 'Sandwell', 'Texas', 'Ōsaka',\n",
              "       'Zimbabwe', 'Chiapas', 'West Nusa Tenggara', 'Latvia', 'Maluku',\n",
              "       'Uzbekistan', 'Pará', 'Tennessee', 'World Bank Regions',\n",
              "       'Caribbean', 'Acre', 'Italy', 'Lampung', 'Pernambuco',\n",
              "       'Espírito Santo', 'Rondônia', 'Yogyakarta', 'Guanajuato',\n",
              "       'East Kalimantan', 'Chiba', 'Tabasco', 'Yucatán', 'Okinawa',\n",
              "       'Fukui', \"Côte d'Ivoire\", 'Central Kalimantan',\n",
              "       'Bosnia and Herzegovina', 'Amapá', 'Minas Gerais',\n",
              "       'High-income Asia Pacific', 'North Kalimantan', 'North Macedonia',\n",
              "       'Rio Grande do Norte', 'Netherlands', 'Grenada', 'Roraima', 'Gifu',\n",
              "       'Santa Catarina', 'South Sulawesi', 'Jalisco', 'Niigata',\n",
              "       'Veracruz de Ignacio de la Llave', 'Belize', 'Czechia', 'Hyōgo',\n",
              "       'Hiroshima', 'Kazakhstan', 'High SDI', 'Ōita', 'Mie', 'Montenegro',\n",
              "       'Central Java', 'Distrito Federal', 'Tocantins',\n",
              "       'Rio Grande do Sul', 'West Sulawesi', 'Kiribati', 'Gorontalo',\n",
              "       'Romania', 'Kagawa', 'Sergipe', 'Tajikistan', 'Dominican Republic',\n",
              "       'Papua New Guinea', 'Slovenia', 'Tottori',\n",
              "       'United Republic of Tanzania', 'North Maluku', 'Central Europe',\n",
              "       'Garissa', 'Fukuoka', 'Wakayama', 'Estonia', 'Kanagawa', 'Tonga',\n",
              "       'Makueni', 'TaitaTaveta', 'Bexley', 'Mandera', 'Okayama',\n",
              "       'Kajiado', 'Coahuila', 'Meru', 'Kericho', 'Ishikawa', 'Shizuoka',\n",
              "       'Yamaguchi', 'Northumberland', 'Kirinyaga', 'Russian Federation',\n",
              "       'Tokushima', 'Shiga', 'Palestine', 'Ehime', 'North Tyneside',\n",
              "       'Nagano', 'Migori', 'Siaya', 'Chihuahua', 'Kitui', 'Brent', 'Saga',\n",
              "       'Gateshead', 'Saudi Arabia', 'TanaRiver', 'Marsabit',\n",
              "       'TharakaNithi', 'Andean Latin America', 'Aichi', 'Kisumu',\n",
              "       'Kingston upon Thames', 'Nairobi', 'Narok', 'Wajir', 'Turkana',\n",
              "       'Peru', 'Mombasa', 'Turkey', 'Laikipia', 'UasinGishu',\n",
              "       'Costa Rica', 'Nyeri', 'Nakuru', 'WestPokot', 'Nyamira',\n",
              "       'Greenwich', 'Kansas', 'Samburu', 'Maine', 'Northern Ireland',\n",
              "       'Michigan', 'WHO region', 'Baja California', 'West Sumatra',\n",
              "       'Guinea-Bissau', 'South Sumatra', 'New Hampshire', 'Vermont',\n",
              "       'Kyōto', 'Luxembourg', 'Bangka-Belitung Islands', 'New York',\n",
              "       'West Virginia', 'Norway', 'Iwate', 'Nara', 'Ohio',\n",
              "       'North East England', 'Yamagata', 'Sweden', 'East Java', 'Shimane',\n",
              "       'Hillingdon', 'Southern Latin America', 'Pennsylvania',\n",
              "       'South East England', 'Sutton', 'Nuevo León', 'Kōchi', 'Croydon',\n",
              "       'Querétaro', 'Sinaloa', 'Turkmenistan', 'Tamaulipas', 'Albania',\n",
              "       'Kirklees', 'Fiji', 'Croatia', 'Redbridge', 'Zacatecas',\n",
              "       'Wakefield', 'Micronesia (Federated States of)',\n",
              "       'Kingston upon Hull, City of', 'Harrow', 'Lincolnshire', 'Dorset',\n",
              "       'Burundi', 'Alabama', 'Bradford', 'Belarus',\n",
              "       'Hammersmith and Fulham', 'Merton', 'Derbyshire', 'Sudan',\n",
              "       'Guyana', 'Wandsworth', 'Havering', 'Lithuania', 'Sheffield',\n",
              "       'California', 'Somerset', 'Ukraine', 'Delaware', 'Arizona',\n",
              "       'Enfield', 'Bristol, City of', 'Ealing', 'Leicestershire',\n",
              "       'Plymouth', 'Illinois', 'Waltham Forest', 'Derby', 'Colorado',\n",
              "       'Doncaster', 'Northamptonshire', 'Rutland', 'Idaho', 'Switzerland',\n",
              "       'England', 'Amazonas', 'Ceará', 'Maranhão', 'West Papua',\n",
              "       'Mato Grosso', 'North Somerset', 'Bath and North East Somerset',\n",
              "       'Cornwall', 'West Sussex', 'Kent', 'Newham', 'East Sussex',\n",
              "       'Hackney', 'Milton Keynes', 'Wokingham', 'Rochdale', 'Alaska',\n",
              "       'Liverpool', 'West Berkshire', 'European Union', 'Commonwealth',\n",
              "       'District of Columbia', 'North East Lincolnshire', 'Hawaii',\n",
              "       'Brighton and Hove', 'North Yorkshire', 'Region of the Americas',\n",
              "       'Commonwealth Low Income', 'Alagoas', 'Portsmouth',\n",
              "       'Eastern Mediterranean Region', 'Southampton', 'Goiás',\n",
              "       'Iran (Islamic Republic of)', 'G20', 'World Bank Income Levels',\n",
              "       'Baringo', 'Nottinghamshire', 'Angola', 'Aomori',\n",
              "       'Democratic Republic of the Congo', 'Devon', 'Hokkaidō',\n",
              "       'Gloucestershire', 'Torbay', 'HomaBay', 'South-East Asia Region',\n",
              "       'Kakamega', 'Bomet', 'Western Pacific Region', 'Kilifi',\n",
              "       'World Bank Lower Middle Income', 'Lamu', 'High-middle SDI',\n",
              "       'Spain', 'Low SDI', 'Paraná', 'Cheshire East', 'Nordic Region',\n",
              "       'Rio de Janeiro', 'Cheshire West and Chester', 'Stockton-on-Tees',\n",
              "       'County Durham', 'São Paulo', 'St Helens', 'South Tyneside',\n",
              "       'Lambeth', 'Southwark', 'Haringey', 'Tower Hamlets',\n",
              "       'Windsor and Maidenhead', 'Commonwealth High Income', 'Asia',\n",
              "       'Lewisham', 'Wigan', 'Islington', 'Tameside', 'Buckinghamshire',\n",
              "       'Knowsley', 'Calderdale', 'Bracknell Forest', 'Reading', 'Medway',\n",
              "       'South Gloucestershire', 'African Region', 'America',\n",
              "       'European Region', 'World Bank Upper Middle Income',\n",
              "       'OECD Countries', 'Four World Regions', 'Leeds', 'Rotherham',\n",
              "       'Barnsley', 'Stockholm', 'Halton', 'Blackburn with Darwen',\n",
              "       'Manchester', 'York', 'North Lincolnshire', 'Akita', 'Bungoma',\n",
              "       'Kumamoto', 'Sweden except Stockholm', 'Busia', 'Kagoshima',\n",
              "       'Tochigi', 'Ibaraki', 'Salford', 'Blackpool',\n",
              "       'East Riding of Yorkshire', 'World Bank High Income',\n",
              "       'Elgeyo-Marakwet', 'Miyagi', 'Africa',\n",
              "       'Commonwealth Middle Income', 'African Union',\n",
              "       'World Bank Low Income', 'Fukushima', 'Europe', 'United States',\n",
              "       'Czech Republic'], dtype=object)"
            ]
          },
          "metadata": {
            "tags": []
          },
          "execution_count": 86
        }
      ]
    },
    {
      "cell_type": "code",
      "metadata": {
        "id": "iB964KfE8DvO",
        "outputId": "ede3e223-18c6-44e6-afd0-f6ed5130f9cd",
        "colab": {
          "base_uri": "https://localhost:8080/"
        }
      },
      "source": [
        "len(df['country'].unique())"
      ],
      "execution_count": 87,
      "outputs": [
        {
          "output_type": "execute_result",
          "data": {
            "text/plain": [
              "672"
            ]
          },
          "metadata": {
            "tags": []
          },
          "execution_count": 87
        }
      ]
    },
    {
      "cell_type": "markdown",
      "metadata": {
        "id": "eOyamYrT8DvQ"
      },
      "source": [
        "Podemos ver que tenemos cerca de 672 países en nuestro conjunto de datos, sin embargo, se sabe que existen internacionalmente solo 195, por lo que, como se mencionó anteriormente, observando con mayor detalle la columna, nos percatamos que esisten muchos registrso que en realidad no corresponden al nombre de un país. Por lo que estos habrán de ser removidos a fin de que no afecten nuestro análisis."
      ]
    },
    {
      "cell_type": "markdown",
      "metadata": {
        "id": "bRhppvJ98JCk"
      },
      "source": [
        "## 5. Limpieza de datos (Aquí va el código de Alan)"
      ]
    },
    {
      "cell_type": "markdown",
      "metadata": {
        "id": "dc3WzdJUvsHm"
      },
      "source": [
        "Observemos el dataset y veamos los Na's existentes"
      ]
    },
    {
      "cell_type": "code",
      "metadata": {
        "id": "LCH-7WtovrUi",
        "outputId": "98e18cea-1345-45e2-b038-f98766bd718b",
        "colab": {
          "base_uri": "https://localhost:8080/"
        }
      },
      "source": [
        "print(f'Dimensión del dataset: {df.shape[0]:,} filas y {df.shape[1]} columnas')"
      ],
      "execution_count": 88,
      "outputs": [
        {
          "output_type": "stream",
          "text": [
            "Dimensión del dataset: 21,356 filas y 16 columnas\n"
          ],
          "name": "stdout"
        }
      ]
    },
    {
      "cell_type": "code",
      "metadata": {
        "id": "NZg8jXY1saoG",
        "outputId": "352e934e-d36c-42a6-81cc-7dbceb61bfa7",
        "colab": {
          "base_uri": "https://localhost:8080/",
          "height": 204
        }
      },
      "source": [
        "# Eliminación de variables que no se usan en el análisis\n",
        "df = df.drop([\"iso3\",\"health_measure\",\"sex\",\"ClimateSource\",\"climate_units\",\"sector\"], axis = 1)\n",
        "df.head()"
      ],
      "execution_count": 89,
      "outputs": [
        {
          "output_type": "execute_result",
          "data": {
            "text/html": [
              "<div>\n",
              "<style scoped>\n",
              "    .dataframe tbody tr th:only-of-type {\n",
              "        vertical-align: middle;\n",
              "    }\n",
              "\n",
              "    .dataframe tbody tr th {\n",
              "        vertical-align: top;\n",
              "    }\n",
              "\n",
              "    .dataframe thead th {\n",
              "        text-align: right;\n",
              "    }\n",
              "</style>\n",
              "<table border=\"1\" class=\"dataframe\">\n",
              "  <thead>\n",
              "    <tr style=\"text-align: right;\">\n",
              "      <th></th>\n",
              "      <th>country</th>\n",
              "      <th>year</th>\n",
              "      <th>respiratory_infections_and_tuberculosis</th>\n",
              "      <th>chronic_respiratory_diseases</th>\n",
              "      <th>allghg</th>\n",
              "      <th>co2</th>\n",
              "      <th>ch4</th>\n",
              "      <th>n2o</th>\n",
              "      <th>fgas</th>\n",
              "      <th>mean_annual_tempC</th>\n",
              "    </tr>\n",
              "  </thead>\n",
              "  <tbody>\n",
              "    <tr>\n",
              "      <th>0</th>\n",
              "      <td>Bangladesh</td>\n",
              "      <td>1990</td>\n",
              "      <td>195547.33644</td>\n",
              "      <td>61136.67886</td>\n",
              "      <td>NaN</td>\n",
              "      <td>NaN</td>\n",
              "      <td>NaN</td>\n",
              "      <td>NaN</td>\n",
              "      <td>NaN</td>\n",
              "      <td>NaN</td>\n",
              "    </tr>\n",
              "    <tr>\n",
              "      <th>1</th>\n",
              "      <td>Lesotho</td>\n",
              "      <td>1990</td>\n",
              "      <td>3378.15120</td>\n",
              "      <td>999.76491</td>\n",
              "      <td>NaN</td>\n",
              "      <td>NaN</td>\n",
              "      <td>NaN</td>\n",
              "      <td>NaN</td>\n",
              "      <td>NaN</td>\n",
              "      <td>NaN</td>\n",
              "    </tr>\n",
              "    <tr>\n",
              "      <th>2</th>\n",
              "      <td>Timor-Leste</td>\n",
              "      <td>1990</td>\n",
              "      <td>1819.67578</td>\n",
              "      <td>244.29447</td>\n",
              "      <td>NaN</td>\n",
              "      <td>NaN</td>\n",
              "      <td>NaN</td>\n",
              "      <td>NaN</td>\n",
              "      <td>NaN</td>\n",
              "      <td>NaN</td>\n",
              "    </tr>\n",
              "    <tr>\n",
              "      <th>3</th>\n",
              "      <td>Lebanon</td>\n",
              "      <td>1990</td>\n",
              "      <td>743.06088</td>\n",
              "      <td>694.74642</td>\n",
              "      <td>NaN</td>\n",
              "      <td>NaN</td>\n",
              "      <td>NaN</td>\n",
              "      <td>NaN</td>\n",
              "      <td>NaN</td>\n",
              "      <td>NaN</td>\n",
              "    </tr>\n",
              "    <tr>\n",
              "      <th>4</th>\n",
              "      <td>Liberia</td>\n",
              "      <td>1990</td>\n",
              "      <td>5889.69301</td>\n",
              "      <td>436.66879</td>\n",
              "      <td>NaN</td>\n",
              "      <td>NaN</td>\n",
              "      <td>NaN</td>\n",
              "      <td>NaN</td>\n",
              "      <td>NaN</td>\n",
              "      <td>NaN</td>\n",
              "    </tr>\n",
              "  </tbody>\n",
              "</table>\n",
              "</div>"
            ],
            "text/plain": [
              "       country  year  ...  fgas  mean_annual_tempC\n",
              "0   Bangladesh  1990  ...   NaN                NaN\n",
              "1      Lesotho  1990  ...   NaN                NaN\n",
              "2  Timor-Leste  1990  ...   NaN                NaN\n",
              "3      Lebanon  1990  ...   NaN                NaN\n",
              "4      Liberia  1990  ...   NaN                NaN\n",
              "\n",
              "[5 rows x 10 columns]"
            ]
          },
          "metadata": {
            "tags": []
          },
          "execution_count": 89
        }
      ]
    },
    {
      "cell_type": "code",
      "metadata": {
        "id": "RA5G6imVtkAX",
        "outputId": "1c02f19d-f974-4472-ff98-7d37313cc574",
        "colab": {
          "base_uri": "https://localhost:8080/",
          "height": 272
        }
      },
      "source": [
        "# Eliminación de registros duplicados\n",
        "registros_originales = df.shape[0]\n",
        "df = df.drop_duplicates()\n",
        "print(f\"El número de reigstros original son de: {registros_originales:,}\")\n",
        "print(f\"El número de registros duplicados que se eliminaron fue de: {registros_originales - df.shape[0]:,}\")\n",
        "print(f\"El nuevo número de registro es de: {df.shape[0]:,} \\n\")\n",
        "df.head()"
      ],
      "execution_count": 90,
      "outputs": [
        {
          "output_type": "stream",
          "text": [
            "El número de reigstros original son de: 21,356\n",
            "El número de registros duplicados que se eliminaron fue de: 1,108\n",
            "El nuevo número de registro es de: 20,248 \n",
            "\n"
          ],
          "name": "stdout"
        },
        {
          "output_type": "execute_result",
          "data": {
            "text/html": [
              "<div>\n",
              "<style scoped>\n",
              "    .dataframe tbody tr th:only-of-type {\n",
              "        vertical-align: middle;\n",
              "    }\n",
              "\n",
              "    .dataframe tbody tr th {\n",
              "        vertical-align: top;\n",
              "    }\n",
              "\n",
              "    .dataframe thead th {\n",
              "        text-align: right;\n",
              "    }\n",
              "</style>\n",
              "<table border=\"1\" class=\"dataframe\">\n",
              "  <thead>\n",
              "    <tr style=\"text-align: right;\">\n",
              "      <th></th>\n",
              "      <th>country</th>\n",
              "      <th>year</th>\n",
              "      <th>respiratory_infections_and_tuberculosis</th>\n",
              "      <th>chronic_respiratory_diseases</th>\n",
              "      <th>allghg</th>\n",
              "      <th>co2</th>\n",
              "      <th>ch4</th>\n",
              "      <th>n2o</th>\n",
              "      <th>fgas</th>\n",
              "      <th>mean_annual_tempC</th>\n",
              "    </tr>\n",
              "  </thead>\n",
              "  <tbody>\n",
              "    <tr>\n",
              "      <th>0</th>\n",
              "      <td>Bangladesh</td>\n",
              "      <td>1990</td>\n",
              "      <td>195547.33644</td>\n",
              "      <td>61136.67886</td>\n",
              "      <td>NaN</td>\n",
              "      <td>NaN</td>\n",
              "      <td>NaN</td>\n",
              "      <td>NaN</td>\n",
              "      <td>NaN</td>\n",
              "      <td>NaN</td>\n",
              "    </tr>\n",
              "    <tr>\n",
              "      <th>1</th>\n",
              "      <td>Lesotho</td>\n",
              "      <td>1990</td>\n",
              "      <td>3378.15120</td>\n",
              "      <td>999.76491</td>\n",
              "      <td>NaN</td>\n",
              "      <td>NaN</td>\n",
              "      <td>NaN</td>\n",
              "      <td>NaN</td>\n",
              "      <td>NaN</td>\n",
              "      <td>NaN</td>\n",
              "    </tr>\n",
              "    <tr>\n",
              "      <th>2</th>\n",
              "      <td>Timor-Leste</td>\n",
              "      <td>1990</td>\n",
              "      <td>1819.67578</td>\n",
              "      <td>244.29447</td>\n",
              "      <td>NaN</td>\n",
              "      <td>NaN</td>\n",
              "      <td>NaN</td>\n",
              "      <td>NaN</td>\n",
              "      <td>NaN</td>\n",
              "      <td>NaN</td>\n",
              "    </tr>\n",
              "    <tr>\n",
              "      <th>3</th>\n",
              "      <td>Lebanon</td>\n",
              "      <td>1990</td>\n",
              "      <td>743.06088</td>\n",
              "      <td>694.74642</td>\n",
              "      <td>NaN</td>\n",
              "      <td>NaN</td>\n",
              "      <td>NaN</td>\n",
              "      <td>NaN</td>\n",
              "      <td>NaN</td>\n",
              "      <td>NaN</td>\n",
              "    </tr>\n",
              "    <tr>\n",
              "      <th>4</th>\n",
              "      <td>Liberia</td>\n",
              "      <td>1990</td>\n",
              "      <td>5889.69301</td>\n",
              "      <td>436.66879</td>\n",
              "      <td>NaN</td>\n",
              "      <td>NaN</td>\n",
              "      <td>NaN</td>\n",
              "      <td>NaN</td>\n",
              "      <td>NaN</td>\n",
              "      <td>NaN</td>\n",
              "    </tr>\n",
              "  </tbody>\n",
              "</table>\n",
              "</div>"
            ],
            "text/plain": [
              "       country  year  ...  fgas  mean_annual_tempC\n",
              "0   Bangladesh  1990  ...   NaN                NaN\n",
              "1      Lesotho  1990  ...   NaN                NaN\n",
              "2  Timor-Leste  1990  ...   NaN                NaN\n",
              "3      Lebanon  1990  ...   NaN                NaN\n",
              "4      Liberia  1990  ...   NaN                NaN\n",
              "\n",
              "[5 rows x 10 columns]"
            ]
          },
          "metadata": {
            "tags": []
          },
          "execution_count": 90
        }
      ]
    },
    {
      "cell_type": "code",
      "metadata": {
        "id": "sJi69qdB8Psj",
        "outputId": "2a774b7d-fddd-4a58-fd38-2e18c7ce46e8",
        "colab": {
          "base_uri": "https://localhost:8080/"
        }
      },
      "source": [
        "# Cantidad de Na's en el Dataset por columnas\n",
        "df.isna().sum()"
      ],
      "execution_count": 91,
      "outputs": [
        {
          "output_type": "execute_result",
          "data": {
            "text/plain": [
              "country                                        0\n",
              "year                                           0\n",
              "respiratory_infections_and_tuberculosis       58\n",
              "chronic_respiratory_diseases                  58\n",
              "allghg                                     19262\n",
              "co2                                        19262\n",
              "ch4                                        19262\n",
              "n2o                                        19262\n",
              "fgas                                       19262\n",
              "mean_annual_tempC                          19262\n",
              "dtype: int64"
            ]
          },
          "metadata": {
            "tags": []
          },
          "execution_count": 91
        }
      ]
    },
    {
      "cell_type": "markdown",
      "metadata": {
        "id": "W3AiOpzkrfWQ"
      },
      "source": [
        "Observese que existe gran cantidad de Na's debido a lo que se mencionó anteriormente, varios registros de la columna países en realidad no son países, sino estados o regiones, por lo que, en el caso de los datos de los niveles de gases de efectos invernadero, solo se tienen a nivel país y no estados o regiones, lo mismo pasa con las variables referente a las enferemdades respiratorias.\n",
        "\n",
        "Por lo tanto, se deben eliminar estos registros."
      ]
    },
    {
      "cell_type": "code",
      "metadata": {
        "id": "WqNFzyAwxNzh",
        "outputId": "a41b8116-7ba1-4b63-9c2f-a18dfb934676",
        "colab": {
          "base_uri": "https://localhost:8080/"
        }
      },
      "source": [
        "# Eliminamos los Na's de las variables referentes a los gases de efecto invernadero\n",
        "df = df.dropna(subset = [\"allghg\",\"co2\",\"ch4\",\"n2o\",\"fgas\",\"mean_annual_tempC\"])\n",
        "print(f\"El nuevo número de registros es de {df.shape[0]}\")"
      ],
      "execution_count": 92,
      "outputs": [
        {
          "output_type": "stream",
          "text": [
            "(986, 10)\n",
            "El nuevo número de registros es de 986\n"
          ],
          "name": "stdout"
        }
      ]
    },
    {
      "cell_type": "code",
      "metadata": {
        "id": "_m1Eegz5wTpN",
        "outputId": "70b98556-cf65-48cd-cc58-e8bc487f4279",
        "colab": {
          "base_uri": "https://localhost:8080/"
        }
      },
      "source": [
        "# Eliminamos los Na's de las variables referentes a las enferemedades respiratorias\n",
        "df = df.dropna(subset=[\"respiratory_infections_and_tuberculosis\",\"chronic_respiratory_diseases\"])\n",
        "print(f\"El nuevo numero de registros es de {df.shape[0]}\")"
      ],
      "execution_count": 93,
      "outputs": [
        {
          "output_type": "stream",
          "text": [
            "(928, 10)\n",
            "El nuevo numero de registros es de 928\n"
          ],
          "name": "stdout"
        }
      ]
    },
    {
      "cell_type": "code",
      "metadata": {
        "id": "QDrIJw-bxHEH",
        "outputId": "5a3dd8a6-0f89-4ac9-f366-5f3f9e8c5633",
        "colab": {
          "base_uri": "https://localhost:8080/",
          "height": 204
        }
      },
      "source": [
        "# Observemos como se han modificado los índices hasta ahora\n",
        "df.head()"
      ],
      "execution_count": 94,
      "outputs": [
        {
          "output_type": "execute_result",
          "data": {
            "text/html": [
              "<div>\n",
              "<style scoped>\n",
              "    .dataframe tbody tr th:only-of-type {\n",
              "        vertical-align: middle;\n",
              "    }\n",
              "\n",
              "    .dataframe tbody tr th {\n",
              "        vertical-align: top;\n",
              "    }\n",
              "\n",
              "    .dataframe thead th {\n",
              "        text-align: right;\n",
              "    }\n",
              "</style>\n",
              "<table border=\"1\" class=\"dataframe\">\n",
              "  <thead>\n",
              "    <tr style=\"text-align: right;\">\n",
              "      <th></th>\n",
              "      <th>country</th>\n",
              "      <th>year</th>\n",
              "      <th>respiratory_infections_and_tuberculosis</th>\n",
              "      <th>chronic_respiratory_diseases</th>\n",
              "      <th>allghg</th>\n",
              "      <th>co2</th>\n",
              "      <th>ch4</th>\n",
              "      <th>n2o</th>\n",
              "      <th>fgas</th>\n",
              "      <th>mean_annual_tempC</th>\n",
              "    </tr>\n",
              "  </thead>\n",
              "  <tbody>\n",
              "    <tr>\n",
              "      <th>22</th>\n",
              "      <td>Greece</td>\n",
              "      <td>1990</td>\n",
              "      <td>2168.93017</td>\n",
              "      <td>2626.71162</td>\n",
              "      <td>94.44</td>\n",
              "      <td>74.69</td>\n",
              "      <td>10.71</td>\n",
              "      <td>7.67</td>\n",
              "      <td>1.38</td>\n",
              "      <td>14.016667</td>\n",
              "    </tr>\n",
              "    <tr>\n",
              "      <th>41</th>\n",
              "      <td>Iceland</td>\n",
              "      <td>1990</td>\n",
              "      <td>105.15637</td>\n",
              "      <td>69.51015</td>\n",
              "      <td>3.38</td>\n",
              "      <td>1.96</td>\n",
              "      <td>0.51</td>\n",
              "      <td>0.41</td>\n",
              "      <td>0.50</td>\n",
              "      <td>1.641667</td>\n",
              "    </tr>\n",
              "    <tr>\n",
              "      <th>49</th>\n",
              "      <td>Israel</td>\n",
              "      <td>1990</td>\n",
              "      <td>772.29921</td>\n",
              "      <td>1327.52646</td>\n",
              "      <td>43.95</td>\n",
              "      <td>33.78</td>\n",
              "      <td>8.35</td>\n",
              "      <td>1.62</td>\n",
              "      <td>0.21</td>\n",
              "      <td>19.816667</td>\n",
              "    </tr>\n",
              "    <tr>\n",
              "      <th>57</th>\n",
              "      <td>Ireland</td>\n",
              "      <td>1990</td>\n",
              "      <td>1936.74887</td>\n",
              "      <td>2300.85156</td>\n",
              "      <td>54.11</td>\n",
              "      <td>28.53</td>\n",
              "      <td>15.46</td>\n",
              "      <td>10.09</td>\n",
              "      <td>0.03</td>\n",
              "      <td>9.933333</td>\n",
              "    </tr>\n",
              "    <tr>\n",
              "      <th>80</th>\n",
              "      <td>Greece</td>\n",
              "      <td>1991</td>\n",
              "      <td>2212.66216</td>\n",
              "      <td>2608.88948</td>\n",
              "      <td>94.55</td>\n",
              "      <td>74.89</td>\n",
              "      <td>10.60</td>\n",
              "      <td>7.46</td>\n",
              "      <td>1.59</td>\n",
              "      <td>12.975000</td>\n",
              "    </tr>\n",
              "  </tbody>\n",
              "</table>\n",
              "</div>"
            ],
            "text/plain": [
              "    country  year  ...  fgas  mean_annual_tempC\n",
              "22   Greece  1990  ...  1.38          14.016667\n",
              "41  Iceland  1990  ...  0.50           1.641667\n",
              "49   Israel  1990  ...  0.21          19.816667\n",
              "57  Ireland  1990  ...  0.03           9.933333\n",
              "80   Greece  1991  ...  1.59          12.975000\n",
              "\n",
              "[5 rows x 10 columns]"
            ]
          },
          "metadata": {
            "tags": []
          },
          "execution_count": 94
        }
      ]
    },
    {
      "cell_type": "code",
      "metadata": {
        "id": "oneltvhHyHkA",
        "outputId": "641a49b4-f84a-45ec-8b60-27e3ec68976d",
        "colab": {
          "base_uri": "https://localhost:8080/",
          "height": 204
        }
      },
      "source": [
        "# Reindexamos el dataset\n",
        "df = df.reset_index(drop=True)\n",
        "df.head()"
      ],
      "execution_count": 95,
      "outputs": [
        {
          "output_type": "execute_result",
          "data": {
            "text/html": [
              "<div>\n",
              "<style scoped>\n",
              "    .dataframe tbody tr th:only-of-type {\n",
              "        vertical-align: middle;\n",
              "    }\n",
              "\n",
              "    .dataframe tbody tr th {\n",
              "        vertical-align: top;\n",
              "    }\n",
              "\n",
              "    .dataframe thead th {\n",
              "        text-align: right;\n",
              "    }\n",
              "</style>\n",
              "<table border=\"1\" class=\"dataframe\">\n",
              "  <thead>\n",
              "    <tr style=\"text-align: right;\">\n",
              "      <th></th>\n",
              "      <th>country</th>\n",
              "      <th>year</th>\n",
              "      <th>respiratory_infections_and_tuberculosis</th>\n",
              "      <th>chronic_respiratory_diseases</th>\n",
              "      <th>allghg</th>\n",
              "      <th>co2</th>\n",
              "      <th>ch4</th>\n",
              "      <th>n2o</th>\n",
              "      <th>fgas</th>\n",
              "      <th>mean_annual_tempC</th>\n",
              "    </tr>\n",
              "  </thead>\n",
              "  <tbody>\n",
              "    <tr>\n",
              "      <th>0</th>\n",
              "      <td>Greece</td>\n",
              "      <td>1990</td>\n",
              "      <td>2168.93017</td>\n",
              "      <td>2626.71162</td>\n",
              "      <td>94.44</td>\n",
              "      <td>74.69</td>\n",
              "      <td>10.71</td>\n",
              "      <td>7.67</td>\n",
              "      <td>1.38</td>\n",
              "      <td>14.016667</td>\n",
              "    </tr>\n",
              "    <tr>\n",
              "      <th>1</th>\n",
              "      <td>Iceland</td>\n",
              "      <td>1990</td>\n",
              "      <td>105.15637</td>\n",
              "      <td>69.51015</td>\n",
              "      <td>3.38</td>\n",
              "      <td>1.96</td>\n",
              "      <td>0.51</td>\n",
              "      <td>0.41</td>\n",
              "      <td>0.50</td>\n",
              "      <td>1.641667</td>\n",
              "    </tr>\n",
              "    <tr>\n",
              "      <th>2</th>\n",
              "      <td>Israel</td>\n",
              "      <td>1990</td>\n",
              "      <td>772.29921</td>\n",
              "      <td>1327.52646</td>\n",
              "      <td>43.95</td>\n",
              "      <td>33.78</td>\n",
              "      <td>8.35</td>\n",
              "      <td>1.62</td>\n",
              "      <td>0.21</td>\n",
              "      <td>19.816667</td>\n",
              "    </tr>\n",
              "    <tr>\n",
              "      <th>3</th>\n",
              "      <td>Ireland</td>\n",
              "      <td>1990</td>\n",
              "      <td>1936.74887</td>\n",
              "      <td>2300.85156</td>\n",
              "      <td>54.11</td>\n",
              "      <td>28.53</td>\n",
              "      <td>15.46</td>\n",
              "      <td>10.09</td>\n",
              "      <td>0.03</td>\n",
              "      <td>9.933333</td>\n",
              "    </tr>\n",
              "    <tr>\n",
              "      <th>4</th>\n",
              "      <td>Greece</td>\n",
              "      <td>1991</td>\n",
              "      <td>2212.66216</td>\n",
              "      <td>2608.88948</td>\n",
              "      <td>94.55</td>\n",
              "      <td>74.89</td>\n",
              "      <td>10.60</td>\n",
              "      <td>7.46</td>\n",
              "      <td>1.59</td>\n",
              "      <td>12.975000</td>\n",
              "    </tr>\n",
              "  </tbody>\n",
              "</table>\n",
              "</div>"
            ],
            "text/plain": [
              "   country  year  ...  fgas  mean_annual_tempC\n",
              "0   Greece  1990  ...  1.38          14.016667\n",
              "1  Iceland  1990  ...  0.50           1.641667\n",
              "2   Israel  1990  ...  0.21          19.816667\n",
              "3  Ireland  1990  ...  0.03           9.933333\n",
              "4   Greece  1991  ...  1.59          12.975000\n",
              "\n",
              "[5 rows x 10 columns]"
            ]
          },
          "metadata": {
            "tags": []
          },
          "execution_count": 95
        }
      ]
    },
    {
      "cell_type": "markdown",
      "metadata": {
        "id": "hN88PsGgy-oA"
      },
      "source": [
        "# Creo que los gases no es necesario renombrarlos"
      ]
    },
    {
      "cell_type": "code",
      "metadata": {
        "id": "LM7zRWZ7ykKz",
        "outputId": "06ec5c45-df7d-4483-ed03-4511f7543fc1",
        "colab": {
          "base_uri": "https://localhost:8080/"
        }
      },
      "source": [
        "# Hacemos un renombre de las variables para un mejor entendimiento de las mismas y mayor facilidad de manipulación\n",
        "new_names = {\n",
        "    \"allghg\":\"all_greenhouse_gas\",\n",
        "    \"co2\":\"CO2_carbon_dioxide\",\n",
        "    \"ch4\":\"CH4_methane\",\n",
        "    \"n2o\":\"N2O_nitrous_oxide\"\n",
        "}\n",
        "\n",
        "df = df.rename(columns = new_names)\n",
        "df.columns"
      ],
      "execution_count": 96,
      "outputs": [
        {
          "output_type": "execute_result",
          "data": {
            "text/plain": [
              "Index(['country', 'year', 'respiratory_infections_and_tuberculosis',\n",
              "       'chronic_respiratory_diseases', 'all_greenhouse_gas',\n",
              "       'CO2_carbon_dioxide', 'CH4_methane', 'N2O_nitrous_oxide', 'fgas',\n",
              "       'mean_annual_tempC'],\n",
              "      dtype='object')"
            ]
          },
          "metadata": {
            "tags": []
          },
          "execution_count": 96
        }
      ]
    },
    {
      "cell_type": "markdown",
      "metadata": {
        "id": "S9i59vUAzUHX"
      },
      "source": [
        "### Funciones de agregación \n",
        "Las funciones de agregación nos permiten ralizar un mejor análisis de nuestros datos para tener un panorama general se los mismos."
      ]
    },
    {
      "cell_type": "code",
      "metadata": {
        "id": "iBkXmpH_y16l",
        "outputId": "52839d8c-0498-4a57-899e-304195048c15",
        "colab": {
          "base_uri": "https://localhost:8080/"
        }
      },
      "source": [
        "# Observemos el nivel de temperatura y los niveles de gases de efecto invernadero que emiten los países de estudio en promedio anualmente.\n",
        "np.mean(df[['mean_annual_tempC','CO2_carbon_dioxide', 'CH4_methane', 'N2O_nitrous_oxide', 'fgas']])"
      ],
      "execution_count": 97,
      "outputs": [
        {
          "output_type": "execute_result",
          "data": {
            "text/plain": [
              "mean_annual_tempC       9.609932\n",
              "CO2_carbon_dioxide    190.630916\n",
              "CH4_methane            31.443071\n",
              "N2O_nitrous_oxide      16.072759\n",
              "fgas                    4.932263\n",
              "dtype: float64"
            ]
          },
          "metadata": {
            "tags": []
          },
          "execution_count": 97
        }
      ]
    },
    {
      "cell_type": "code",
      "metadata": {
        "id": "SpPn_NN5zi_Y",
        "outputId": "13b65001-5665-4c45-a2a9-3135d784a22c",
        "colab": {
          "base_uri": "https://localhost:8080/"
        }
      },
      "source": [
        "#porcentaje de datos no eliminados\n",
        "\n",
        "porcentaje = df.shape[0] / df_original.shape[0] * 100\n",
        "print(f'filas del dataset original: {df_original.shape[0]:,} \\nfilas del dataset después de limpieza: {df.shape[0]}')\n",
        "print(f'Porcentaje de datos netos: {porcentaje:.2f}%')"
      ],
      "execution_count": 99,
      "outputs": [
        {
          "output_type": "stream",
          "text": [
            "filas del dataset original: 21,356 \n",
            "filas del dataset después de limpieza: 928\n",
            "Porcentaje de datos netos: 4.35%\n"
          ],
          "name": "stdout"
        }
      ]
    },
    {
      "cell_type": "markdown",
      "metadata": {
        "id": "ny6x1hCN1jP9"
      },
      "source": [
        "Es importante mencionar que a pesar de tener un porcentaje muy bajo de los datos originales. No significa que nuestro análisis carezca de significancia, ya que hemos mencionado que el sataset orginal contenia muchos registros que no se referían a algún país."
      ]
    },
    {
      "cell_type": "code",
      "metadata": {
        "id": "sm3hOOoV0dn4",
        "outputId": "e5a212da-c3fa-4a53-a160-f19136a26ce9",
        "colab": {
          "base_uri": "https://localhost:8080/"
        }
      },
      "source": [
        "# Cantidad de datos por país\n",
        "print(f\"Número de países:{ df[\"country\"].unique().size} \\n\")\n",
        "df[\"country\"].value_counts()"
      ],
      "execution_count": 115,
      "outputs": [
        {
          "output_type": "execute_result",
          "data": {
            "text/plain": [
              "Canada            29\n",
              "Iceland           29\n",
              "Israel            29\n",
              "Latvia            29\n",
              "Hungary           29\n",
              "Sweden            29\n",
              "Poland            29\n",
              "Australia         29\n",
              "Turkey            29\n",
              "United Kingdom    29\n",
              "Germany           29\n",
              "France            29\n",
              "Ireland           29\n",
              "Portugal          29\n",
              "Slovakia          29\n",
              "Spain             29\n",
              "Slovenia          29\n",
              "Netherlands       29\n",
              "New Zealand       29\n",
              "Belgium           29\n",
              "Switzerland       29\n",
              "Japan             29\n",
              "Estonia           29\n",
              "Austria           29\n",
              "Norway            29\n",
              "Italy             29\n",
              "Denmark           29\n",
              "Luxembourg        29\n",
              "Chile             29\n",
              "Greece            29\n",
              "Finland           29\n",
              "Mexico            29\n",
              "Name: country, dtype: int64"
            ]
          },
          "metadata": {
            "tags": []
          },
          "execution_count": 115
        }
      ]
    },
    {
      "cell_type": "markdown",
      "metadata": {
        "id": "VIRfYg142T9E"
      },
      "source": [
        "Observemos que el número de datos por país es homogéneo, y al tener 32 países con 29 datos cada uno, hace sentido contar con un total de 928 observaciones en total, lo cual coincide con el tamaño de nuestro dataset."
      ]
    },
    {
      "cell_type": "code",
      "metadata": {
        "id": "1MOkv1cu2O5Z",
        "outputId": "320d8364-c19c-4219-bd42-59b7160ba4f7",
        "colab": {
          "base_uri": "https://localhost:8080/"
        }
      },
      "source": [
        "# Observemos el periodo de estudio\n",
        "print(f'cantidad de años registrados: {max(df[\"year\"]) - min(df[\"year\"])}')\n",
        "print(f'desde {min(df[\"year\"])} hasta {max(df[\"year\"])}')"
      ],
      "execution_count": 116,
      "outputs": [
        {
          "output_type": "stream",
          "text": [
            "cantidad de años registrados: 28\n",
            "desde 1990 hasta 2018\n"
          ],
          "name": "stdout"
        }
      ]
    },
    {
      "cell_type": "code",
      "metadata": {
        "id": "xGVO8XHv30dF"
      },
      "source": [
        ""
      ],
      "execution_count": null,
      "outputs": []
    }
  ]
}
