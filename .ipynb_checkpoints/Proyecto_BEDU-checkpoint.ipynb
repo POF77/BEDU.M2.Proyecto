{
 "cells": [
  {
   "cell_type": "markdown",
   "metadata": {
    "colab_type": "text",
    "id": "view-in-github"
   },
   "source": [
    "<a href=\"https://colab.research.google.com/github/POF77/Proyecto.BEDU.ModuloII/blob/main/Proyecto_BEDU.ipynb\" target=\"_parent\"><img src=\"https://colab.research.google.com/assets/colab-badge.svg\" alt=\"Open In Colab\"/></a>"
   ]
  },
  {
   "cell_type": "markdown",
   "metadata": {
    "id": "p6dP3QR4kEKa"
   },
   "source": [
    "# Módulo 3: **Procesamiento de Datos con Python**\n",
    "## Proyecto Final\n",
    "### Equipo:\n",
    "- Edgar Israel Casanova Cardoz\n",
    "- Omar Garduza\n",
    "- Lizzeth Gómez Rodríguez\n",
    "- Paul O'Hea Flores\n",
    "- Alan Sandoval\n",
    "-p"
   ]
  },
  {
   "cell_type": "markdown",
   "metadata": {
    "id": "Sd905bRglQiq"
   },
   "source": [
    "# **IMPACTO DEL CAMBIO CLIMÁTICO EN LA SALUD PÚBLICA**\n",
    "\n",
    "## 1. Identificación del Problema\n",
    "- Impacto del cambio climático sobre las enfermedades respiratorias en países de la OCDE\n",
    "\n",
    "## 2. Investigación y justificación del problema\n",
    "<p align = justify>\n",
    "El Cambio Climático es un problema de años pero que hoy en día se encuentra agudizado y que a su vez ha alterado drásticamente la biodiversidad del planeta, lo cual favorece la transmisión de patógenos causantes de enfermedades, particularmente aquellas relacionadas con las olas de calor, la falta de agua potable, la reproducción de plagas y las inundaciones.\n",
    "\n",
    "<p align = justify>\n",
    "En este sentido, la población más afectada es aquella que carece de infraestructura salubre adecuada, en combinación con otros factores como las condiciones vulnerables de vivienda y una mala alimentación. Dicha población se puede encontrar con mayor abundancia en países en vías de desarrollo. Por lo anterior, es importante tomar acción sobre los efectos negativos que puede causar el Cambio Climático sobre la salud pública.\n",
    "\n",
    "<p align = justify>\n",
    "Organizaciones internacionales como Greenpeace, el Intergovernmental Panel on Climate Change (IPCC) y la Organización Mundial de la Salud (OMS) han presentado estudios respecto a la gravedad que puede presentar el cambio climático sobre la salud pública; y se sabe que, entre los principales gases de efecto invernadero se encuentran el dióxido de carbono (CO2), el metano (CH4), el óxido nitroso(N2O) y el ozono (O3).\n"
   ]
  },
  {
   "cell_type": "markdown",
   "metadata": {
    "id": "hPW4rc_ooDaC"
   },
   "source": [
    "## 3. Preguntas de Investigación\n",
    "- ¿Cuál es el impacto del cambio climático sobre la salud?\n",
    "- ¿Qué relación existe entre el cambio climático, la contaminación del aire, el incremento de la temperatura y la intensificación de enfermedades respiratorias, de salud mental, gastrointestinales y cardiacas?\n",
    "- ¿Qué relación existe entre el cambio climático y la aparición de nuevas enfermedades o virus?\n",
    "- ¿Qué tipo de actividades afectan de manera negativa el cambio climático?\n",
    "- ¿Qué enfermedad presenta la mayor correlación con el cambio climático?\n",
    "- ¿Qué países se encuentran mayormente afectados por el cambio climático, los desarrollados o aquellos en vías de desarrollo?\n",
    "- ¿Qué países contribuyen más al cambio climático, los de mayor o menor afectación?\n",
    "\n",
    "## 4. Información Disponible (Modificar con la nueva base)\n",
    "<p align = justify>\n",
    "Los datos para el presente análisis se han obtenido de dos fuentes de información disponibles, por un lado, los datos del IPCC nos permiten cuantificar los niveles del cambio climático, cuyos disponibles van de 1996 a 2019, las variables a utilizar son los gases de efecto invernadero ya mencionados anteriormente:  CO2, CH4, N2O y O3. Por otro lado, se utilizan datos de la OMS para cuantificar las defunciones cuyas causas son enfermedades respiratorias."
   ]
  },
  {
   "cell_type": "code",
   "execution_count": 1,
   "metadata": {
    "id": "H12hTg2Rg8Vj"
   },
   "outputs": [],
   "source": [
    "# Importación de los paquetes necesarios para el análisis\n",
    "import pandas as pd\n",
    "import numpy as np"
   ]
  },
  {
   "cell_type": "markdown",
   "metadata": {
    "id": "QG8I0zEwnREU"
   },
   "source": [
    "### Cargado y exploración de los datos"
   ]
  },
  {
   "cell_type": "code",
   "execution_count": 2,
   "metadata": {
    "colab": {
     "base_uri": "https://localhost:8080/",
     "height": 204
    },
    "id": "Odb0Q-ZMhHrO",
    "outputId": "6c78c01a-e9c2-4eb9-a554-bbffcbee389f"
   },
   "outputs": [
    {
     "data": {
      "text/html": [
       "<div>\n",
       "<style scoped>\n",
       "    .dataframe tbody tr th:only-of-type {\n",
       "        vertical-align: middle;\n",
       "    }\n",
       "\n",
       "    .dataframe tbody tr th {\n",
       "        vertical-align: top;\n",
       "    }\n",
       "\n",
       "    .dataframe thead th {\n",
       "        text-align: right;\n",
       "    }\n",
       "</style>\n",
       "<table border=\"1\" class=\"dataframe\">\n",
       "  <thead>\n",
       "    <tr style=\"text-align: right;\">\n",
       "      <th></th>\n",
       "      <th>Unnamed: 0</th>\n",
       "      <th>country</th>\n",
       "      <th>year</th>\n",
       "      <th>id</th>\n",
       "      <th>tot_gas</th>\n",
       "      <th>all_gas</th>\n",
       "      <th>ch4</th>\n",
       "      <th>co2</th>\n",
       "      <th>fgas</th>\n",
       "      <th>n2o</th>\n",
       "      <th>mean_year_tempeC</th>\n",
       "      <th>year_deaths</th>\n",
       "    </tr>\n",
       "  </thead>\n",
       "  <tbody>\n",
       "    <tr>\n",
       "      <th>0</th>\n",
       "      <td>1</td>\n",
       "      <td>Australia</td>\n",
       "      <td>1990</td>\n",
       "      <td>Australia-1990</td>\n",
       "      <td>558.21</td>\n",
       "      <td>558.21</td>\n",
       "      <td>158.28</td>\n",
       "      <td>313.95</td>\n",
       "      <td>6.25</td>\n",
       "      <td>79.73</td>\n",
       "      <td>21.925</td>\n",
       "      <td>25352</td>\n",
       "    </tr>\n",
       "    <tr>\n",
       "      <th>1</th>\n",
       "      <td>2</td>\n",
       "      <td>Australia</td>\n",
       "      <td>1990</td>\n",
       "      <td>Australia-1990</td>\n",
       "      <td>313.95</td>\n",
       "      <td>558.21</td>\n",
       "      <td>158.28</td>\n",
       "      <td>313.95</td>\n",
       "      <td>6.25</td>\n",
       "      <td>79.73</td>\n",
       "      <td>21.925</td>\n",
       "      <td>25352</td>\n",
       "    </tr>\n",
       "    <tr>\n",
       "      <th>2</th>\n",
       "      <td>3</td>\n",
       "      <td>Australia</td>\n",
       "      <td>1990</td>\n",
       "      <td>Australia-1990</td>\n",
       "      <td>158.28</td>\n",
       "      <td>558.21</td>\n",
       "      <td>158.28</td>\n",
       "      <td>313.95</td>\n",
       "      <td>6.25</td>\n",
       "      <td>79.73</td>\n",
       "      <td>21.925</td>\n",
       "      <td>25352</td>\n",
       "    </tr>\n",
       "    <tr>\n",
       "      <th>3</th>\n",
       "      <td>4</td>\n",
       "      <td>Australia</td>\n",
       "      <td>1990</td>\n",
       "      <td>Australia-1990</td>\n",
       "      <td>79.73</td>\n",
       "      <td>558.21</td>\n",
       "      <td>158.28</td>\n",
       "      <td>313.95</td>\n",
       "      <td>6.25</td>\n",
       "      <td>79.73</td>\n",
       "      <td>21.925</td>\n",
       "      <td>25352</td>\n",
       "    </tr>\n",
       "    <tr>\n",
       "      <th>4</th>\n",
       "      <td>5</td>\n",
       "      <td>Australia</td>\n",
       "      <td>1990</td>\n",
       "      <td>Australia-1990</td>\n",
       "      <td>6.25</td>\n",
       "      <td>558.21</td>\n",
       "      <td>158.28</td>\n",
       "      <td>313.95</td>\n",
       "      <td>6.25</td>\n",
       "      <td>79.73</td>\n",
       "      <td>21.925</td>\n",
       "      <td>25352</td>\n",
       "    </tr>\n",
       "  </tbody>\n",
       "</table>\n",
       "</div>"
      ],
      "text/plain": [
       "   Unnamed: 0    country  year              id  tot_gas  all_gas     ch4  \\\n",
       "0           1  Australia  1990  Australia-1990   558.21   558.21  158.28   \n",
       "1           2  Australia  1990  Australia-1990   313.95   558.21  158.28   \n",
       "2           3  Australia  1990  Australia-1990   158.28   558.21  158.28   \n",
       "3           4  Australia  1990  Australia-1990    79.73   558.21  158.28   \n",
       "4           5  Australia  1990  Australia-1990     6.25   558.21  158.28   \n",
       "\n",
       "      co2  fgas    n2o  mean_year_tempeC  year_deaths  \n",
       "0  313.95  6.25  79.73            21.925        25352  \n",
       "1  313.95  6.25  79.73            21.925        25352  \n",
       "2  313.95  6.25  79.73            21.925        25352  \n",
       "3  313.95  6.25  79.73            21.925        25352  \n",
       "4  313.95  6.25  79.73            21.925        25352  "
      ]
     },
     "execution_count": 2,
     "metadata": {},
     "output_type": "execute_result"
    }
   ],
   "source": [
    "# Leemos el archivo csv que contiene los niveles de gases de efecto invernader, la temperatura y los fallecimientos por países.\n",
    "# Guerdamos el archivo en el objeto \"df\"\n",
    "df = pd.read_csv(\"https://raw.githubusercontent.com/POF77/Proyecto.BEDU.ModuloII/main/Datos_nuevos/datos_netos.csv\") #Modificar con la nueva base\n",
    "df.head()"
   ]
  },
  {
   "cell_type": "code",
   "execution_count": null,
   "metadata": {
    "id": "V2fLWdIZjE7s"
   },
   "outputs": [],
   "source": []
  }
 ],
 "metadata": {
  "colab": {
   "authorship_tag": "ABX9TyMfYBUkUkW9cu7rvUFEAjyk",
   "include_colab_link": true,
   "name": "Proyecto_BEDU.ipynb",
   "provenance": []
  },
  "kernelspec": {
   "display_name": "Python 3",
   "language": "python",
   "name": "python3"
  },
  "language_info": {
   "codemirror_mode": {
    "name": "ipython",
    "version": 3
   },
   "file_extension": ".py",
   "mimetype": "text/x-python",
   "name": "python",
   "nbconvert_exporter": "python",
   "pygments_lexer": "ipython3",
   "version": "3.8.8"
  }
 },
 "nbformat": 4,
 "nbformat_minor": 1
}
