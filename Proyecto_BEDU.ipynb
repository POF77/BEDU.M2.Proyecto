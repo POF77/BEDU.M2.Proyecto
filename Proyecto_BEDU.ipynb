{
  "nbformat": 4,
  "nbformat_minor": 0,
  "metadata": {
    "colab": {
      "name": "Proyecto_BEDU.ipynb",
      "provenance": [],
      "include_colab_link": true
    },
    "kernelspec": {
      "display_name": "Python 3",
      "language": "python",
      "name": "python3"
    },
    "language_info": {
      "codemirror_mode": {
        "name": "ipython",
        "version": 3
      },
      "file_extension": ".py",
      "mimetype": "text/x-python",
      "name": "python",
      "nbconvert_exporter": "python",
      "pygments_lexer": "ipython3",
      "version": "3.8.8"
    }
  },
  "cells": [
    {
      "cell_type": "markdown",
      "metadata": {
        "id": "view-in-github",
        "colab_type": "text"
      },
      "source": [
        "<a href=\"https://colab.research.google.com/github/POF77/Proyecto.BEDU.ModuloII/blob/update/Proyecto_BEDU.ipynb\" target=\"_parent\"><img src=\"https://colab.research.google.com/assets/colab-badge.svg\" alt=\"Open In Colab\"/></a>"
      ]
    },
    {
      "cell_type": "markdown",
      "metadata": {
        "id": "p6dP3QR4kEKa"
      },
      "source": [
        "# Módulo 3: **Procesamiento de Datos con Python**\n",
        "## Proyecto Final\n",
        "### Equipo:\n",
        "- Edgar Israel Casanova Cardoz\n",
        "- Omar Garduza\n",
        "- Lizzeth Gómez Rodríguez\n",
        "- Paul O'Hea Flores\n",
        "- Alan Sandoval"
      ]
    },
    {
      "cell_type": "markdown",
      "metadata": {
        "id": "Sd905bRglQiq"
      },
      "source": [
        "# **IMPACTO DEL CAMBIO CLIMÁTICO EN LA SALUD PÚBLICA**\n",
        "\n",
        "## 1. Identificación del Problema\n",
        "- Impacto del cambio climático sobre las enfermedades respiratorias en países de la OCDE\n",
        "\n",
        "## 2. Investigación y justificación del problema\n",
        "<p align = justify>\n",
        "El Cambio Climático es un problema de años pero que hoy en día se encuentra agudizado y que a su vez ha alterado drásticamente la biodiversidad del planeta, lo cual favorece la transmisión de patógenos causantes de enfermedades, particularmente aquellas relacionadas con las olas de calor, la falta de agua potable, la reproducción de plagas y las inundaciones.\n",
        "\n",
        "<p align = justify>\n",
        "En este sentido, la población más afectada es aquella que carece de infraestructura salubre adecuada, en combinación con otros factores como las condiciones vulnerables de vivienda y una mala alimentación. Dicha población se puede encontrar con mayor abundancia en países en vías de desarrollo. Por lo anterior, es importante tomar acción sobre los efectos negativos que puede causar el Cambio Climático sobre la salud pública.\n",
        "\n",
        "<p align = justify>\n",
        "Organizaciones internacionales como Greenpeace, el Intergovernmental Panel on Climate Change (IPCC) y la Organización Mundial de la Salud (OMS) han presentado estudios respecto a la gravedad que puede presentar el cambio climático sobre la salud pública; y se sabe que, entre los principales gases de efecto invernadero se encuentran el dióxido de carbono (CO2), el metano (CH4), el óxido nitroso(N2O) y el ozono (O3).\n"
      ]
    },
    {
      "cell_type": "markdown",
      "metadata": {
        "id": "hPW4rc_ooDaC"
      },
      "source": [
        "## 3. Preguntas de Investigación\n",
        "- ¿Cuál es el impacto del cambio climático sobre la salud?\n",
        "- ¿Qué relación existe entre el cambio climático, la contaminación del aire, el incremento de la temperatura y la intensificación de enfermedades respiratorias, de salud mental, gastrointestinales y cardiacas?\n",
        "- ¿Qué relación existe entre el cambio climático y la aparición de nuevas enfermedades o virus?\n",
        "- ¿Qué tipo de actividades afectan de manera negativa el cambio climático?\n",
        "- ¿Qué enfermedad presenta la mayor correlación con el cambio climático?\n",
        "- ¿Qué países se encuentran mayormente afectados por el cambio climático, los desarrollados o aquellos en vías de desarrollo?\n",
        "- ¿Qué países contribuyen más al cambio climático, los de mayor o menor afectación?\n",
        "\n",
        "### Información Disponible\n",
        "Los datos para el presente análisis se han obtenido de dos fuentes de información disponibles, por un lado, los datos del [ClimateWatch](https://www.climatewatchdata.org/data-explorer/historical-emissions?historical-emissions-data-sources=cait&historical-emissions-gases=all-ghg&historical-emissions-regions=All%20Selected&historical-emissions-sectors=total-including-lucf&page=1)\n",
        "nos permiten cuantificar los niveles del cambio climático, cuyos datos disponibles van de 1996 a 2019, las variables a utilizar son los gases de efecto invernadero ya mencionados anteriormente:  CO2, CH4, N2O y O3. Por otro lado, se utiliza como base la información recabada por [Oxford University](https://ourworldindata.org/grapher/respiratory-disease-death-rate?tab=chart)\n",
        "que es un compilado de muertes por enfermedades respiratorias crónicas, cuya disponibilidad va desde 1990 hasta 2017 y son publicados por el [Global Health Data Exchange](http://ghdx.healthdata.org/gbd-results-tool) con los cuales nos es posible cuantificar las defunciones cuyas causas son enfermedades respiratorias."
      ]
    },
    {
      "cell_type": "code",
      "metadata": {
        "id": "H12hTg2Rg8Vj"
      },
      "source": [
        "# Importación de los paquetes necesarios para el análisis\n",
        "import pandas as pd\n",
        "import numpy as np"
      ],
      "execution_count": null,
      "outputs": []
    },
    {
      "cell_type": "markdown",
      "metadata": {
        "id": "QG8I0zEwnREU"
      },
      "source": [
        "### Cargado de datos"
      ]
    },
    {
      "cell_type": "code",
      "metadata": {
        "colab": {
          "base_uri": "https://localhost:8080/",
          "height": 204
        },
        "id": "Odb0Q-ZMhHrO",
        "scrolled": true,
        "outputId": "6c78c01a-e9c2-4eb9-a554-bbffcbee389f"
      },
      "source": [
        "# Leemos el archivo csv que contiene los niveles de gases de efecto invernader, la temperatura y los fallecimientos por países.\n",
        "# Guerdamos el archivo en el objeto \"df\"\n",
        "df = pd.read_csv(\"https://raw.githubusercontent.com/POF77/Proyecto.BEDU.ModuloII/main/Datos_nuevos/datos_brutos.csv\") \n",
        "df.head()"
      ],
      "execution_count": null,
      "outputs": [
        {
          "output_type": "execute_result",
          "data": {
            "text/html": [
              "<div>\n",
              "<style scoped>\n",
              "    .dataframe tbody tr th:only-of-type {\n",
              "        vertical-align: middle;\n",
              "    }\n",
              "\n",
              "    .dataframe tbody tr th {\n",
              "        vertical-align: top;\n",
              "    }\n",
              "\n",
              "    .dataframe thead th {\n",
              "        text-align: right;\n",
              "    }\n",
              "</style>\n",
              "<table border=\"1\" class=\"dataframe\">\n",
              "  <thead>\n",
              "    <tr style=\"text-align: right;\">\n",
              "      <th></th>\n",
              "      <th>Unnamed: 0</th>\n",
              "      <th>country</th>\n",
              "      <th>year</th>\n",
              "      <th>id</th>\n",
              "      <th>tot_gas</th>\n",
              "      <th>all_gas</th>\n",
              "      <th>ch4</th>\n",
              "      <th>co2</th>\n",
              "      <th>fgas</th>\n",
              "      <th>n2o</th>\n",
              "      <th>mean_year_tempeC</th>\n",
              "      <th>year_deaths</th>\n",
              "    </tr>\n",
              "  </thead>\n",
              "  <tbody>\n",
              "    <tr>\n",
              "      <th>0</th>\n",
              "      <td>1</td>\n",
              "      <td>Afghanistan</td>\n",
              "      <td>1900</td>\n",
              "      <td>Afghanistan-1900</td>\n",
              "      <td>NaN</td>\n",
              "      <td>NaN</td>\n",
              "      <td>NaN</td>\n",
              "      <td>NaN</td>\n",
              "      <td>NaN</td>\n",
              "      <td>NaN</td>\n",
              "      <td>NaN</td>\n",
              "      <td>NaN</td>\n",
              "    </tr>\n",
              "    <tr>\n",
              "      <th>1</th>\n",
              "      <td>2</td>\n",
              "      <td>Afghanistan</td>\n",
              "      <td>1901</td>\n",
              "      <td>Afghanistan-1901</td>\n",
              "      <td>NaN</td>\n",
              "      <td>NaN</td>\n",
              "      <td>NaN</td>\n",
              "      <td>NaN</td>\n",
              "      <td>NaN</td>\n",
              "      <td>NaN</td>\n",
              "      <td>12.991667</td>\n",
              "      <td>NaN</td>\n",
              "    </tr>\n",
              "    <tr>\n",
              "      <th>2</th>\n",
              "      <td>3</td>\n",
              "      <td>Afghanistan</td>\n",
              "      <td>1902</td>\n",
              "      <td>Afghanistan-1902</td>\n",
              "      <td>NaN</td>\n",
              "      <td>NaN</td>\n",
              "      <td>NaN</td>\n",
              "      <td>NaN</td>\n",
              "      <td>NaN</td>\n",
              "      <td>NaN</td>\n",
              "      <td>13.175000</td>\n",
              "      <td>NaN</td>\n",
              "    </tr>\n",
              "    <tr>\n",
              "      <th>3</th>\n",
              "      <td>4</td>\n",
              "      <td>Afghanistan</td>\n",
              "      <td>1903</td>\n",
              "      <td>Afghanistan-1903</td>\n",
              "      <td>NaN</td>\n",
              "      <td>NaN</td>\n",
              "      <td>NaN</td>\n",
              "      <td>NaN</td>\n",
              "      <td>NaN</td>\n",
              "      <td>NaN</td>\n",
              "      <td>12.008333</td>\n",
              "      <td>NaN</td>\n",
              "    </tr>\n",
              "    <tr>\n",
              "      <th>4</th>\n",
              "      <td>5</td>\n",
              "      <td>Afghanistan</td>\n",
              "      <td>1904</td>\n",
              "      <td>Afghanistan-1904</td>\n",
              "      <td>NaN</td>\n",
              "      <td>NaN</td>\n",
              "      <td>NaN</td>\n",
              "      <td>NaN</td>\n",
              "      <td>NaN</td>\n",
              "      <td>NaN</td>\n",
              "      <td>12.458333</td>\n",
              "      <td>NaN</td>\n",
              "    </tr>\n",
              "  </tbody>\n",
              "</table>\n",
              "</div>"
            ],
            "text/plain": [
              "   Unnamed: 0      country  year                id  tot_gas  all_gas  ch4  \\\n",
              "0           1  Afghanistan  1900  Afghanistan-1900      NaN      NaN  NaN   \n",
              "1           2  Afghanistan  1901  Afghanistan-1901      NaN      NaN  NaN   \n",
              "2           3  Afghanistan  1902  Afghanistan-1902      NaN      NaN  NaN   \n",
              "3           4  Afghanistan  1903  Afghanistan-1903      NaN      NaN  NaN   \n",
              "4           5  Afghanistan  1904  Afghanistan-1904      NaN      NaN  NaN   \n",
              "\n",
              "   co2  fgas  n2o  mean_year_tempeC  year_deaths  \n",
              "0  NaN   NaN  NaN               NaN          NaN  \n",
              "1  NaN   NaN  NaN         12.991667          NaN  \n",
              "2  NaN   NaN  NaN         13.175000          NaN  \n",
              "3  NaN   NaN  NaN         12.008333          NaN  \n",
              "4  NaN   NaN  NaN         12.458333          NaN  "
            ]
          },
          "metadata": {
            "tags": []
          },
          "execution_count": 10
        }
      ]
    },
    {
      "cell_type": "markdown",
      "metadata": {
        "id": "V2fLWdIZjE7s"
      },
      "source": [
        "## 4. Exploración de datos\n",
        "El conjunto de datos nos sirve para ver la relación entre el cambio climático y las muertes provocadas a causa de una enfermedad respiratoria. \n",
        "\n",
        "A continuación observemos la estructura de los datos"
      ]
    },
    {
      "cell_type": "code",
      "metadata": {
        "id": "gkwLdIfn1e2s",
        "outputId": "36d99df7-bc88-4334-f5b5-7dc944561834"
      },
      "source": [
        "df.shape"
      ],
      "execution_count": null,
      "outputs": [
        {
          "output_type": "execute_result",
          "data": {
            "text/plain": [
              "(27978, 12)"
            ]
          },
          "metadata": {
            "tags": []
          },
          "execution_count": 11
        }
      ]
    },
    {
      "cell_type": "markdown",
      "metadata": {
        "id": "jpJQInWr1e2v"
      },
      "source": [
        "- Podemos observar de igual manera que el tamaño del dataset es de 27,978 filas y 12 columnas, lo cuál teniendo en cuenta de que son 36 países miembros de la OCDE, podemos ver que tenemos un numero moderado de datos\n",
        "- Las columnas con las que cuenta el dataset son país, año, id, total de gases, todos los gases, emisiones de metano(CH4), emisiones de dióxido de carbono(CO2), emisiones de gases Fluoruro(Fgas), emisiones de Nitrógeno(N2O), temperatura promedio en grados Celsius, número de muertes en dicho año por enfermedades respiratorias\n",
        "\n",
        "- Podemos notar que el nombre de las columnas que presenta nuestro dataset, no es el más apropiado, ya que columnas como 'Unnamed:0' o  tot_gas y all_gas pueden confundirse en su interpretación\n"
      ]
    },
    {
      "cell_type": "code",
      "metadata": {
        "id": "kJ4K80wZ1e2x",
        "outputId": "5fba3dc1-d77a-42e0-bbb2-36bdd05a4cd0"
      },
      "source": [
        "df.dtypes"
      ],
      "execution_count": null,
      "outputs": [
        {
          "output_type": "execute_result",
          "data": {
            "text/plain": [
              "Unnamed: 0            int64\n",
              "country              object\n",
              "year                  int64\n",
              "id                   object\n",
              "tot_gas             float64\n",
              "all_gas             float64\n",
              "ch4                 float64\n",
              "co2                 float64\n",
              "fgas                float64\n",
              "n2o                 float64\n",
              "mean_year_tempeC    float64\n",
              "year_deaths         float64\n",
              "dtype: object"
            ]
          },
          "metadata": {
            "tags": []
          },
          "execution_count": 12
        }
      ]
    },
    {
      "cell_type": "markdown",
      "metadata": {
        "id": "TpEgHDKw1e20"
      },
      "source": [
        "- Podemos observar el tipo de datos de las columnas de nuestro conjunto de datos, vemos que el id es un string que se interpreta como objeto así como el país, los demás valores son valores numéricos enteros y flotantes, también podemos usar la función df.info() para obtener información de las columnas"
      ]
    },
    {
      "cell_type": "code",
      "metadata": {
        "id": "DqEPYvPG1e21",
        "outputId": "198ecdc9-0f04-4cad-92c1-f5910a93519d"
      },
      "source": [
        "df.info()"
      ],
      "execution_count": null,
      "outputs": [
        {
          "output_type": "stream",
          "text": [
            "<class 'pandas.core.frame.DataFrame'>\n",
            "RangeIndex: 1435 entries, 0 to 1434\n",
            "Data columns (total 12 columns):\n",
            " #   Column            Non-Null Count  Dtype  \n",
            "---  ------            --------------  -----  \n",
            " 0   Unnamed: 0        1435 non-null   int64  \n",
            " 1   country           1435 non-null   object \n",
            " 2   year              1435 non-null   int64  \n",
            " 3   id                1435 non-null   object \n",
            " 4   tot_gas           1435 non-null   float64\n",
            " 5   all_gas           1435 non-null   float64\n",
            " 6   ch4               1435 non-null   float64\n",
            " 7   co2               1435 non-null   float64\n",
            " 8   fgas              1435 non-null   float64\n",
            " 9   n2o               1435 non-null   float64\n",
            " 10  mean_year_tempeC  1435 non-null   float64\n",
            " 11  year_deaths       1435 non-null   int64  \n",
            "dtypes: float64(7), int64(3), object(2)\n",
            "memory usage: 134.7+ KB\n"
          ],
          "name": "stdout"
        }
      ]
    },
    {
      "cell_type": "markdown",
      "metadata": {
        "id": "vHfzhajW1e22"
      },
      "source": [
        "- De igual manera podemos darnos cuenta de que existen varios NA's en nuestro dataset, esto dificulta la obtención de datos ya que hay muchos países con los cuáles algunas columnas no tenemos registro de muertes o emisiones, incluso de su temperatura."
      ]
    },
    {
      "cell_type": "code",
      "metadata": {
        "id": "aqyFKIck1e23",
        "outputId": "6e6b7019-715a-486c-b80f-4a54d0390006"
      },
      "source": [
        "df['country'].unique()"
      ],
      "execution_count": null,
      "outputs": [
        {
          "output_type": "execute_result",
          "data": {
            "text/plain": [
              "array(['Afghanistan', 'Albania', 'Algeria', 'Andorra', 'Angola',\n",
              "       'Antigua and Barbuda', 'Argentina', 'Armenia', 'Australia',\n",
              "       'Austria', 'Azerbaijan', 'Bahamas', 'Bahrain', 'Bangladesh',\n",
              "       'Barbados', 'Belarus', 'Belgium', 'Belize', 'Benin', 'Bhutan',\n",
              "       'Bolivia', 'Bosnia and Herzegovina', 'Botswana', 'Brazil',\n",
              "       'Brunei', 'Bulgaria', 'Burkina Faso', 'Burundi', 'Cambodia',\n",
              "       'Cameroon', 'Canada', 'Cape Verde', 'Central African Republic',\n",
              "       'Chad', 'Chile', 'China', 'Colombia', 'Comoros',\n",
              "       'Congo (Democratic Republic of the)', 'Congo (Republic of the)',\n",
              "       'Cook Islands', 'Costa Rica', \"Cote d'Ivoire\", 'Croatia', 'Cuba',\n",
              "       'Cyprus', 'Czech Republic', 'Denmark', 'Djibouti', 'Dominica',\n",
              "       'Dominican Republic', 'Ecuador', 'Egypt', 'El Salvador',\n",
              "       'Equatorial Guinea', 'Eritrea', 'Estonia', 'Eswatini', 'Ethiopia',\n",
              "       'Faroe Islands', 'Federated States of Micronesia', 'Fiji',\n",
              "       'Finland', 'France', 'Gabon', 'Gambia', 'Georgia', 'Germany',\n",
              "       'Ghana', 'Greece', 'Greenland', 'Grenada', 'Guatemala', 'Guinea',\n",
              "       'Guinea-Bissau', 'Guyana', 'Haiti', 'Honduras', 'Hungary',\n",
              "       'Iceland', 'India', 'Indonesia', 'Iran', 'Iraq', 'Ireland',\n",
              "       'Israel', 'Italy', 'Jamaica', 'Japan', 'Jordan', 'Kazakhstan',\n",
              "       'Kenya', 'Kiribati', 'Korea', 'Kuwait', 'Kyrgyz Republic', 'Laos',\n",
              "       'Latvia', 'Lebanon', 'Lesotho', 'Liberia', 'Libya',\n",
              "       'Liechtenstein', 'Lithuania', 'Luxembourg', 'Macedonia',\n",
              "       'Madagascar', 'Malawi', 'Malaysia', 'Maldives', 'Mali', 'Malta',\n",
              "       'Marshall Islands', 'Mauritania', 'Mauritius', 'Mexico', 'Moldova',\n",
              "       'Monaco', 'Mongolia', 'Morocco', 'Mozambique', 'Myanmar (Burma)',\n",
              "       'Namibia', 'Nauru', 'Nepal', 'Netherlands', 'New Caledonia',\n",
              "       'New Zealand', 'Nicaragua', 'Niger', 'Nigeria',\n",
              "       'Northern Mariana Islands', 'Norway', 'Oman', 'Pakistan', 'Palau',\n",
              "       'Panama', 'Papua New Guinea', 'Paraguay', 'Peru', 'Philippines',\n",
              "       'Poland', 'Portugal', 'Puerto Rico', 'Qatar',\n",
              "       'Republic of Montenegro', 'Republic of Serbia', 'Romania',\n",
              "       'Russia', 'Rwanda', 'Samoa', 'Sao Tome and Principe',\n",
              "       'Saudi Arabia', 'Senegal', 'Seychelles', 'Sierra Leone',\n",
              "       'Singapore', 'Slovakia', 'Slovenia', 'Solomon Islands', 'Somalia',\n",
              "       'South Africa', 'South Sudan', 'Spain', 'Sri Lanka',\n",
              "       'St. Kitts and Nevis', 'St. Lucia',\n",
              "       'St. Vincent and the Grenadines', 'Sudan', 'Suriname', 'Sweden',\n",
              "       'Switzerland', 'Syria', 'Tajikistan', 'Tanzania', 'Thailand',\n",
              "       'Timor Leste', 'Togo', 'Tonga', 'Trinidad and Tobago', 'Tunisia',\n",
              "       'Turkey', 'Turkmenistan', 'Tuvalu', 'Uganda', 'Ukraine',\n",
              "       'United Arab Emirates', 'United Kingdom', 'United States',\n",
              "       'Uruguay', 'Uzbekistan', 'Vanuatu', 'Venezuela', 'Vietnam',\n",
              "       'Yemen', 'Zambia', 'Zimbabwe'], dtype=object)"
            ]
          },
          "metadata": {
            "tags": []
          },
          "execution_count": 13
        }
      ]
    },
    {
      "cell_type": "code",
      "metadata": {
        "id": "-LW89eQj1e24",
        "outputId": "171d077e-e6fe-4d86-eaf7-997dac370110"
      },
      "source": [
        "len(df['country'].unique())"
      ],
      "execution_count": null,
      "outputs": [
        {
          "output_type": "execute_result",
          "data": {
            "text/plain": [
              "197"
            ]
          },
          "metadata": {
            "tags": []
          },
          "execution_count": 14
        }
      ]
    },
    {
      "cell_type": "markdown",
      "metadata": {
        "id": "4IGj7pi91e25"
      },
      "source": [
        "Podemos ver que tenemos cerca de 200 países en nuestro conjunto de datos, los cuales deberán ser limpiados para obtener realmente los datos de los países con registros de mediciones"
      ]
    },
    {
      "cell_type": "markdown",
      "metadata": {
        "id": "poe0PplC25g9"
      },
      "source": [
        "## Limpieza de datos"
      ]
    },
    {
      "cell_type": "code",
      "metadata": {
        "id": "ICQF2eaQ28bx"
      },
      "source": [
        ""
      ],
      "execution_count": null,
      "outputs": []
    }
  ]
}