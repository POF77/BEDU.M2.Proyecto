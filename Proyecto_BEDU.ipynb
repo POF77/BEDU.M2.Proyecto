{
  "nbformat": 4,
  "nbformat_minor": 0,
  "metadata": {
    "colab": {
      "name": "Proyecto_BEDU.ipynb",
      "provenance": [],
      "include_colab_link": true
    },
    "kernelspec": {
      "display_name": "Python 3",
      "language": "python",
      "name": "python3"
    },
    "language_info": {
      "codemirror_mode": {
        "name": "ipython",
        "version": 3
      },
      "file_extension": ".py",
      "mimetype": "text/x-python",
      "name": "python",
      "nbconvert_exporter": "python",
      "pygments_lexer": "ipython3",
      "version": "3.8.8"
    }
  },
  "cells": [
    {
      "cell_type": "markdown",
      "metadata": {
        "id": "view-in-github",
        "colab_type": "text"
      },
      "source": [
        "<a href=\"https://colab.research.google.com/github/POF77/Proyecto.BEDU.ModuloII/blob/new_update/Proyecto_BEDU.ipynb\" target=\"_parent\"><img src=\"https://colab.research.google.com/assets/colab-badge.svg\" alt=\"Open In Colab\"/></a>"
      ]
    },
    {
      "cell_type": "markdown",
      "metadata": {
        "id": "p6dP3QR4kEKa"
      },
      "source": [
        "# Módulo 3: **Procesamiento de Datos con Python**\n",
        "## Proyecto Final\n",
        "### Equipo:\n",
        "- Edgar Israel Casanova Cardoz\n",
        "- Omar Garduza\n",
        "- Lizzeth Gómez Rodríguez\n",
        "- Paul O'Hea Flores\n",
        "- Alan Sandoval"
      ]
    },
    {
      "cell_type": "markdown",
      "metadata": {
        "id": "Sd905bRglQiq"
      },
      "source": [
        "# **IMPACTO DEL CAMBIO CLIMÁTICO EN LA SALUD PÚBLICA**\n",
        "\n",
        "## 1. Identificación del Problema\n",
        "- Impacto del cambio climático sobre las enfermedades respiratorias en países de la OCDE\n",
        "\n",
        "## 2. Investigación y justificación del problema\n",
        "<p align = justify>\n",
        "El Cambio Climático es un problema de años pero que hoy en día se encuentra agudizado y que a su vez ha alterado drásticamente la biodiversidad del planeta, lo cual favorece la transmisión de patógenos causantes de enfermedades, particularmente aquellas relacionadas con las olas de calor, la falta de agua potable, la reproducción de plagas y las inundaciones.\n",
        "\n",
        "<p align = justify>\n",
        "En este sentido, la población más afectada es aquella que carece de infraestructura salubre adecuada, en combinación con otros factores como las condiciones vulnerables de vivienda y una mala alimentación. Dicha población se puede encontrar con mayor abundancia en países en vías de desarrollo. En ese sentido y dada la disponibilidad de los datos, el presente estudio se realiza tomando en cuenta los países de la OCDE.\n",
        "\n",
        "<p align = justify>\n",
        "Asimiso, organizaciones internacionales como Greenpeace, el Intergovernmental Panel on Climate Change (IPCC) y la Organización Mundial de la Salud (OMS) han presentado estudios respecto a la gravedad que puede presentar el cambio climático sobre la salud pública, por lo que es importante tomar acción respecto al tema y entender mejor las causas para poder mitigar los efectos sobre la salud. Por su parte, se sabe que, entre los principales gases de efecto invernadero se encuentran el dióxido de carbono (CO2), el metano (CH4), el óxido nitroso(N2O) y el ozono (O3).\n"
      ]
    },
    {
      "cell_type": "markdown",
      "metadata": {
        "id": "hPW4rc_ooDaC"
      },
      "source": [
        "## 3. Preguntas de Investigación\n",
        "- ¿Cuál es el impacto del cambio climático sobre la salud?\n",
        "- ¿Qué relación existe entre el cambio climático, la contaminación del aire, el incremento de la temperatura y la intensificación de enfermedades respiratorias, de salud mental, gastrointestinales y cardiacas?\n",
        "- ¿Qué relación existe entre el cambio climático y la aparición de nuevas enfermedades o virus?\n",
        "- ¿Qué tipo de actividades afectan de manera negativa el cambio climático?\n",
        "- ¿Qué enfermedad presenta la mayor correlación con el cambio climático?\n",
        "- ¿Qué países se encuentran mayormente afectados por el cambio climático, los desarrollados o aquellos en vías de desarrollo?\n",
        "- ¿Qué países contribuyen más al cambio climático, los de mayor o menor afectación?\n",
        "\n",
        "### Información Disponible\n",
        "Los datos para el presente análisis se han obtenido de dos fuentes de información disponibles, por un lado, los datos del [Climate Watch](https://www.climatewatchdata.org/data-explorer/historical-emissions?historical-emissions-data-sources=cait&historical-emissions-gases=all-ghg&historical-emissions-regions=All%20Selected&historical-emissions-sectors=total-including-lucf&page=1) que nos permiten cuantificar los niveles de los gases que afectan al cambio climático, cuyos datos disponibles van de 1996 a 2019. Las variables que se toman en consideración son los gases de efecto invernadero ya mencionados anteriormente:  CO2, CH4, N2O y O3. Por otro lado, para cuantificar el efectos de estos gases sobre la salud se utilizan los datos de la [Universidad de Oxford](\"https://ourworldindata.org/grapher/respiratory-disease-death-rate?tab=chart\"), que es un compilado de las muertes por enfermedades respiratorias crónicas, cuyos años disponibles van desde 1990 a 2017. Estos datos se encuentran en el [Global Health Exchange](http://ghdx.healthdata.org/gbd-results-tool).En este estudio se utilizan los países de la OCDE como se mencionó anteriormente. Respecto a la cuantificación de la temperatura se utiliza **(PREGUNTAR A PAUL)**"
      ]
    },
    {
      "cell_type": "code",
      "metadata": {
        "id": "H12hTg2Rg8Vj"
      },
      "source": [
        "# Importación de los paquetes necesarios para el análisis\n",
        "import pandas as pd\n",
        "import numpy as np"
      ],
      "execution_count": 1,
      "outputs": []
    },
    {
      "cell_type": "markdown",
      "metadata": {
        "id": "QG8I0zEwnREU"
      },
      "source": [
        "### Cargado y exploración de los datos"
      ]
    },
    {
      "cell_type": "code",
      "metadata": {
        "kernelspec": {
          "display_name": "Python 3",
          "language": "python",
          "name": "python3"
        },
        "language_info": {
          "codemirror_mode": {
            "name": "ipython",
            "version": 3
          },
          "file_extension": ".py",
          "mimetype": "text/x-python",
          "name": "python",
          "nbconvert_exporter": "python",
          "pygments_lexer": "ipython3",
          "version": "3.8.8"
        },
        "id": "Ioomb8F18Du1",
        "outputId": "c3deb9e7-4de6-48ff-ee6d-bf3a4738562d",
        "colab": {
          "base_uri": "https://localhost:8080/",
          "height": 241
        }
      },
      "source": [
        "# Leemos el archivo csv que contiene los niveles de gases de efecto invernader, la temperatura y los fallecimientos por países.\n",
        "# Guardamos el archivo\n",
        "df = pd.read_csv(\"https://raw.githubusercontent.com/POF77/Proyecto.BEDU.ModuloII/main/Datos_nuevos/bruteData.csv\")\n",
        "df.head()"
      ],
      "execution_count": 2,
      "outputs": [
        {
          "output_type": "execute_result",
          "data": {
            "text/html": [
              "<div>\n",
              "<style scoped>\n",
              "    .dataframe tbody tr th:only-of-type {\n",
              "        vertical-align: middle;\n",
              "    }\n",
              "\n",
              "    .dataframe tbody tr th {\n",
              "        vertical-align: top;\n",
              "    }\n",
              "\n",
              "    .dataframe thead th {\n",
              "        text-align: right;\n",
              "    }\n",
              "</style>\n",
              "<table border=\"1\" class=\"dataframe\">\n",
              "  <thead>\n",
              "    <tr style=\"text-align: right;\">\n",
              "      <th></th>\n",
              "      <th>country</th>\n",
              "      <th>year</th>\n",
              "      <th>iso3</th>\n",
              "      <th>health_measure</th>\n",
              "      <th>sex</th>\n",
              "      <th>respiratory_infections_and_tuberculosis</th>\n",
              "      <th>chronic_respiratory_diseases</th>\n",
              "      <th>ClimateSource</th>\n",
              "      <th>climate_units</th>\n",
              "      <th>sector</th>\n",
              "      <th>allghg</th>\n",
              "      <th>co2</th>\n",
              "      <th>ch4</th>\n",
              "      <th>n2o</th>\n",
              "      <th>fgas</th>\n",
              "      <th>mean_annual_tempC</th>\n",
              "    </tr>\n",
              "  </thead>\n",
              "  <tbody>\n",
              "    <tr>\n",
              "      <th>0</th>\n",
              "      <td>Bangladesh</td>\n",
              "      <td>1990</td>\n",
              "      <td>NaN</td>\n",
              "      <td>Deaths</td>\n",
              "      <td>Both</td>\n",
              "      <td>195547.33644</td>\n",
              "      <td>61136.67886</td>\n",
              "      <td>NaN</td>\n",
              "      <td>NaN</td>\n",
              "      <td>NaN</td>\n",
              "      <td>NaN</td>\n",
              "      <td>NaN</td>\n",
              "      <td>NaN</td>\n",
              "      <td>NaN</td>\n",
              "      <td>NaN</td>\n",
              "      <td>NaN</td>\n",
              "    </tr>\n",
              "    <tr>\n",
              "      <th>1</th>\n",
              "      <td>Lesotho</td>\n",
              "      <td>1990</td>\n",
              "      <td>NaN</td>\n",
              "      <td>Deaths</td>\n",
              "      <td>Both</td>\n",
              "      <td>3378.15120</td>\n",
              "      <td>999.76491</td>\n",
              "      <td>NaN</td>\n",
              "      <td>NaN</td>\n",
              "      <td>NaN</td>\n",
              "      <td>NaN</td>\n",
              "      <td>NaN</td>\n",
              "      <td>NaN</td>\n",
              "      <td>NaN</td>\n",
              "      <td>NaN</td>\n",
              "      <td>NaN</td>\n",
              "    </tr>\n",
              "    <tr>\n",
              "      <th>2</th>\n",
              "      <td>Timor-Leste</td>\n",
              "      <td>1990</td>\n",
              "      <td>NaN</td>\n",
              "      <td>Deaths</td>\n",
              "      <td>Both</td>\n",
              "      <td>1819.67578</td>\n",
              "      <td>244.29447</td>\n",
              "      <td>NaN</td>\n",
              "      <td>NaN</td>\n",
              "      <td>NaN</td>\n",
              "      <td>NaN</td>\n",
              "      <td>NaN</td>\n",
              "      <td>NaN</td>\n",
              "      <td>NaN</td>\n",
              "      <td>NaN</td>\n",
              "      <td>NaN</td>\n",
              "    </tr>\n",
              "    <tr>\n",
              "      <th>3</th>\n",
              "      <td>Lebanon</td>\n",
              "      <td>1990</td>\n",
              "      <td>NaN</td>\n",
              "      <td>Deaths</td>\n",
              "      <td>Both</td>\n",
              "      <td>743.06088</td>\n",
              "      <td>694.74642</td>\n",
              "      <td>NaN</td>\n",
              "      <td>NaN</td>\n",
              "      <td>NaN</td>\n",
              "      <td>NaN</td>\n",
              "      <td>NaN</td>\n",
              "      <td>NaN</td>\n",
              "      <td>NaN</td>\n",
              "      <td>NaN</td>\n",
              "      <td>NaN</td>\n",
              "    </tr>\n",
              "    <tr>\n",
              "      <th>4</th>\n",
              "      <td>Liberia</td>\n",
              "      <td>1990</td>\n",
              "      <td>NaN</td>\n",
              "      <td>Deaths</td>\n",
              "      <td>Both</td>\n",
              "      <td>5889.69301</td>\n",
              "      <td>436.66879</td>\n",
              "      <td>NaN</td>\n",
              "      <td>NaN</td>\n",
              "      <td>NaN</td>\n",
              "      <td>NaN</td>\n",
              "      <td>NaN</td>\n",
              "      <td>NaN</td>\n",
              "      <td>NaN</td>\n",
              "      <td>NaN</td>\n",
              "      <td>NaN</td>\n",
              "    </tr>\n",
              "  </tbody>\n",
              "</table>\n",
              "</div>"
            ],
            "text/plain": [
              "       country  year iso3 health_measure  ... ch4  n2o  fgas mean_annual_tempC\n",
              "0   Bangladesh  1990  NaN         Deaths  ... NaN  NaN   NaN               NaN\n",
              "1      Lesotho  1990  NaN         Deaths  ... NaN  NaN   NaN               NaN\n",
              "2  Timor-Leste  1990  NaN         Deaths  ... NaN  NaN   NaN               NaN\n",
              "3      Lebanon  1990  NaN         Deaths  ... NaN  NaN   NaN               NaN\n",
              "4      Liberia  1990  NaN         Deaths  ... NaN  NaN   NaN               NaN\n",
              "\n",
              "[5 rows x 16 columns]"
            ]
          },
          "metadata": {
            "tags": []
          },
          "execution_count": 2
        }
      ]
    },
    {
      "cell_type": "markdown",
      "metadata": {
        "id": "hOYapcuc8Du6"
      },
      "source": [
        "## 4. Exploración de datos\n",
        "El conjunto de datos nos sirve para ver la relación entre el cambio climático y las muertes provocadas a causa de una enfermedad respiratoria.\n",
        "\n",
        "A continuación observemos la estructura de los datos"
      ]
    },
    {
      "cell_type": "code",
      "metadata": {
        "id": "5QRGsHnW8Du7",
        "outputId": "04ff5721-b5d9-48bf-f922-797b8c10b839"
      },
      "source": [
        "df.shape"
      ],
      "execution_count": null,
      "outputs": [
        {
          "output_type": "execute_result",
          "data": {
            "text/plain": [
              "(21356, 16)"
            ]
          },
          "metadata": {
            "tags": []
          },
          "execution_count": 3
        }
      ]
    },
    {
      "cell_type": "markdown",
      "metadata": {
        "id": "NxMkPJom8Du9"
      },
      "source": [
        "Podemos observar que el tamaño del dataset es de 21,356 filas y 16 columnas, lo cuál tomando en cuenta que son 36 países miembros de la OCDE, y que por cada país tenemos un histórico de datos aproximado de 30 años desde 1990 hasta 2019, podemos ver que tenemos conjunto completo de datos.\n",
        "\n",
        "Las columnas con las que cuenta el dataset son:\n",
        "1. País\n",
        "2. Año\n",
        "3. Iso3 (Abreviatura del país)\n",
        "4. Métrica de salud\n",
        "5. Sexo de la métrica\n",
        "6. Muertes por infecctiones respiratorias y tuberculosis\n",
        "7. Muertes por enfermedades respiratorias crónicas\n",
        "8. Fuente de los datos climáticos\n",
        "9. Unidades de métrica de datos climáticos\n",
        "10. Sector de medida de datos climáticos\n",
        "11. Total de gases de efecto invernadero\n",
        "12. Emisiones de dióxido de carbono(CO2)\n",
        "13. Emisiones de metano(CH4)\n",
        "14. Emisiones de Nitrógeno(N2O)\n",
        "15. Emisiones de gases Fluoruro(Fgas)\n",
        "16. Temperatura promedio en grados Celsius\n",
        "\n",
        "Observemos el nombre de las columnas que presenta nuestro dataset, algunas como como health_measure, climate_units,iso3, etc... no son entendibles al p´blico en general, por ser nombres técnicos que usan las personas que se dedican al estudio del cambio climático, gélogos entre otros del mismo gremio, por lo que es importante realizar algunos renombres en el conjunto de datos. "
      ]
    },
    {
      "cell_type": "code",
      "metadata": {
        "id": "lrTS1MZB8Du_",
        "outputId": "8f804815-9ffb-4327-ee0b-da5a0aa9bf59"
      },
      "source": [
        "df.dtypes"
      ],
      "execution_count": null,
      "outputs": [
        {
          "output_type": "execute_result",
          "data": {
            "text/plain": [
              "country                                     object\n",
              "year                                         int64\n",
              "iso3                                        object\n",
              "health_measure                              object\n",
              "sex                                         object\n",
              "respiratory_infections_and_tuberculosis    float64\n",
              "chronic_respiratory_diseases               float64\n",
              "ClimateSource                               object\n",
              "climate_units                               object\n",
              "sector                                      object\n",
              "allghg                                     float64\n",
              "co2                                        float64\n",
              "ch4                                        float64\n",
              "n2o                                        float64\n",
              "fgas                                       float64\n",
              "mean_annual_tempC                          float64\n",
              "dtype: object"
            ]
          },
          "metadata": {
            "tags": []
          },
          "execution_count": 4
        }
      ]
    },
    {
      "cell_type": "markdown",
      "metadata": {
        "id": "3yONnPRA8DvD"
      },
      "source": [
        "Observando el tipo de datos de las columnas de nuestro conjunto de datos, nos damos cuenta que la mayoría de las columnas son datos de tipo flotante y objetos(por lo general este tipo de datos son asignados a los string), y únicamente la columna de año('year') son de datos enteros, también podemos usar la función df.info() para obtener información de las columnas."
      ]
    },
    {
      "cell_type": "code",
      "metadata": {
        "id": "SfQLPHg38DvE",
        "outputId": "76d4e0a1-62a4-42df-be8b-3ef6066ebdff"
      },
      "source": [
        "df.info()"
      ],
      "execution_count": null,
      "outputs": [
        {
          "output_type": "stream",
          "text": [
            "<class 'pandas.core.frame.DataFrame'>\n",
            "RangeIndex: 21356 entries, 0 to 21355\n",
            "Data columns (total 16 columns):\n",
            " #   Column                                   Non-Null Count  Dtype  \n",
            "---  ------                                   --------------  -----  \n",
            " 0   country                                  21356 non-null  object \n",
            " 1   year                                     21356 non-null  int64  \n",
            " 2   iso3                                     1914 non-null   object \n",
            " 3   health_measure                           21298 non-null  object \n",
            " 4   sex                                      21298 non-null  object \n",
            " 5   respiratory_infections_and_tuberculosis  21298 non-null  float64\n",
            " 6   chronic_respiratory_diseases             21298 non-null  float64\n",
            " 7   ClimateSource                            1914 non-null   object \n",
            " 8   climate_units                            1914 non-null   object \n",
            " 9   sector                                   1914 non-null   object \n",
            " 10  allghg                                   1914 non-null   float64\n",
            " 11  co2                                      1914 non-null   float64\n",
            " 12  ch4                                      1914 non-null   float64\n",
            " 13  n2o                                      1914 non-null   float64\n",
            " 14  fgas                                     1914 non-null   float64\n",
            " 15  mean_annual_tempC                        1914 non-null   float64\n",
            "dtypes: float64(8), int64(1), object(7)\n",
            "memory usage: 2.6+ MB\n"
          ],
          "name": "stdout"
        }
      ]
    },
    {
      "cell_type": "markdown",
      "metadata": {
        "id": "Ovr3WLuG8DvG"
      },
      "source": [
        "Con el método anterior nos damos cuenta de que existen varios NA's en nuestro dataset, lo cual complica la manipulación de los datos al haber países cuyas columnas no se tienen registro de muertes o emisiones, incluso de su temperatura. Sin embargo, no es de preocuparse siempre que se realice la limpieza correspondiente ya que estas omisiones se deben a que en la columna de países se encuentran registros que en relidad son estados y no países como \"Durango\", \"Iowa\", etc.\n"
      ]
    },
    {
      "cell_type": "code",
      "metadata": {
        "id": "Q02iX2AA8DvL",
        "outputId": "d3cff890-562f-4c67-c772-5b8c3429d8fb"
      },
      "source": [
        "df['country'].unique()"
      ],
      "execution_count": null,
      "outputs": [
        {
          "output_type": "execute_result",
          "data": {
            "text/plain": [
              "array(['Bangladesh', 'Lesotho', 'Timor-Leste', 'Lebanon', 'Liberia',\n",
              "       'Bhutan', 'Nicaragua', 'Viet Nam',\n",
              "       'Southeast Asia, East Asia, and Oceania', 'Libya', 'Eritrea',\n",
              "       'Mali', 'Sunderland', 'Nottingham', 'Ethiopia', 'India',\n",
              "       'Mauritania', 'Central Bedfordshire', 'Leicester', 'Bedford',\n",
              "       'Wiltshire', 'Hampshire', 'Greece', 'South Africa',\n",
              "       'Venezuela (Bolivarian Republic of)', 'Pakistan',\n",
              "       'United States Virgin Islands', 'Iraq', 'Nepal',\n",
              "       'Tropical Latin America', 'Niger', 'Camden', 'Indiana', 'Jamaica',\n",
              "       'Kuwait', 'Poole', 'Hounslow', 'Guinea', 'Hartlepool', 'Oman',\n",
              "       'North America', 'Iceland', 'Sub-Saharan Africa', 'Oxfordshire',\n",
              "       'Bermuda', 'Djibouti', 'Honduras', 'Eswatini', 'Hertfordshire',\n",
              "       'Israel', \"Democratic People's Republic of Korea\", 'Nigeria',\n",
              "       'Iowa', 'Herefordshire, County of', 'Botswana', 'Essex',\n",
              "       'Latin America and Caribbean', 'Ireland', 'Low-middle SDI',\n",
              "       'Haiti', 'Stockport', 'Madagascar', 'Sao Tome and Principe',\n",
              "       'Panama', 'Western Sub-Saharan Africa', 'Greenland', 'Solihull',\n",
              "       'Brunei Darussalam', 'Mauritius', 'Marshall Islands', 'Cambodia',\n",
              "       'Mozambique', 'Australasia', 'East Asia', 'Morocco', 'Malawi',\n",
              "       'Central Sub-Saharan Africa', 'Singapore', 'Senegal',\n",
              "       'Syrian Arab Republic', 'Saint Vincent and the Grenadines',\n",
              "       'South Asia', 'South Sudan', 'Taiwan (Province of China)', 'Kenya',\n",
              "       'Worcestershire', 'Louisiana', 'Trafford', 'Middle SDI', 'Brazil',\n",
              "       'Burkina Faso', 'Sierra Leone', 'Kentucky', 'Samoa', 'Indonesia',\n",
              "       'Barking and Dagenham', 'Western Europe', 'Suriname', 'Swindon',\n",
              "       'Togo', 'Malaysia', 'Thurrock', 'Darlington', 'Paraguay',\n",
              "       'Central African Republic', 'Coventry',\n",
              "       'Latin America & Caribbean - WB', 'Arkansas', 'Sefton', 'Norfolk',\n",
              "       'Malta', 'Guam', 'Staffordshire', 'Portugal', 'Rwanda',\n",
              "       'United Arab Emirates', 'Qatar', 'Massachusetts', 'Isle of Wight',\n",
              "       'Bahamas', 'Cumbria', 'Peterborough', 'New Zealand', 'Bournemouth',\n",
              "       'Sri Lanka', 'Algeria', 'Tunisia', 'Seychelles', 'Lancashire',\n",
              "       'Congo', 'China', 'South Asia - WB', 'Walsall',\n",
              "       'Europe & Central Asia - WB', 'Somalia',\n",
              "       'North Africa and Middle East', 'Southern Sub-Saharan Africa',\n",
              "       'Southend-on-Sea', 'Redcar and Cleveland', 'Slough', 'Oceania',\n",
              "       'East Asia & Pacific - WB', 'Chad', 'Monaco', 'Egypt',\n",
              "       'Bolivia (Plurinational State of)', 'Bury', 'Vanuatu', 'Belgium',\n",
              "       'Bolton', 'Newcastle upon Tyne', 'Missouri', 'Cuba', 'Zambia',\n",
              "       'Middle East & North Africa - WB', 'Southeast Asia', 'Surrey',\n",
              "       'Benin', 'Maldives', 'Wirral', 'Middlesbrough', 'Connecticut',\n",
              "       'Telford and Wrekin', 'Yemen', 'Gabon', 'Uganda', 'Luton',\n",
              "       'Richmond upon Thames', 'Sub-Saharan Africa - WB',\n",
              "       'Eastern Sub-Saharan Africa', 'Ghana', 'Austria', 'Stoke-on-Trent',\n",
              "       'Armenia', 'Cabo Verde', 'Saint Kitts and Nevis', 'Wolverhampton',\n",
              "       'Finland', 'Myanmar', 'Northern Mariana Islands', 'Jordan',\n",
              "       'Mississippi', \"Lao People's Democratic Republic\", 'Oldham',\n",
              "       'Warrington', 'Birmingham', 'Nevada', 'Afghanistan', 'Florida',\n",
              "       'Comoros', 'Cook Islands', 'United Kingdom', 'Gambia',\n",
              "       'Central Latin America', 'Barnet', 'Thailand', 'Mexico',\n",
              "       'Nebraska', 'Tuvalu', 'Cameroon', 'Niue', 'Westminster',\n",
              "       'Republic of Korea', 'American Samoa', 'New Mexico', 'Washington',\n",
              "       'Germany', 'Australia', 'Puerto Rico', 'Philippines', 'Argentina',\n",
              "       'Scotland', 'Guatemala', 'Japan', 'Solomon Islands', 'El Salvador',\n",
              "       'Equatorial Guinea', 'Gunma', 'Riau', 'Tōkyō', 'Quintana Roo',\n",
              "       'South Kalimantan', 'East Nusa Tenggara', 'North Dakota',\n",
              "       'Central Sulawesi', 'Denmark', 'Machakos', 'Yamanashi',\n",
              "       'Riau Islands', 'Bengkulu', 'Nauru', 'Palau',\n",
              "       'High-income North America', 'Durango', 'Utah',\n",
              "       'Baja California Sur',\n",
              "       'Central Europe, Eastern Europe, and Central Asia', 'Wales',\n",
              "       'Tokelau', 'Virginia', 'Cambridgeshire', 'West Java', 'Miyazaki',\n",
              "       'Tlaxcala', 'Hidalgo', 'Greater London', 'Nagasaki',\n",
              "       'South Dakota', 'Azerbaijan', 'Nayarit', 'Sonora', 'Toyama',\n",
              "       'Suffolk', 'Andorra', 'Michoacán de Ocampo', 'New Jersey',\n",
              "       'North Sumatra', 'Isiolo', 'Embu', 'East Midlands', 'TransNzoia',\n",
              "       'Wisconsin', 'Bali', 'Cyprus', 'Kiambu', 'Bahrain', 'Papua',\n",
              "       'North Carolina', 'Jambi', \"Murang'a\", 'Maryland',\n",
              "       'West Kalimantan', 'Vihiga', 'North West England', 'Kisii',\n",
              "       'France', 'Saint Lucia', 'Georgia', 'Poland', 'Colima', 'Puebla',\n",
              "       'Wyoming', 'Uruguay', 'Nandi', 'Warwickshire', 'Kwale', 'Mongolia',\n",
              "       'Trinidad and Tobago', 'Kensington and Chelsea', 'Nyandarua',\n",
              "       'Minnesota', 'Slovakia', 'Oklahoma', 'Chile',\n",
              "       'Yorkshire and the Humber', 'West Midlands', 'Kyrgyzstan',\n",
              "       'Mexico City', 'Shropshire', 'North Sulawesi', 'Oregon',\n",
              "       'San Luis Potosí', 'Saitama', 'United States of America',\n",
              "       'Ecuador', 'Montana', 'East of England', 'Dudley', 'Guerrero',\n",
              "       'Piaui', 'Bromley', 'Southeast Sulawesi', 'Rhode Island',\n",
              "       'Mato Grosso do Sul', 'Aguascalientes', 'Barbados', 'Colombia',\n",
              "       'Jakarta', 'Antigua and Barbuda', 'Bahia', 'Republic of Moldova',\n",
              "       'South West England', 'South Carolina', 'Morelos', 'Bulgaria',\n",
              "       'Serbia', 'Namibia', 'Central Asia', 'San Marino', 'Campeche',\n",
              "       'Aceh', 'Hungary', 'High-income', 'Paraíba', 'Dominica', 'Oaxaca',\n",
              "       'Canada', 'Banten', 'Eastern Europe', 'Sandwell', 'Texas', 'Ōsaka',\n",
              "       'Zimbabwe', 'Chiapas', 'West Nusa Tenggara', 'Latvia', 'Maluku',\n",
              "       'Uzbekistan', 'Pará', 'Tennessee', 'World Bank Regions',\n",
              "       'Caribbean', 'Acre', 'Italy', 'Lampung', 'Pernambuco',\n",
              "       'Espírito Santo', 'Rondônia', 'Yogyakarta', 'Guanajuato',\n",
              "       'East Kalimantan', 'Chiba', 'Tabasco', 'Yucatán', 'Okinawa',\n",
              "       'Fukui', \"Côte d'Ivoire\", 'Central Kalimantan',\n",
              "       'Bosnia and Herzegovina', 'Amapá', 'Minas Gerais',\n",
              "       'High-income Asia Pacific', 'North Kalimantan', 'North Macedonia',\n",
              "       'Rio Grande do Norte', 'Netherlands', 'Grenada', 'Roraima', 'Gifu',\n",
              "       'Santa Catarina', 'South Sulawesi', 'Jalisco', 'Niigata',\n",
              "       'Veracruz de Ignacio de la Llave', 'Belize', 'Czechia', 'Hyōgo',\n",
              "       'Hiroshima', 'Kazakhstan', 'High SDI', 'Ōita', 'Mie', 'Montenegro',\n",
              "       'Central Java', 'Distrito Federal', 'Tocantins',\n",
              "       'Rio Grande do Sul', 'West Sulawesi', 'Kiribati', 'Gorontalo',\n",
              "       'Romania', 'Kagawa', 'Sergipe', 'Tajikistan', 'Dominican Republic',\n",
              "       'Papua New Guinea', 'Slovenia', 'Tottori',\n",
              "       'United Republic of Tanzania', 'North Maluku', 'Central Europe',\n",
              "       'Garissa', 'Fukuoka', 'Wakayama', 'Estonia', 'Kanagawa', 'Tonga',\n",
              "       'Makueni', 'TaitaTaveta', 'Bexley', 'Mandera', 'Okayama',\n",
              "       'Kajiado', 'Coahuila', 'Meru', 'Kericho', 'Ishikawa', 'Shizuoka',\n",
              "       'Yamaguchi', 'Northumberland', 'Kirinyaga', 'Russian Federation',\n",
              "       'Tokushima', 'Shiga', 'Palestine', 'Ehime', 'North Tyneside',\n",
              "       'Nagano', 'Migori', 'Siaya', 'Chihuahua', 'Kitui', 'Brent', 'Saga',\n",
              "       'Gateshead', 'Saudi Arabia', 'TanaRiver', 'Marsabit',\n",
              "       'TharakaNithi', 'Andean Latin America', 'Aichi', 'Kisumu',\n",
              "       'Kingston upon Thames', 'Nairobi', 'Narok', 'Wajir', 'Turkana',\n",
              "       'Peru', 'Mombasa', 'Turkey', 'Laikipia', 'UasinGishu',\n",
              "       'Costa Rica', 'Nyeri', 'Nakuru', 'WestPokot', 'Nyamira',\n",
              "       'Greenwich', 'Kansas', 'Samburu', 'Maine', 'Northern Ireland',\n",
              "       'Michigan', 'WHO region', 'Baja California', 'West Sumatra',\n",
              "       'Guinea-Bissau', 'South Sumatra', 'New Hampshire', 'Vermont',\n",
              "       'Kyōto', 'Luxembourg', 'Bangka-Belitung Islands', 'New York',\n",
              "       'West Virginia', 'Norway', 'Iwate', 'Nara', 'Ohio',\n",
              "       'North East England', 'Yamagata', 'Sweden', 'East Java', 'Shimane',\n",
              "       'Hillingdon', 'Southern Latin America', 'Pennsylvania',\n",
              "       'South East England', 'Sutton', 'Nuevo León', 'Kōchi', 'Croydon',\n",
              "       'Querétaro', 'Sinaloa', 'Turkmenistan', 'Tamaulipas', 'Albania',\n",
              "       'Kirklees', 'Fiji', 'Croatia', 'Redbridge', 'Zacatecas',\n",
              "       'Wakefield', 'Micronesia (Federated States of)',\n",
              "       'Kingston upon Hull, City of', 'Harrow', 'Lincolnshire', 'Dorset',\n",
              "       'Burundi', 'Alabama', 'Bradford', 'Belarus',\n",
              "       'Hammersmith and Fulham', 'Merton', 'Derbyshire', 'Sudan',\n",
              "       'Guyana', 'Wandsworth', 'Havering', 'Lithuania', 'Sheffield',\n",
              "       'California', 'Somerset', 'Ukraine', 'Delaware', 'Arizona',\n",
              "       'Enfield', 'Bristol, City of', 'Ealing', 'Leicestershire',\n",
              "       'Plymouth', 'Illinois', 'Waltham Forest', 'Derby', 'Colorado',\n",
              "       'Doncaster', 'Northamptonshire', 'Rutland', 'Idaho', 'Switzerland',\n",
              "       'England', 'Amazonas', 'Ceará', 'Maranhão', 'West Papua',\n",
              "       'Mato Grosso', 'North Somerset', 'Bath and North East Somerset',\n",
              "       'Cornwall', 'West Sussex', 'Kent', 'Newham', 'East Sussex',\n",
              "       'Hackney', 'Milton Keynes', 'Wokingham', 'Rochdale', 'Alaska',\n",
              "       'Liverpool', 'West Berkshire', 'European Union', 'Commonwealth',\n",
              "       'District of Columbia', 'North East Lincolnshire', 'Hawaii',\n",
              "       'Brighton and Hove', 'North Yorkshire', 'Region of the Americas',\n",
              "       'Commonwealth Low Income', 'Alagoas', 'Portsmouth',\n",
              "       'Eastern Mediterranean Region', 'Southampton', 'Goiás',\n",
              "       'Iran (Islamic Republic of)', 'G20', 'World Bank Income Levels',\n",
              "       'Baringo', 'Nottinghamshire', 'Angola', 'Aomori',\n",
              "       'Democratic Republic of the Congo', 'Devon', 'Hokkaidō',\n",
              "       'Gloucestershire', 'Torbay', 'HomaBay', 'South-East Asia Region',\n",
              "       'Kakamega', 'Bomet', 'Western Pacific Region', 'Kilifi',\n",
              "       'World Bank Lower Middle Income', 'Lamu', 'High-middle SDI',\n",
              "       'Spain', 'Low SDI', 'Paraná', 'Cheshire East', 'Nordic Region',\n",
              "       'Rio de Janeiro', 'Cheshire West and Chester', 'Stockton-on-Tees',\n",
              "       'County Durham', 'São Paulo', 'St Helens', 'South Tyneside',\n",
              "       'Lambeth', 'Southwark', 'Haringey', 'Tower Hamlets',\n",
              "       'Windsor and Maidenhead', 'Commonwealth High Income', 'Asia',\n",
              "       'Lewisham', 'Wigan', 'Islington', 'Tameside', 'Buckinghamshire',\n",
              "       'Knowsley', 'Calderdale', 'Bracknell Forest', 'Reading', 'Medway',\n",
              "       'South Gloucestershire', 'African Region', 'America',\n",
              "       'European Region', 'World Bank Upper Middle Income',\n",
              "       'OECD Countries', 'Four World Regions', 'Leeds', 'Rotherham',\n",
              "       'Barnsley', 'Stockholm', 'Halton', 'Blackburn with Darwen',\n",
              "       'Manchester', 'York', 'North Lincolnshire', 'Akita', 'Bungoma',\n",
              "       'Kumamoto', 'Sweden except Stockholm', 'Busia', 'Kagoshima',\n",
              "       'Tochigi', 'Ibaraki', 'Salford', 'Blackpool',\n",
              "       'East Riding of Yorkshire', 'World Bank High Income',\n",
              "       'Elgeyo-Marakwet', 'Miyagi', 'Africa',\n",
              "       'Commonwealth Middle Income', 'African Union',\n",
              "       'World Bank Low Income', 'Fukushima', 'Europe', 'United States',\n",
              "       'Czech Republic'], dtype=object)"
            ]
          },
          "metadata": {
            "tags": []
          },
          "execution_count": 6
        }
      ]
    },
    {
      "cell_type": "code",
      "metadata": {
        "id": "iB964KfE8DvO",
        "outputId": "2f7f4e58-e471-4a8c-f141-b1e3a4dfa3bd"
      },
      "source": [
        "len(df['country'].unique())"
      ],
      "execution_count": null,
      "outputs": [
        {
          "output_type": "execute_result",
          "data": {
            "text/plain": [
              "672"
            ]
          },
          "metadata": {
            "tags": []
          },
          "execution_count": 7
        }
      ]
    },
    {
      "cell_type": "markdown",
      "metadata": {
        "id": "eOyamYrT8DvQ"
      },
      "source": [
        "Podemos ver que tenemos cerca de 672 países en nuestro conjunto de datos, sin embargo, se sabe que existen internacionalmente solo 195, por lo que, como se mencionó anteriormente, observando con mayor detalle la columna, nos percatamos que esisten muchos registrso que en realidad no corresponden al nombre de un país. Por lo que estos habrán de ser removidos a fin de que no afecten nuestro análisis."
      ]
    },
    {
      "cell_type": "markdown",
      "metadata": {
        "id": "bRhppvJ98JCk"
      },
      "source": [
        "## 5. Limpieza de datos (Aquí va el código de Alan)"
      ]
    },
    {
      "cell_type": "code",
      "metadata": {
        "id": "sJi69qdB8Psj"
      },
      "source": [
        ""
      ],
      "execution_count": null,
      "outputs": []
    }
  ]
}
