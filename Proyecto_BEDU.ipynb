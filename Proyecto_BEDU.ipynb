{
 "cells": [
  {
   "cell_type": "markdown",
   "metadata": {
    "colab_type": "text",
    "id": "view-in-github"
   },
   "source": [
    "<a href=\"https://colab.research.google.com/github/POF77/Proyecto.BEDU.ModuloII/blob/new_update/Proyecto_BEDU.ipynb\" target=\"_parent\"><img src=\"https://colab.research.google.com/assets/colab-badge.svg\" alt=\"Open In Colab\"/></a>"
   ]
  },
  {
   "cell_type": "markdown",
   "metadata": {
    "id": "p6dP3QR4kEKa"
   },
   "source": [
    "# Módulo 3: **Procesamiento de Datos con Python**\n",
    "## Proyecto Final\n",
    "### Equipo:\n",
    "- Edgar Israel Casanova Cardoz\n",
    "- Omar Garduza\n",
    "- Lizzeth Gómez Rodríguez\n",
    "- Paul O'Hea Flores\n",
    "- Alan Sandoval"
   ]
  },
  {
   "cell_type": "markdown",
   "metadata": {
    "id": "Sd905bRglQiq"
   },
   "source": [
    "# **IMPACTO DEL CAMBIO CLIMÁTICO EN LA SALUD PÚBLICA**\n",
    "\n",
    "## 1. Identificación del Problema\n",
    "- Impacto del cambio climático sobre las enfermedades respiratorias en países de la OCDE\n",
    "\n",
    "## 2. Investigación y justificación del problema\n",
    "<p align = justify>\n",
    "El Cambio Climático es un problema de años pero que hoy en día se encuentra agudizado y que a su vez ha alterado drásticamente la biodiversidad del planeta, lo cual favorece la transmisión de patógenos causantes de enfermedades, particularmente aquellas relacionadas con las olas de calor, la falta de agua potable, la reproducción de plagas y las inundaciones.\n",
    "\n",
    "<p align = justify>\n",
    "En este sentido, la población más afectada es aquella que carece de infraestructura salubre adecuada, en combinación con otros factores como las condiciones vulnerables de vivienda y una mala alimentación. Dicha población se puede encontrar con mayor abundancia en países en vías de desarrollo. En ese sentido y dada la disponibilidad de los datos, el presente estudio se realiza tomando en cuenta los países de la OCDE.\n",
    "\n",
    "<p align = justify>\n",
    "Asimiso, organizaciones internacionales como Greenpeace, el Intergovernmental Panel on Climate Change (IPCC) y la Organización Mundial de la Salud (OMS) han presentado estudios respecto a la gravedad que puede presentar el cambio climático sobre la salud pública, por lo que es importante tomar acción respecto al tema y entender mejor las causas para poder mitigar los efectos sobre la salud. Por su parte, se sabe que, entre los principales gases de efecto invernadero se encuentran el dióxido de carbono (CO2), el metano (CH4), el óxido nitroso(N2O) y el ozono (O3).\n"
   ]
  },
  {
   "cell_type": "markdown",
   "metadata": {
    "id": "hPW4rc_ooDaC"
   },
   "source": [
    "## 3. Preguntas de Investigación\n",
    "- ¿Cuál es el impacto del cambio climático sobre la salud?\n",
    "- ¿Qué relación existe entre el cambio climático, la contaminación del aire, el incremento de la temperatura y la intensificación de enfermedades respiratorias, de salud mental, gastrointestinales y cardiacas?\n",
    "- ¿Qué relación existe entre el cambio climático y la aparición de nuevas enfermedades o virus?\n",
    "- ¿Qué tipo de actividades afectan de manera negativa el cambio climático?\n",
    "- ¿Qué enfermedad presenta la mayor correlación con el cambio climático?\n",
    "- ¿Qué países se encuentran mayormente afectados por el cambio climático, los desarrollados o aquellos en vías de desarrollo?\n",
    "- ¿Qué países contribuyen más al cambio climático, los de mayor o menor afectación?\n",
    "\n",
    "### Información Disponible\n",
    "Los datos para el presente análisis se han obtenido de dos fuentes de información disponibles, por un lado, los datos del [Climate Watch](https://www.climatewatchdata.org/data-explorer/historical-emissions?historical-emissions-data-sources=cait&historical-emissions-gases=all-ghg&historical-emissions-regions=All%20Selected&historical-emissions-sectors=total-including-lucf&page=1) que nos permiten cuantificar los niveles de los gases que afectan al cambio climático, cuyos datos disponibles van de 1996 a 2019. Las variables que se toman en consideración son los gases de efecto invernadero ya mencionados anteriormente:  CO2, CH4, N2O y O3. Por otro lado, para cuantificar el efectos de estos gases sobre la salud se utilizan los datos de la [Universidad de Oxford](\"https://ourworldindata.org/grapher/respiratory-disease-death-rate?tab=chart\"), que es un compilado de las muertes por enfermedades respiratorias crónicas, cuyos años disponibles van desde 1990 a 2017. Estos datos se encuentran en el [Global Health Exchange](http://ghdx.healthdata.org/gbd-results-tool).En este estudio se utilizan los países de la OCDE como se mencionó anteriormente. Respecto a la cuantificación de la temperatura se utiliza **(PREGUNTAR A PAUL)**"
   ]
  },
  {
   "cell_type": "code",
   "execution_count": 1,
   "metadata": {
    "id": "H12hTg2Rg8Vj"
   },
   "outputs": [],
   "source": [
    "# Importación de los paquetes necesarios para el análisis\n",
    "import pandas as pd\n",
    "import numpy as np"
   ]
  },
  {
   "cell_type": "markdown",
   "metadata": {
    "id": "QG8I0zEwnREU"
   },
   "source": [
    "### Cargado y exploración de los datos"
   ]
  },
  {
   "cell_type": "code",
   "execution_count": 2,
   "metadata": {
    "colab": {
     "base_uri": "https://localhost:8080/",
     "height": 241
    },
    "id": "Ioomb8F18Du1",
    "kernelspec": {
     "display_name": "Python 3",
     "language": "python",
     "name": "python3"
    },
    "language_info": {
     "codemirror_mode": {
      "name": "ipython",
      "version": 3
     },
     "file_extension": ".py",
     "mimetype": "text/x-python",
     "name": "python",
     "nbconvert_exporter": "python",
     "pygments_lexer": "ipython3",
     "version": "3.8.8"
    },
    "outputId": "3bfbde0f-7f5c-4920-bfc8-abe2f85f2410"
   },
   "outputs": [
    {
     "data": {
      "text/html": [
       "<div>\n",
       "<style scoped>\n",
       "    .dataframe tbody tr th:only-of-type {\n",
       "        vertical-align: middle;\n",
       "    }\n",
       "\n",
       "    .dataframe tbody tr th {\n",
       "        vertical-align: top;\n",
       "    }\n",
       "\n",
       "    .dataframe thead th {\n",
       "        text-align: right;\n",
       "    }\n",
       "</style>\n",
       "<table border=\"1\" class=\"dataframe\">\n",
       "  <thead>\n",
       "    <tr style=\"text-align: right;\">\n",
       "      <th></th>\n",
       "      <th>country</th>\n",
       "      <th>year</th>\n",
       "      <th>iso3</th>\n",
       "      <th>health_measure</th>\n",
       "      <th>sex</th>\n",
       "      <th>respiratory_infections_and_tuberculosis_number</th>\n",
       "      <th>respiratory_infections_and_tuberculosis_percent</th>\n",
       "      <th>respiratory_infections_and_tuberculosis_rate</th>\n",
       "      <th>chronic_respiratory_diseases_number</th>\n",
       "      <th>chronic_respiratory_diseases_percent</th>\n",
       "      <th>chronic_respiratory_diseases_rate</th>\n",
       "      <th>ClimateSource</th>\n",
       "      <th>climate_units</th>\n",
       "      <th>sector</th>\n",
       "      <th>allghg</th>\n",
       "      <th>co2</th>\n",
       "      <th>ch4</th>\n",
       "      <th>n2o</th>\n",
       "      <th>fgas</th>\n",
       "      <th>mean_annual_tempC</th>\n",
       "    </tr>\n",
       "  </thead>\n",
       "  <tbody>\n",
       "    <tr>\n",
       "      <th>0</th>\n",
       "      <td>Kuwait</td>\n",
       "      <td>1990</td>\n",
       "      <td>NaN</td>\n",
       "      <td>Deaths</td>\n",
       "      <td>Both</td>\n",
       "      <td>224.57396</td>\n",
       "      <td>0.04210</td>\n",
       "      <td>12.76398</td>\n",
       "      <td>81.38989</td>\n",
       "      <td>0.01526</td>\n",
       "      <td>4.62591</td>\n",
       "      <td>NaN</td>\n",
       "      <td>NaN</td>\n",
       "      <td>NaN</td>\n",
       "      <td>NaN</td>\n",
       "      <td>NaN</td>\n",
       "      <td>NaN</td>\n",
       "      <td>NaN</td>\n",
       "      <td>NaN</td>\n",
       "      <td>NaN</td>\n",
       "    </tr>\n",
       "    <tr>\n",
       "      <th>1</th>\n",
       "      <td>Honduras</td>\n",
       "      <td>1990</td>\n",
       "      <td>NaN</td>\n",
       "      <td>Deaths</td>\n",
       "      <td>Both</td>\n",
       "      <td>2102.10070</td>\n",
       "      <td>0.07614</td>\n",
       "      <td>44.64436</td>\n",
       "      <td>1273.71280</td>\n",
       "      <td>0.04612</td>\n",
       "      <td>27.05108</td>\n",
       "      <td>NaN</td>\n",
       "      <td>NaN</td>\n",
       "      <td>NaN</td>\n",
       "      <td>NaN</td>\n",
       "      <td>NaN</td>\n",
       "      <td>NaN</td>\n",
       "      <td>NaN</td>\n",
       "      <td>NaN</td>\n",
       "      <td>NaN</td>\n",
       "    </tr>\n",
       "    <tr>\n",
       "      <th>2</th>\n",
       "      <td>Guyana</td>\n",
       "      <td>1990</td>\n",
       "      <td>NaN</td>\n",
       "      <td>Deaths</td>\n",
       "      <td>Both</td>\n",
       "      <td>373.67216</td>\n",
       "      <td>0.05752</td>\n",
       "      <td>48.52477</td>\n",
       "      <td>90.24604</td>\n",
       "      <td>0.01389</td>\n",
       "      <td>11.71928</td>\n",
       "      <td>NaN</td>\n",
       "      <td>NaN</td>\n",
       "      <td>NaN</td>\n",
       "      <td>NaN</td>\n",
       "      <td>NaN</td>\n",
       "      <td>NaN</td>\n",
       "      <td>NaN</td>\n",
       "      <td>NaN</td>\n",
       "      <td>NaN</td>\n",
       "    </tr>\n",
       "    <tr>\n",
       "      <th>3</th>\n",
       "      <td>Guinea-Bissau</td>\n",
       "      <td>1990</td>\n",
       "      <td>NaN</td>\n",
       "      <td>Deaths</td>\n",
       "      <td>Both</td>\n",
       "      <td>2628.41820</td>\n",
       "      <td>0.15324</td>\n",
       "      <td>260.93392</td>\n",
       "      <td>370.04370</td>\n",
       "      <td>0.02158</td>\n",
       "      <td>36.73577</td>\n",
       "      <td>NaN</td>\n",
       "      <td>NaN</td>\n",
       "      <td>NaN</td>\n",
       "      <td>NaN</td>\n",
       "      <td>NaN</td>\n",
       "      <td>NaN</td>\n",
       "      <td>NaN</td>\n",
       "      <td>NaN</td>\n",
       "      <td>NaN</td>\n",
       "    </tr>\n",
       "    <tr>\n",
       "      <th>4</th>\n",
       "      <td>Djibouti</td>\n",
       "      <td>1990</td>\n",
       "      <td>NaN</td>\n",
       "      <td>Deaths</td>\n",
       "      <td>Both</td>\n",
       "      <td>740.08581</td>\n",
       "      <td>0.17884</td>\n",
       "      <td>152.27827</td>\n",
       "      <td>60.30051</td>\n",
       "      <td>0.01456</td>\n",
       "      <td>12.40729</td>\n",
       "      <td>NaN</td>\n",
       "      <td>NaN</td>\n",
       "      <td>NaN</td>\n",
       "      <td>NaN</td>\n",
       "      <td>NaN</td>\n",
       "      <td>NaN</td>\n",
       "      <td>NaN</td>\n",
       "      <td>NaN</td>\n",
       "      <td>NaN</td>\n",
       "    </tr>\n",
       "  </tbody>\n",
       "</table>\n",
       "</div>"
      ],
      "text/plain": [
       "         country  year iso3 health_measure   sex  \\\n",
       "0         Kuwait  1990  NaN         Deaths  Both   \n",
       "1       Honduras  1990  NaN         Deaths  Both   \n",
       "2         Guyana  1990  NaN         Deaths  Both   \n",
       "3  Guinea-Bissau  1990  NaN         Deaths  Both   \n",
       "4       Djibouti  1990  NaN         Deaths  Both   \n",
       "\n",
       "   respiratory_infections_and_tuberculosis_number  \\\n",
       "0                                       224.57396   \n",
       "1                                      2102.10070   \n",
       "2                                       373.67216   \n",
       "3                                      2628.41820   \n",
       "4                                       740.08581   \n",
       "\n",
       "   respiratory_infections_and_tuberculosis_percent  \\\n",
       "0                                          0.04210   \n",
       "1                                          0.07614   \n",
       "2                                          0.05752   \n",
       "3                                          0.15324   \n",
       "4                                          0.17884   \n",
       "\n",
       "   respiratory_infections_and_tuberculosis_rate  \\\n",
       "0                                      12.76398   \n",
       "1                                      44.64436   \n",
       "2                                      48.52477   \n",
       "3                                     260.93392   \n",
       "4                                     152.27827   \n",
       "\n",
       "   chronic_respiratory_diseases_number  chronic_respiratory_diseases_percent  \\\n",
       "0                             81.38989                               0.01526   \n",
       "1                           1273.71280                               0.04612   \n",
       "2                             90.24604                               0.01389   \n",
       "3                            370.04370                               0.02158   \n",
       "4                             60.30051                               0.01456   \n",
       "\n",
       "   chronic_respiratory_diseases_rate ClimateSource climate_units sector  \\\n",
       "0                            4.62591           NaN           NaN    NaN   \n",
       "1                           27.05108           NaN           NaN    NaN   \n",
       "2                           11.71928           NaN           NaN    NaN   \n",
       "3                           36.73577           NaN           NaN    NaN   \n",
       "4                           12.40729           NaN           NaN    NaN   \n",
       "\n",
       "   allghg  co2  ch4  n2o  fgas  mean_annual_tempC  \n",
       "0     NaN  NaN  NaN  NaN   NaN                NaN  \n",
       "1     NaN  NaN  NaN  NaN   NaN                NaN  \n",
       "2     NaN  NaN  NaN  NaN   NaN                NaN  \n",
       "3     NaN  NaN  NaN  NaN   NaN                NaN  \n",
       "4     NaN  NaN  NaN  NaN   NaN                NaN  "
      ]
     },
     "execution_count": 2,
     "metadata": {},
     "output_type": "execute_result"
    }
   ],
   "source": [
    "# Leemos el archivo csv que contiene los niveles de gases de efecto invernader, la temperatura y los fallecimientos por países.\n",
    "# Guardamos el archivo\n",
    "df = pd.read_csv(\"https://raw.githubusercontent.com/POF77/Proyecto.BEDU.ModuloII/main/Datos_nuevos/bruteData.csv\")\n",
    "df_original = df.copy()\n",
    "df.head()"
   ]
  },
  {
   "cell_type": "markdown",
   "metadata": {
    "id": "hOYapcuc8Du6"
   },
   "source": [
    "## 4. Exploración de datos\n",
    "El conjunto de datos nos sirve para ver la relación entre el cambio climático y las muertes provocadas a causa de una enfermedad respiratoria.\n",
    "\n",
    "A continuación observemos la estructura de los datos"
   ]
  },
  {
   "cell_type": "code",
   "execution_count": 3,
   "metadata": {
    "colab": {
     "base_uri": "https://localhost:8080/"
    },
    "id": "5QRGsHnW8Du7",
    "outputId": "cfe5542b-e34c-4c27-870d-8374672ec8f2"
   },
   "outputs": [
    {
     "data": {
      "text/plain": [
       "(25828, 20)"
      ]
     },
     "execution_count": 3,
     "metadata": {},
     "output_type": "execute_result"
    }
   ],
   "source": [
    "df.shape"
   ]
  },
  {
   "cell_type": "markdown",
   "metadata": {
    "id": "NxMkPJom8Du9"
   },
   "source": [
    "Podemos observar que el tamaño del dataset es de 25,828 filas y 20 columnas, lo cuál tomando en cuenta que son 36 países miembros de la OCDE, y que por cada país tenemos un histórico de datos aproximado de 30 años desde 1990 hasta 2019, podemos ver que tenemos conjunto completo de datos.\n",
    "\n",
    "Las columnas con las que cuenta el dataset son:\n",
    "1. País\n",
    "2. Año\n",
    "3. Iso3 (Abreviatura del país)\n",
    "4. Métrica de salud\n",
    "5. Sexo de la métrica\n",
    "6. Número de muertes por infecctiones respiratorias y tuberculosis\n",
    "7. Porcentaje de muertes por infecctiones respiratorias y tuberculosis\n",
    "8. Tasa de muertes por infecctiones respiratorias y tuberculosis\n",
    "9. Número de muertes por enfermedades respiratorias crónicas\n",
    "10. Porcentaje de muertes por enfermedades respiratorias crónicas\n",
    "11. Tasa de muertes por enfermedades respiratorias crónicas\n",
    "12. Fuente de los datos climáticos\n",
    "13. Unidades de métrica de datos climáticos\n",
    "14. Sector de medida de datos climáticos\n",
    "15. Total de gases de efecto invernadero\n",
    "16. Emisiones de dióxido de carbono(CO2)\n",
    "17. Emisiones de metano(CH4)\n",
    "18. Emisiones de Nitrógeno(N2O)\n",
    "19. Emisiones de gases Fluoruro(Fgas)\n",
    "20. Temperatura promedio en grados Celsius\n",
    "\n",
    "Observemos el nombre de las columnas que presenta nuestro dataset, algunas como como health_measure, climate_units,iso3, etc... no son entendibles al p´blico en general, por ser nombres técnicos que usan las personas que se dedican al estudio del cambio climático, gélogos entre otros del mismo gremio, por lo que es importante realizar algunos renombres en el conjunto de datos. "
   ]
  },
  {
   "cell_type": "code",
   "execution_count": 4,
   "metadata": {
    "colab": {
     "base_uri": "https://localhost:8080/"
    },
    "id": "lrTS1MZB8Du_",
    "outputId": "cb71b3c8-10ea-4f5c-939e-078c2f398a41"
   },
   "outputs": [
    {
     "data": {
      "text/plain": [
       "country                                             object\n",
       "year                                                 int64\n",
       "iso3                                                object\n",
       "health_measure                                      object\n",
       "sex                                                 object\n",
       "respiratory_infections_and_tuberculosis_number     float64\n",
       "respiratory_infections_and_tuberculosis_percent    float64\n",
       "respiratory_infections_and_tuberculosis_rate       float64\n",
       "chronic_respiratory_diseases_number                float64\n",
       "chronic_respiratory_diseases_percent               float64\n",
       "chronic_respiratory_diseases_rate                  float64\n",
       "ClimateSource                                       object\n",
       "climate_units                                       object\n",
       "sector                                              object\n",
       "allghg                                             float64\n",
       "co2                                                float64\n",
       "ch4                                                float64\n",
       "n2o                                                float64\n",
       "fgas                                               float64\n",
       "mean_annual_tempC                                  float64\n",
       "dtype: object"
      ]
     },
     "execution_count": 4,
     "metadata": {},
     "output_type": "execute_result"
    }
   ],
   "source": [
    "df.dtypes"
   ]
  },
  {
   "cell_type": "markdown",
   "metadata": {
    "id": "3yONnPRA8DvD"
   },
   "source": [
    "Observando el tipo de datos de las columnas de nuestro conjunto de datos, nos damos cuenta que la mayoría de las columnas son datos de tipo flotante y objetos(por lo general este tipo de datos son asignados a los string), y únicamente la columna de año('year') son de datos enteros, también podemos usar la función df.info() para obtener información de las columnas."
   ]
  },
  {
   "cell_type": "code",
   "execution_count": 5,
   "metadata": {
    "colab": {
     "base_uri": "https://localhost:8080/"
    },
    "id": "SfQLPHg38DvE",
    "outputId": "80620709-f6c0-442a-cbe7-133d89eab88a"
   },
   "outputs": [
    {
     "name": "stdout",
     "output_type": "stream",
     "text": [
      "<class 'pandas.core.frame.DataFrame'>\n",
      "RangeIndex: 25828 entries, 0 to 25827\n",
      "Data columns (total 20 columns):\n",
      " #   Column                                           Non-Null Count  Dtype  \n",
      "---  ------                                           --------------  -----  \n",
      " 0   country                                          25828 non-null  object \n",
      " 1   year                                             25828 non-null  int64  \n",
      " 2   iso3                                             986 non-null    object \n",
      " 3   health_measure                                   25770 non-null  object \n",
      " 4   sex                                              25770 non-null  object \n",
      " 5   respiratory_infections_and_tuberculosis_number   25770 non-null  float64\n",
      " 6   respiratory_infections_and_tuberculosis_percent  25770 non-null  float64\n",
      " 7   respiratory_infections_and_tuberculosis_rate     25770 non-null  float64\n",
      " 8   chronic_respiratory_diseases_number              25770 non-null  float64\n",
      " 9   chronic_respiratory_diseases_percent             25770 non-null  float64\n",
      " 10  chronic_respiratory_diseases_rate                25770 non-null  float64\n",
      " 11  ClimateSource                                    986 non-null    object \n",
      " 12  climate_units                                    986 non-null    object \n",
      " 13  sector                                           986 non-null    object \n",
      " 14  allghg                                           986 non-null    float64\n",
      " 15  co2                                              986 non-null    float64\n",
      " 16  ch4                                              986 non-null    float64\n",
      " 17  n2o                                              986 non-null    float64\n",
      " 18  fgas                                             986 non-null    float64\n",
      " 19  mean_annual_tempC                                986 non-null    float64\n",
      "dtypes: float64(12), int64(1), object(7)\n",
      "memory usage: 3.9+ MB\n"
     ]
    }
   ],
   "source": [
    "df.info()"
   ]
  },
  {
   "cell_type": "markdown",
   "metadata": {
    "id": "Ovr3WLuG8DvG"
   },
   "source": [
    "Con el método anterior nos damos cuenta de que existen varios NA's en nuestro dataset, lo cual complica la manipulación de los datos al haber países cuyas columnas no se tienen registro de muertes o emisiones, incluso de su temperatura. Sin embargo, no es de preocuparse siempre que se realice la limpieza correspondiente ya que estas omisiones se deben a que en la columna de países se encuentran registros que en relidad son estados y no países como \"Durango\", \"Iowa\", etc.\n"
   ]
  },
  {
   "cell_type": "code",
   "execution_count": 6,
   "metadata": {
    "colab": {
     "base_uri": "https://localhost:8080/"
    },
    "id": "Q02iX2AA8DvL",
    "outputId": "4e019e91-4b3f-4b45-ff39-82886a480390"
   },
   "outputs": [
    {
     "data": {
      "text/plain": [
       "array(['Kuwait', 'Honduras', 'Guyana', 'Guinea-Bissau', 'Djibouti',\n",
       "       'Bangladesh', 'Liberia', 'Lesotho', 'East Asia', 'Bhutan',\n",
       "       'Namibia', 'Mali', 'Panama', 'Oceania', 'India', 'Ethiopia',\n",
       "       'Morocco', 'Mauritania', 'Bermuda', 'Nepal', 'Leicester', 'Niger',\n",
       "       'Low-middle SDI', 'Warwickshire', 'Mexico', 'Hartlepool',\n",
       "       'South Tyneside', 'Bracknell Forest', 'Burundi',\n",
       "       'Central Bedfordshire', 'North Somerset', 'Canada', 'Tokelau',\n",
       "       'Brazil', 'Pakistan', 'Malawi', 'Lebanon', 'Jamaica', 'Israel',\n",
       "       'Taiwan (Province of China)', 'Lambeth', 'High-middle SDI',\n",
       "       'Suffolk', 'Japan', 'Zambia', 'Cheshire East', 'Southeast Asia',\n",
       "       'Nigeria', 'Guam', 'Eswatini', 'Kenya', 'Qatar',\n",
       "       'Micronesia (Federated States of)', 'Northern Ireland', 'Iceland',\n",
       "       'Greece', 'France', 'Solihull', 'China', 'Illinois', 'Eritrea',\n",
       "       'Southwark', 'Sao Tome and Principe', 'Iowa', 'Zimbabwe',\n",
       "       'Middle SDI', 'Saint Lucia', 'Venezuela (Bolivarian Republic of)',\n",
       "       'Reading', 'Australia', 'Low SDI', 'Kansas', 'Ghana', 'Essex',\n",
       "       'Central Sub-Saharan Africa', 'Cook Islands', 'Trafford',\n",
       "       'Senegal', 'Italy', 'Indonesia', 'Rwanda',\n",
       "       'Tropical Latin America', 'Cambridgeshire', 'Mauritius',\n",
       "       'Caribbean', 'Madagascar', 'Staffordshire', 'Palestine', 'Alaska',\n",
       "       'Shropshire', 'Mozambique', 'East Asia & Pacific - WB',\n",
       "       'Cheshire West and Chester', 'Tunisia', 'Monaco', 'Australasia',\n",
       "       'Maine', 'High-income', 'Angola',\n",
       "       'Southeast Asia, East Asia, and Oceania', 'Solomon Islands',\n",
       "       'Torbay', 'Maldives', \"Lao People's Democratic Republic\",\n",
       "       'Norfolk', 'Sierra Leone', 'Afghanistan', 'Suriname',\n",
       "       'North Africa and Middle East', 'Togo', 'Telford and Wrekin',\n",
       "       'Timor-Leste', 'Sub-Saharan Africa - WB', 'Paraguay', 'Uganda',\n",
       "       'Cameroon', 'World Bank Regions', 'Trinidad and Tobago', 'Andorra',\n",
       "       'Bolton', 'Newcastle upon Tyne', 'Milton Keynes', 'Luton',\n",
       "       'Cornwall', 'California', 'United Republic of Tanzania',\n",
       "       'Northumberland', 'Lancashire', 'Wokingham', 'Barbados',\n",
       "       'Thailand', 'Saudi Arabia', 'Turkey',\n",
       "       'Democratic Republic of the Congo', 'Cumbria', 'Somalia',\n",
       "       'Latin America & Caribbean - WB',\n",
       "       \"Democratic People's Republic of Korea\", 'Algeria', 'Peterborough',\n",
       "       'Equatorial Guinea', 'Botswana', 'Fiji', 'Coventry',\n",
       "       \"Côte d'Ivoire\", 'South Gloucestershire', 'County Durham',\n",
       "       'St Helens', 'Montana', 'Congo', 'Netherlands', 'Dudley', 'Yemen',\n",
       "       'Southend-on-Sea', 'Seychelles', 'Western Europe',\n",
       "       'Europe & Central Asia - WB', 'South Asia - WB', 'Myanmar',\n",
       "       'Cyprus', 'Iran (Islamic Republic of)', 'Nauru', 'American Samoa',\n",
       "       'Palau', 'Malaysia', 'Windsor and Maidenhead',\n",
       "       'Central Europe, Eastern Europe, and Central Asia', 'Burkina Faso',\n",
       "       'Stoke-on-Trent', 'Dominica', 'Michigan', 'Cambodia', 'Delaware',\n",
       "       'North Tyneside', 'Bury', 'Ecuador', 'Iraq', 'Benin', 'South Asia',\n",
       "       'Eastern Sub-Saharan Africa', 'Walsall', 'Guinea',\n",
       "       'Kensington and Chelsea', 'Richmond upon Thames', 'Philippines',\n",
       "       'Chad', 'Middle East & North Africa - WB', 'Westminster',\n",
       "       'Costa Rica', 'San Marino', 'Birmingham', 'Missouri', 'Finland',\n",
       "       'Georgia', 'Mongolia', 'Oldham', 'Greenland',\n",
       "       'United States Virgin Islands', 'United Kingdom', 'Sandwell',\n",
       "       'Brunei Darussalam', 'New Hampshire', 'Vermont', 'Singapore',\n",
       "       'Northern Mariana Islands', 'Aguascalientes', 'Morelos',\n",
       "       'Southern Latin America', 'Colombia', 'Bali', 'Nevada',\n",
       "       'Cabo Verde', 'New Zealand', 'Chile', 'New York', 'South Sudan',\n",
       "       'Tonga', 'Nicaragua', 'Sri Lanka', 'West Virginia', 'Niue',\n",
       "       'West Kalimantan', 'Bedford', 'Lampung', 'Belgium',\n",
       "       'Hertfordshire', 'Puebla', 'Central Asia', 'Saint Kitts and Nevis',\n",
       "       'Rhode Island', 'Jambi', 'Gabon', 'Ishikawa', 'Kanagawa',\n",
       "       'Veracruz de Ignacio de la Llave', 'Puerto Rico',\n",
       "       'San Luis Potosí', 'Garissa', 'Nagano', 'Chihuahua',\n",
       "       'Antigua and Barbuda', 'Kumamoto', 'East Kalimantan', 'Tabasco',\n",
       "       'Guanajuato', 'Republic of Korea', 'Jalisco', 'South Sulawesi',\n",
       "       'North Kalimantan', 'Thurrock', 'Saitama', 'West Midlands',\n",
       "       'North Maluku', 'Zacatecas', 'South East England', 'East Java',\n",
       "       'Tennessee', 'Kagoshima', 'Austria', 'Washington', 'West Sumatra',\n",
       "       'New Mexico', 'Louisiana', 'West Nusa Tenggara', 'Migori',\n",
       "       'Nuevo León', 'Wyoming', 'Turkana', 'Mie', 'Kilifi', 'Denmark',\n",
       "       'Mato Grosso do Sul', 'Campeche', 'South Sumatra', 'Nottingham',\n",
       "       'Nairobi', 'Poland', 'Wajir', 'North Dakota', 'Kisumu',\n",
       "       'Massachusetts', 'Yorkshire and the Humber', 'Slovenia',\n",
       "       'Kazakhstan', 'Germany', 'Romania',\n",
       "       'Saint Vincent and the Grenadines', 'Narok', 'North East England',\n",
       "       'Chiapas', 'Laikipia', 'Herefordshire, County of', 'Ohio',\n",
       "       'Querétaro', 'High-income North America', 'Tajikistan', 'Nyeri',\n",
       "       'Andean Latin America', 'East Midlands', 'Mississippi', 'Barnet',\n",
       "       'Durango', 'Worcestershire', 'Oregon', 'Central Sulawesi',\n",
       "       'Amazonas', 'East of England', 'Chiba',\n",
       "       'Latin America and Caribbean', 'Pennsylvania', 'Peru', 'Egypt',\n",
       "       'Greater London', 'Nebraska', 'Hidalgo', 'Latvia', 'Gorontalo',\n",
       "       'South Carolina', 'Mato Grosso', 'Baja California', 'Uruguay',\n",
       "       'Belize', 'Croatia', 'Slovakia', 'Nayarit', 'Russian Federation',\n",
       "       'South Dakota', 'Wolverhampton', 'Rio de Janeiro',\n",
       "       'North Macedonia', 'South Africa', 'Armenia',\n",
       "       'High-income Asia Pacific', 'Coahuila', 'North Sumatra', 'Jordan',\n",
       "       'Paraná', 'Belarus', 'Ireland', 'United States of America', 'Utah',\n",
       "       'Bahamas', 'Western Sub-Saharan Africa', 'West Java', 'Ceará',\n",
       "       'Tlaxcala', 'Scotland', 'European Union', 'Gunma', 'Paraíba',\n",
       "       'Lithuania', 'Central Kalimantan', 'Sinaloa', 'Central Europe',\n",
       "       'East Nusa Tenggara', 'Miyazaki', 'Wales', 'WHO region', 'Alagoas',\n",
       "       'Piaui', 'Stockholm', 'Bangka-Belitung Islands', 'Guerrero',\n",
       "       'Luxembourg', 'Goiás', 'North Sulawesi', 'Tamaulipas', 'Roraima',\n",
       "       'Yamanashi', 'Tōkyō', 'Azerbaijan', 'Kyōto', 'South Kalimantan',\n",
       "       'Bulgaria', 'Gambia', 'Nagasaki', 'Shimane', 'Bahia', 'Jakarta',\n",
       "       'Rondônia', 'Norway', 'Southeast Sulawesi', 'Montenegro',\n",
       "       'Sergipe', 'Shizuoka', 'Rio Grande do Sul', 'Hungary', 'Toyama',\n",
       "       'Yamaguchi', 'Nara', 'Yucatán', 'Cuba', 'Kyrgyzstan', 'Yogyakarta',\n",
       "       'Espírito Santo', 'Shiga', 'Maluku', 'Marshall Islands', 'Serbia',\n",
       "       'West Sulawesi', 'Ehime', 'Elgeyo-Marakwet', 'Turkmenistan',\n",
       "       'Samoa', 'Hyōgo', 'Eastern Europe', 'Grenada', 'Lamu', 'Samburu',\n",
       "       'West Papua', 'Saga', 'Albania', 'HomaBay', 'Baja California Sur',\n",
       "       'São Paulo', 'Tottori', 'Kajiado', 'Libya', 'Haiti', 'Mandera',\n",
       "       'Niigata', 'TanaRiver', 'Nordic Region', 'Kiambu', 'Aichi',\n",
       "       'Tokushima', 'Hiroshima', 'Kakamega', 'Colima', 'Marsabit',\n",
       "       'Fukui', 'Stockton-on-Tees', 'Redbridge', 'Kisii', 'Ukraine',\n",
       "       'Oman', 'Kagawa', 'Kōchi', 'Redcar and Cleveland', 'Makueni',\n",
       "       'TaitaTaveta', 'Kwale', 'Gifu', 'Nakuru', 'Hillingdon', 'Mombasa',\n",
       "       'Middlesbrough', 'Mexico City', 'TharakaNithi', 'Meru',\n",
       "       'Syrian Arab Republic', 'Bolivia (Plurinational State of)',\n",
       "       'TransNzoia', 'Kitui', 'Sutton', 'WestPokot', 'Nyamira',\n",
       "       'UasinGishu', 'Central Latin America', 'United Arab Emirates',\n",
       "       'Indiana', \"Murang'a\", 'Vihiga', 'El Salvador', 'Nandi',\n",
       "       'Michoacán de Ocampo', 'Nyandarua', 'Wandsworth', 'Kentucky',\n",
       "       'Tuvalu', 'Siaya', 'Maryland', 'Minnesota', 'Riau', 'Bengkulu',\n",
       "       'New Jersey', 'Hokkaidō', 'Virginia', 'Ōsaka', 'Malta',\n",
       "       'Riau Islands', 'North Carolina', 'Wisconsin', 'Miyagi',\n",
       "       'Wakayama', 'Portugal', 'Oklahoma', 'Central Java',\n",
       "       'North West England', 'Okayama', 'Merton', 'Havering',\n",
       "       'Switzerland', 'Banten', 'Texas', 'Harrow', 'South West England',\n",
       "       'Oaxaca', 'Fukuoka', 'Hammersmith and Fulham', 'Quintana Roo',\n",
       "       'Sonora', 'Viet Nam', 'Bromley', 'Uzbekistan',\n",
       "       'Bosnia and Herzegovina', 'Kiribati', 'Leeds', 'Czechia', 'Aceh',\n",
       "       'Rotherham', 'Papua New Guinea', 'Kingston upon Thames', 'Vanuatu',\n",
       "       'Enfield', 'Bexley', 'Rutland', 'Comoros', 'Dominican Republic',\n",
       "       'Ealing', 'Kirklees', 'Nottinghamshire', 'Brent', 'Estonia',\n",
       "       'Southern Sub-Saharan Africa', 'Bath and North East Somerset',\n",
       "       'Republic of Moldova', 'Alabama', 'Colorado', 'Swindon',\n",
       "       'District of Columbia', 'Barnsley', 'Croydon', 'Bournemouth',\n",
       "       'Arkansas', 'Hawaii', 'Greenwich', 'Lincolnshire', 'Derbyshire',\n",
       "       'Wakefield', 'Connecticut', 'Kingston upon Hull, City of',\n",
       "       'Leicestershire', 'Derby', 'Spain', 'Papua', 'Acre', 'Amapá',\n",
       "       'Guatemala', 'Minas Gerais', 'Dorset', 'Devon', 'Gloucestershire',\n",
       "       'Waltham Forest', 'Plymouth', 'Oxfordshire', 'Hounslow',\n",
       "       'Brighton and Hove', 'Slough', 'Barking and Dagenham',\n",
       "       'Portsmouth', 'Islington', 'Buckinghamshire', 'Wigan', 'Arizona',\n",
       "       'Tameside', 'Hampshire', 'East Riding of Yorkshire', 'Florida',\n",
       "       'Idaho', 'Europe', 'England', 'Commonwealth High Income',\n",
       "       'South-East Asia Region', 'Medway', 'Calderdale', 'Isle of Wight',\n",
       "       'Distrito Federal', 'Bahrain', 'Western Pacific Region',\n",
       "       'Maranhão', 'Argentina', 'African Union', 'Machakos', 'Iwate',\n",
       "       'Embu', 'Surrey', 'Baringo', 'Bradford', 'Sub-Saharan Africa',\n",
       "       'Central African Republic', 'Wiltshire', 'Poole', 'Somerset',\n",
       "       'Bristol, City of', 'African Region', 'Isiolo', 'European Region',\n",
       "       'Kericho', 'Sudan', 'World Bank High Income', 'Kirinyaga',\n",
       "       'World Bank Low Income', 'Bomet', 'Warrington', 'Gateshead',\n",
       "       'Sweden', 'High SDI', 'Pará', 'Sunderland', 'North America',\n",
       "       'Pernambuco', 'Stockport', 'Darlington', 'Sefton',\n",
       "       'Rio Grande do Norte', 'Santa Catarina', 'Wirral', 'Tocantins',\n",
       "       'Lewisham', 'Newham', 'Hackney', 'North East Lincolnshire',\n",
       "       'Camden', 'Haringey', 'Halton', 'Tower Hamlets', 'Salford',\n",
       "       'Blackpool', 'North Lincolnshire', 'West Berkshire', 'West Sussex',\n",
       "       'Kent', 'East Sussex', 'Southampton', 'Four World Regions',\n",
       "       'Region of the Americas', 'World Bank Lower Middle Income', 'G20',\n",
       "       'World Bank Income Levels', 'Sweden except Stockholm', 'Liverpool',\n",
       "       'Sheffield', 'Doncaster', 'Northamptonshire', 'Rochdale',\n",
       "       'Knowsley', 'North Yorkshire', 'Busia',\n",
       "       'Eastern Mediterranean Region', 'Bungoma', 'Fukushima',\n",
       "       'Commonwealth', 'Yamagata', 'Aomori', 'Ōita', 'Okinawa',\n",
       "       'Commonwealth Middle Income', 'America', 'Asia', 'Ibaraki',\n",
       "       'Blackburn with Darwen', 'Manchester', 'York', 'Africa', 'Tochigi',\n",
       "       'World Bank Upper Middle Income', 'OECD Countries', 'Akita',\n",
       "       'Commonwealth Low Income', 'United States', 'Czech Republic'],\n",
       "      dtype=object)"
      ]
     },
     "execution_count": 6,
     "metadata": {},
     "output_type": "execute_result"
    }
   ],
   "source": [
    "df['country'].unique()"
   ]
  },
  {
   "cell_type": "code",
   "execution_count": 7,
   "metadata": {
    "colab": {
     "base_uri": "https://localhost:8080/"
    },
    "id": "iB964KfE8DvO",
    "outputId": "ede3e223-18c6-44e6-afd0-f6ed5130f9cd"
   },
   "outputs": [
    {
     "data": {
      "text/plain": [
       "672"
      ]
     },
     "execution_count": 7,
     "metadata": {},
     "output_type": "execute_result"
    }
   ],
   "source": [
    "len(df['country'].unique())"
   ]
  },
  {
   "cell_type": "markdown",
   "metadata": {
    "id": "eOyamYrT8DvQ"
   },
   "source": [
    "Podemos ver que tenemos cerca de 672 países en nuestro conjunto de datos, sin embargo, se sabe que existen internacionalmente solo 195, por lo que, como se mencionó anteriormente, observando con mayor detalle la columna, nos percatamos que esisten muchos registrso que en realidad no corresponden al nombre de un país. Por lo que estos habrán de ser removidos a fin de que no afecten nuestro análisis."
   ]
  },
  {
   "cell_type": "markdown",
   "metadata": {
    "id": "bRhppvJ98JCk"
   },
   "source": [
    "## 5. Limpieza de datos (Aquí va el código de Alan)"
   ]
  },
  {
   "cell_type": "markdown",
   "metadata": {
    "id": "dc3WzdJUvsHm"
   },
   "source": [
    "Observemos el dataset y veamos los Na's existentes"
   ]
  },
  {
   "cell_type": "code",
   "execution_count": 8,
   "metadata": {
    "colab": {
     "base_uri": "https://localhost:8080/"
    },
    "id": "LCH-7WtovrUi",
    "outputId": "98e18cea-1345-45e2-b038-f98766bd718b"
   },
   "outputs": [
    {
     "name": "stdout",
     "output_type": "stream",
     "text": [
      "Dimensión del dataset: 25,828 filas y 20 columnas\n"
     ]
    }
   ],
   "source": [
    "print(f'Dimensión del dataset: {df.shape[0]:,} filas y {df.shape[1]} columnas')"
   ]
  },
  {
   "cell_type": "code",
   "execution_count": 9,
   "metadata": {
    "colab": {
     "base_uri": "https://localhost:8080/",
     "height": 204
    },
    "id": "NZg8jXY1saoG",
    "outputId": "352e934e-d36c-42a6-81cc-7dbceb61bfa7"
   },
   "outputs": [
    {
     "data": {
      "text/html": [
       "<div>\n",
       "<style scoped>\n",
       "    .dataframe tbody tr th:only-of-type {\n",
       "        vertical-align: middle;\n",
       "    }\n",
       "\n",
       "    .dataframe tbody tr th {\n",
       "        vertical-align: top;\n",
       "    }\n",
       "\n",
       "    .dataframe thead th {\n",
       "        text-align: right;\n",
       "    }\n",
       "</style>\n",
       "<table border=\"1\" class=\"dataframe\">\n",
       "  <thead>\n",
       "    <tr style=\"text-align: right;\">\n",
       "      <th></th>\n",
       "      <th>country</th>\n",
       "      <th>year</th>\n",
       "      <th>respiratory_infections_and_tuberculosis_number</th>\n",
       "      <th>respiratory_infections_and_tuberculosis_percent</th>\n",
       "      <th>respiratory_infections_and_tuberculosis_rate</th>\n",
       "      <th>chronic_respiratory_diseases_number</th>\n",
       "      <th>chronic_respiratory_diseases_percent</th>\n",
       "      <th>chronic_respiratory_diseases_rate</th>\n",
       "      <th>allghg</th>\n",
       "      <th>co2</th>\n",
       "      <th>ch4</th>\n",
       "      <th>n2o</th>\n",
       "      <th>fgas</th>\n",
       "      <th>mean_annual_tempC</th>\n",
       "    </tr>\n",
       "  </thead>\n",
       "  <tbody>\n",
       "    <tr>\n",
       "      <th>0</th>\n",
       "      <td>Kuwait</td>\n",
       "      <td>1990</td>\n",
       "      <td>224.57396</td>\n",
       "      <td>0.04210</td>\n",
       "      <td>12.76398</td>\n",
       "      <td>81.38989</td>\n",
       "      <td>0.01526</td>\n",
       "      <td>4.62591</td>\n",
       "      <td>NaN</td>\n",
       "      <td>NaN</td>\n",
       "      <td>NaN</td>\n",
       "      <td>NaN</td>\n",
       "      <td>NaN</td>\n",
       "      <td>NaN</td>\n",
       "    </tr>\n",
       "    <tr>\n",
       "      <th>1</th>\n",
       "      <td>Honduras</td>\n",
       "      <td>1990</td>\n",
       "      <td>2102.10070</td>\n",
       "      <td>0.07614</td>\n",
       "      <td>44.64436</td>\n",
       "      <td>1273.71280</td>\n",
       "      <td>0.04612</td>\n",
       "      <td>27.05108</td>\n",
       "      <td>NaN</td>\n",
       "      <td>NaN</td>\n",
       "      <td>NaN</td>\n",
       "      <td>NaN</td>\n",
       "      <td>NaN</td>\n",
       "      <td>NaN</td>\n",
       "    </tr>\n",
       "    <tr>\n",
       "      <th>2</th>\n",
       "      <td>Guyana</td>\n",
       "      <td>1990</td>\n",
       "      <td>373.67216</td>\n",
       "      <td>0.05752</td>\n",
       "      <td>48.52477</td>\n",
       "      <td>90.24604</td>\n",
       "      <td>0.01389</td>\n",
       "      <td>11.71928</td>\n",
       "      <td>NaN</td>\n",
       "      <td>NaN</td>\n",
       "      <td>NaN</td>\n",
       "      <td>NaN</td>\n",
       "      <td>NaN</td>\n",
       "      <td>NaN</td>\n",
       "    </tr>\n",
       "    <tr>\n",
       "      <th>3</th>\n",
       "      <td>Guinea-Bissau</td>\n",
       "      <td>1990</td>\n",
       "      <td>2628.41820</td>\n",
       "      <td>0.15324</td>\n",
       "      <td>260.93392</td>\n",
       "      <td>370.04370</td>\n",
       "      <td>0.02158</td>\n",
       "      <td>36.73577</td>\n",
       "      <td>NaN</td>\n",
       "      <td>NaN</td>\n",
       "      <td>NaN</td>\n",
       "      <td>NaN</td>\n",
       "      <td>NaN</td>\n",
       "      <td>NaN</td>\n",
       "    </tr>\n",
       "    <tr>\n",
       "      <th>4</th>\n",
       "      <td>Djibouti</td>\n",
       "      <td>1990</td>\n",
       "      <td>740.08581</td>\n",
       "      <td>0.17884</td>\n",
       "      <td>152.27827</td>\n",
       "      <td>60.30051</td>\n",
       "      <td>0.01456</td>\n",
       "      <td>12.40729</td>\n",
       "      <td>NaN</td>\n",
       "      <td>NaN</td>\n",
       "      <td>NaN</td>\n",
       "      <td>NaN</td>\n",
       "      <td>NaN</td>\n",
       "      <td>NaN</td>\n",
       "    </tr>\n",
       "  </tbody>\n",
       "</table>\n",
       "</div>"
      ],
      "text/plain": [
       "         country  year  respiratory_infections_and_tuberculosis_number  \\\n",
       "0         Kuwait  1990                                       224.57396   \n",
       "1       Honduras  1990                                      2102.10070   \n",
       "2         Guyana  1990                                       373.67216   \n",
       "3  Guinea-Bissau  1990                                      2628.41820   \n",
       "4       Djibouti  1990                                       740.08581   \n",
       "\n",
       "   respiratory_infections_and_tuberculosis_percent  \\\n",
       "0                                          0.04210   \n",
       "1                                          0.07614   \n",
       "2                                          0.05752   \n",
       "3                                          0.15324   \n",
       "4                                          0.17884   \n",
       "\n",
       "   respiratory_infections_and_tuberculosis_rate  \\\n",
       "0                                      12.76398   \n",
       "1                                      44.64436   \n",
       "2                                      48.52477   \n",
       "3                                     260.93392   \n",
       "4                                     152.27827   \n",
       "\n",
       "   chronic_respiratory_diseases_number  chronic_respiratory_diseases_percent  \\\n",
       "0                             81.38989                               0.01526   \n",
       "1                           1273.71280                               0.04612   \n",
       "2                             90.24604                               0.01389   \n",
       "3                            370.04370                               0.02158   \n",
       "4                             60.30051                               0.01456   \n",
       "\n",
       "   chronic_respiratory_diseases_rate  allghg  co2  ch4  n2o  fgas  \\\n",
       "0                            4.62591     NaN  NaN  NaN  NaN   NaN   \n",
       "1                           27.05108     NaN  NaN  NaN  NaN   NaN   \n",
       "2                           11.71928     NaN  NaN  NaN  NaN   NaN   \n",
       "3                           36.73577     NaN  NaN  NaN  NaN   NaN   \n",
       "4                           12.40729     NaN  NaN  NaN  NaN   NaN   \n",
       "\n",
       "   mean_annual_tempC  \n",
       "0                NaN  \n",
       "1                NaN  \n",
       "2                NaN  \n",
       "3                NaN  \n",
       "4                NaN  "
      ]
     },
     "execution_count": 9,
     "metadata": {},
     "output_type": "execute_result"
    }
   ],
   "source": [
    "# Eliminación de variables que no se usan en el análisis\n",
    "df = df.drop([\"iso3\",\"health_measure\",\"sex\",\"ClimateSource\",\"climate_units\",\"sector\"], axis = 1)\n",
    "df.head()"
   ]
  },
  {
   "cell_type": "code",
   "execution_count": 10,
   "metadata": {
    "colab": {
     "base_uri": "https://localhost:8080/",
     "height": 272
    },
    "id": "RA5G6imVtkAX",
    "outputId": "1c02f19d-f974-4472-ff98-7d37313cc574"
   },
   "outputs": [
    {
     "name": "stdout",
     "output_type": "stream",
     "text": [
      "El número de reigstros original son de: 25,828\n",
      "El número de registros duplicados que se eliminaron fue de: 3,780\n",
      "El nuevo número de registro es de: 22,048 \n",
      "\n"
     ]
    },
    {
     "data": {
      "text/html": [
       "<div>\n",
       "<style scoped>\n",
       "    .dataframe tbody tr th:only-of-type {\n",
       "        vertical-align: middle;\n",
       "    }\n",
       "\n",
       "    .dataframe tbody tr th {\n",
       "        vertical-align: top;\n",
       "    }\n",
       "\n",
       "    .dataframe thead th {\n",
       "        text-align: right;\n",
       "    }\n",
       "</style>\n",
       "<table border=\"1\" class=\"dataframe\">\n",
       "  <thead>\n",
       "    <tr style=\"text-align: right;\">\n",
       "      <th></th>\n",
       "      <th>country</th>\n",
       "      <th>year</th>\n",
       "      <th>respiratory_infections_and_tuberculosis_number</th>\n",
       "      <th>respiratory_infections_and_tuberculosis_percent</th>\n",
       "      <th>respiratory_infections_and_tuberculosis_rate</th>\n",
       "      <th>chronic_respiratory_diseases_number</th>\n",
       "      <th>chronic_respiratory_diseases_percent</th>\n",
       "      <th>chronic_respiratory_diseases_rate</th>\n",
       "      <th>allghg</th>\n",
       "      <th>co2</th>\n",
       "      <th>ch4</th>\n",
       "      <th>n2o</th>\n",
       "      <th>fgas</th>\n",
       "      <th>mean_annual_tempC</th>\n",
       "    </tr>\n",
       "  </thead>\n",
       "  <tbody>\n",
       "    <tr>\n",
       "      <th>0</th>\n",
       "      <td>Kuwait</td>\n",
       "      <td>1990</td>\n",
       "      <td>224.57396</td>\n",
       "      <td>0.04210</td>\n",
       "      <td>12.76398</td>\n",
       "      <td>81.38989</td>\n",
       "      <td>0.01526</td>\n",
       "      <td>4.62591</td>\n",
       "      <td>NaN</td>\n",
       "      <td>NaN</td>\n",
       "      <td>NaN</td>\n",
       "      <td>NaN</td>\n",
       "      <td>NaN</td>\n",
       "      <td>NaN</td>\n",
       "    </tr>\n",
       "    <tr>\n",
       "      <th>1</th>\n",
       "      <td>Honduras</td>\n",
       "      <td>1990</td>\n",
       "      <td>2102.10070</td>\n",
       "      <td>0.07614</td>\n",
       "      <td>44.64436</td>\n",
       "      <td>1273.71280</td>\n",
       "      <td>0.04612</td>\n",
       "      <td>27.05108</td>\n",
       "      <td>NaN</td>\n",
       "      <td>NaN</td>\n",
       "      <td>NaN</td>\n",
       "      <td>NaN</td>\n",
       "      <td>NaN</td>\n",
       "      <td>NaN</td>\n",
       "    </tr>\n",
       "    <tr>\n",
       "      <th>2</th>\n",
       "      <td>Guyana</td>\n",
       "      <td>1990</td>\n",
       "      <td>373.67216</td>\n",
       "      <td>0.05752</td>\n",
       "      <td>48.52477</td>\n",
       "      <td>90.24604</td>\n",
       "      <td>0.01389</td>\n",
       "      <td>11.71928</td>\n",
       "      <td>NaN</td>\n",
       "      <td>NaN</td>\n",
       "      <td>NaN</td>\n",
       "      <td>NaN</td>\n",
       "      <td>NaN</td>\n",
       "      <td>NaN</td>\n",
       "    </tr>\n",
       "    <tr>\n",
       "      <th>3</th>\n",
       "      <td>Guinea-Bissau</td>\n",
       "      <td>1990</td>\n",
       "      <td>2628.41820</td>\n",
       "      <td>0.15324</td>\n",
       "      <td>260.93392</td>\n",
       "      <td>370.04370</td>\n",
       "      <td>0.02158</td>\n",
       "      <td>36.73577</td>\n",
       "      <td>NaN</td>\n",
       "      <td>NaN</td>\n",
       "      <td>NaN</td>\n",
       "      <td>NaN</td>\n",
       "      <td>NaN</td>\n",
       "      <td>NaN</td>\n",
       "    </tr>\n",
       "    <tr>\n",
       "      <th>4</th>\n",
       "      <td>Djibouti</td>\n",
       "      <td>1990</td>\n",
       "      <td>740.08581</td>\n",
       "      <td>0.17884</td>\n",
       "      <td>152.27827</td>\n",
       "      <td>60.30051</td>\n",
       "      <td>0.01456</td>\n",
       "      <td>12.40729</td>\n",
       "      <td>NaN</td>\n",
       "      <td>NaN</td>\n",
       "      <td>NaN</td>\n",
       "      <td>NaN</td>\n",
       "      <td>NaN</td>\n",
       "      <td>NaN</td>\n",
       "    </tr>\n",
       "  </tbody>\n",
       "</table>\n",
       "</div>"
      ],
      "text/plain": [
       "         country  year  respiratory_infections_and_tuberculosis_number  \\\n",
       "0         Kuwait  1990                                       224.57396   \n",
       "1       Honduras  1990                                      2102.10070   \n",
       "2         Guyana  1990                                       373.67216   \n",
       "3  Guinea-Bissau  1990                                      2628.41820   \n",
       "4       Djibouti  1990                                       740.08581   \n",
       "\n",
       "   respiratory_infections_and_tuberculosis_percent  \\\n",
       "0                                          0.04210   \n",
       "1                                          0.07614   \n",
       "2                                          0.05752   \n",
       "3                                          0.15324   \n",
       "4                                          0.17884   \n",
       "\n",
       "   respiratory_infections_and_tuberculosis_rate  \\\n",
       "0                                      12.76398   \n",
       "1                                      44.64436   \n",
       "2                                      48.52477   \n",
       "3                                     260.93392   \n",
       "4                                     152.27827   \n",
       "\n",
       "   chronic_respiratory_diseases_number  chronic_respiratory_diseases_percent  \\\n",
       "0                             81.38989                               0.01526   \n",
       "1                           1273.71280                               0.04612   \n",
       "2                             90.24604                               0.01389   \n",
       "3                            370.04370                               0.02158   \n",
       "4                             60.30051                               0.01456   \n",
       "\n",
       "   chronic_respiratory_diseases_rate  allghg  co2  ch4  n2o  fgas  \\\n",
       "0                            4.62591     NaN  NaN  NaN  NaN   NaN   \n",
       "1                           27.05108     NaN  NaN  NaN  NaN   NaN   \n",
       "2                           11.71928     NaN  NaN  NaN  NaN   NaN   \n",
       "3                           36.73577     NaN  NaN  NaN  NaN   NaN   \n",
       "4                           12.40729     NaN  NaN  NaN  NaN   NaN   \n",
       "\n",
       "   mean_annual_tempC  \n",
       "0                NaN  \n",
       "1                NaN  \n",
       "2                NaN  \n",
       "3                NaN  \n",
       "4                NaN  "
      ]
     },
     "execution_count": 10,
     "metadata": {},
     "output_type": "execute_result"
    }
   ],
   "source": [
    "# Eliminación de registros duplicados\n",
    "registros_originales = df.shape[0]\n",
    "df = df.drop_duplicates()\n",
    "print(f\"El número de reigstros original son de: {registros_originales:,}\")\n",
    "print(f\"El número de registros duplicados que se eliminaron fue de: {registros_originales - df.shape[0]:,}\")\n",
    "print(f\"El nuevo número de registro es de: {df.shape[0]:,} \\n\")\n",
    "df.head()"
   ]
  },
  {
   "cell_type": "code",
   "execution_count": 11,
   "metadata": {
    "colab": {
     "base_uri": "https://localhost:8080/"
    },
    "id": "sJi69qdB8Psj",
    "outputId": "2a774b7d-fddd-4a58-fd38-2e18c7ce46e8"
   },
   "outputs": [
    {
     "data": {
      "text/plain": [
       "country                                                0\n",
       "year                                                   0\n",
       "respiratory_infections_and_tuberculosis_number        58\n",
       "respiratory_infections_and_tuberculosis_percent       58\n",
       "respiratory_infections_and_tuberculosis_rate          58\n",
       "chronic_respiratory_diseases_number                   58\n",
       "chronic_respiratory_diseases_percent                  58\n",
       "chronic_respiratory_diseases_rate                     58\n",
       "allghg                                             21062\n",
       "co2                                                21062\n",
       "ch4                                                21062\n",
       "n2o                                                21062\n",
       "fgas                                               21062\n",
       "mean_annual_tempC                                  21062\n",
       "dtype: int64"
      ]
     },
     "execution_count": 11,
     "metadata": {},
     "output_type": "execute_result"
    }
   ],
   "source": [
    "# Cantidad de Na's en el Dataset por columnas\n",
    "df.isna().sum()"
   ]
  },
  {
   "cell_type": "markdown",
   "metadata": {
    "id": "W3AiOpzkrfWQ"
   },
   "source": [
    "Observese que existe gran cantidad de Na's debido a lo que se mencionó anteriormente, varios registros de la columna países en realidad no son países, sino estados o regiones, por lo que, en el caso de los datos de los niveles de gases de efectos invernadero, solo se tienen a nivel país y no estados o regiones, lo mismo pasa con las variables referente a las enferemdades respiratorias.\n",
    "\n",
    "Por lo tanto, se deben eliminar estos registros."
   ]
  },
  {
   "cell_type": "code",
   "execution_count": 12,
   "metadata": {
    "colab": {
     "base_uri": "https://localhost:8080/"
    },
    "id": "WqNFzyAwxNzh",
    "outputId": "a41b8116-7ba1-4b63-9c2f-a18dfb934676"
   },
   "outputs": [
    {
     "name": "stdout",
     "output_type": "stream",
     "text": [
      "El nuevo número de registros es de 986\n"
     ]
    }
   ],
   "source": [
    "# Eliminamos los Na's de las variables referentes a los gases de efecto invernadero\n",
    "df = df.dropna(subset = [\"allghg\",\"co2\",\"ch4\",\"n2o\",\"fgas\",\"mean_annual_tempC\"])\n",
    "print(f\"El nuevo número de registros es de {df.shape[0]}\")"
   ]
  },
  {
   "cell_type": "code",
   "execution_count": 14,
   "metadata": {
    "colab": {
     "base_uri": "https://localhost:8080/"
    },
    "id": "_m1Eegz5wTpN",
    "outputId": "70b98556-cf65-48cd-cc58-e8bc487f4279"
   },
   "outputs": [
    {
     "name": "stdout",
     "output_type": "stream",
     "text": [
      "El nuevo numero de registros es de 928\n"
     ]
    }
   ],
   "source": [
    "# Eliminamos los Na's de las variables referentes a las enferemedades respiratorias\n",
    "df = df.dropna(subset=[\"respiratory_infections_and_tuberculosis_number\",\n",
    "                       \"respiratory_infections_and_tuberculosis_percent\",\n",
    "                       \"respiratory_infections_and_tuberculosis_rate\",\n",
    "                       \"chronic_respiratory_diseases_number\",\n",
    "                       \"chronic_respiratory_diseases_percent\",\n",
    "                        \"chronic_respiratory_diseases_rate\"])\n",
    "print(f\"El nuevo numero de registros es de {df.shape[0]}\")"
   ]
  },
  {
   "cell_type": "code",
   "execution_count": 15,
   "metadata": {
    "colab": {
     "base_uri": "https://localhost:8080/",
     "height": 204
    },
    "id": "QDrIJw-bxHEH",
    "outputId": "5a3dd8a6-0f89-4ac9-f366-5f3f9e8c5633"
   },
   "outputs": [
    {
     "data": {
      "text/html": [
       "<div>\n",
       "<style scoped>\n",
       "    .dataframe tbody tr th:only-of-type {\n",
       "        vertical-align: middle;\n",
       "    }\n",
       "\n",
       "    .dataframe tbody tr th {\n",
       "        vertical-align: top;\n",
       "    }\n",
       "\n",
       "    .dataframe thead th {\n",
       "        text-align: right;\n",
       "    }\n",
       "</style>\n",
       "<table border=\"1\" class=\"dataframe\">\n",
       "  <thead>\n",
       "    <tr style=\"text-align: right;\">\n",
       "      <th></th>\n",
       "      <th>country</th>\n",
       "      <th>year</th>\n",
       "      <th>respiratory_infections_and_tuberculosis_number</th>\n",
       "      <th>respiratory_infections_and_tuberculosis_percent</th>\n",
       "      <th>respiratory_infections_and_tuberculosis_rate</th>\n",
       "      <th>chronic_respiratory_diseases_number</th>\n",
       "      <th>chronic_respiratory_diseases_percent</th>\n",
       "      <th>chronic_respiratory_diseases_rate</th>\n",
       "      <th>allghg</th>\n",
       "      <th>co2</th>\n",
       "      <th>ch4</th>\n",
       "      <th>n2o</th>\n",
       "      <th>fgas</th>\n",
       "      <th>mean_annual_tempC</th>\n",
       "    </tr>\n",
       "  </thead>\n",
       "  <tbody>\n",
       "    <tr>\n",
       "      <th>24</th>\n",
       "      <td>Mexico</td>\n",
       "      <td>1990</td>\n",
       "      <td>39290.44285</td>\n",
       "      <td>0.08916</td>\n",
       "      <td>45.96035</td>\n",
       "      <td>16909.83924</td>\n",
       "      <td>0.03839</td>\n",
       "      <td>19.78044</td>\n",
       "      <td>417.45</td>\n",
       "      <td>290.01</td>\n",
       "      <td>88.10</td>\n",
       "      <td>37.47</td>\n",
       "      <td>1.87</td>\n",
       "      <td>20.958333</td>\n",
       "    </tr>\n",
       "    <tr>\n",
       "      <th>31</th>\n",
       "      <td>Canada</td>\n",
       "      <td>1990</td>\n",
       "      <td>6797.77117</td>\n",
       "      <td>0.03571</td>\n",
       "      <td>24.93967</td>\n",
       "      <td>9319.25608</td>\n",
       "      <td>0.04895</td>\n",
       "      <td>34.19049</td>\n",
       "      <td>626.36</td>\n",
       "      <td>483.99</td>\n",
       "      <td>87.75</td>\n",
       "      <td>42.92</td>\n",
       "      <td>11.70</td>\n",
       "      <td>-7.450000</td>\n",
       "    </tr>\n",
       "    <tr>\n",
       "      <th>38</th>\n",
       "      <td>Israel</td>\n",
       "      <td>1990</td>\n",
       "      <td>772.29921</td>\n",
       "      <td>0.02651</td>\n",
       "      <td>15.56473</td>\n",
       "      <td>1327.52646</td>\n",
       "      <td>0.04556</td>\n",
       "      <td>26.75464</td>\n",
       "      <td>43.95</td>\n",
       "      <td>33.78</td>\n",
       "      <td>8.35</td>\n",
       "      <td>1.62</td>\n",
       "      <td>0.21</td>\n",
       "      <td>19.816667</td>\n",
       "    </tr>\n",
       "    <tr>\n",
       "      <th>43</th>\n",
       "      <td>Japan</td>\n",
       "      <td>1990</td>\n",
       "      <td>68816.75721</td>\n",
       "      <td>0.08483</td>\n",
       "      <td>54.67434</td>\n",
       "      <td>29862.30051</td>\n",
       "      <td>0.03681</td>\n",
       "      <td>23.72535</td>\n",
       "      <td>1109.37</td>\n",
       "      <td>1016.89</td>\n",
       "      <td>37.86</td>\n",
       "      <td>28.33</td>\n",
       "      <td>26.30</td>\n",
       "      <td>11.658333</td>\n",
       "    </tr>\n",
       "    <tr>\n",
       "      <th>53</th>\n",
       "      <td>Mexico</td>\n",
       "      <td>1991</td>\n",
       "      <td>37046.64026</td>\n",
       "      <td>0.08447</td>\n",
       "      <td>42.53984</td>\n",
       "      <td>17171.26279</td>\n",
       "      <td>0.03917</td>\n",
       "      <td>19.71738</td>\n",
       "      <td>435.45</td>\n",
       "      <td>308.41</td>\n",
       "      <td>88.71</td>\n",
       "      <td>36.36</td>\n",
       "      <td>1.97</td>\n",
       "      <td>20.891667</td>\n",
       "    </tr>\n",
       "  </tbody>\n",
       "</table>\n",
       "</div>"
      ],
      "text/plain": [
       "   country  year  respiratory_infections_and_tuberculosis_number  \\\n",
       "24  Mexico  1990                                     39290.44285   \n",
       "31  Canada  1990                                      6797.77117   \n",
       "38  Israel  1990                                       772.29921   \n",
       "43   Japan  1990                                     68816.75721   \n",
       "53  Mexico  1991                                     37046.64026   \n",
       "\n",
       "    respiratory_infections_and_tuberculosis_percent  \\\n",
       "24                                          0.08916   \n",
       "31                                          0.03571   \n",
       "38                                          0.02651   \n",
       "43                                          0.08483   \n",
       "53                                          0.08447   \n",
       "\n",
       "    respiratory_infections_and_tuberculosis_rate  \\\n",
       "24                                      45.96035   \n",
       "31                                      24.93967   \n",
       "38                                      15.56473   \n",
       "43                                      54.67434   \n",
       "53                                      42.53984   \n",
       "\n",
       "    chronic_respiratory_diseases_number  chronic_respiratory_diseases_percent  \\\n",
       "24                          16909.83924                               0.03839   \n",
       "31                           9319.25608                               0.04895   \n",
       "38                           1327.52646                               0.04556   \n",
       "43                          29862.30051                               0.03681   \n",
       "53                          17171.26279                               0.03917   \n",
       "\n",
       "    chronic_respiratory_diseases_rate   allghg      co2    ch4    n2o   fgas  \\\n",
       "24                           19.78044   417.45   290.01  88.10  37.47   1.87   \n",
       "31                           34.19049   626.36   483.99  87.75  42.92  11.70   \n",
       "38                           26.75464    43.95    33.78   8.35   1.62   0.21   \n",
       "43                           23.72535  1109.37  1016.89  37.86  28.33  26.30   \n",
       "53                           19.71738   435.45   308.41  88.71  36.36   1.97   \n",
       "\n",
       "    mean_annual_tempC  \n",
       "24          20.958333  \n",
       "31          -7.450000  \n",
       "38          19.816667  \n",
       "43          11.658333  \n",
       "53          20.891667  "
      ]
     },
     "execution_count": 15,
     "metadata": {},
     "output_type": "execute_result"
    }
   ],
   "source": [
    "# Observemos como se han modificado los índices hasta ahora\n",
    "df.head()"
   ]
  },
  {
   "cell_type": "code",
   "execution_count": 16,
   "metadata": {
    "colab": {
     "base_uri": "https://localhost:8080/",
     "height": 204
    },
    "id": "oneltvhHyHkA",
    "outputId": "641a49b4-f84a-45ec-8b60-27e3ec68976d"
   },
   "outputs": [
    {
     "data": {
      "text/html": [
       "<div>\n",
       "<style scoped>\n",
       "    .dataframe tbody tr th:only-of-type {\n",
       "        vertical-align: middle;\n",
       "    }\n",
       "\n",
       "    .dataframe tbody tr th {\n",
       "        vertical-align: top;\n",
       "    }\n",
       "\n",
       "    .dataframe thead th {\n",
       "        text-align: right;\n",
       "    }\n",
       "</style>\n",
       "<table border=\"1\" class=\"dataframe\">\n",
       "  <thead>\n",
       "    <tr style=\"text-align: right;\">\n",
       "      <th></th>\n",
       "      <th>country</th>\n",
       "      <th>year</th>\n",
       "      <th>respiratory_infections_and_tuberculosis_number</th>\n",
       "      <th>respiratory_infections_and_tuberculosis_percent</th>\n",
       "      <th>respiratory_infections_and_tuberculosis_rate</th>\n",
       "      <th>chronic_respiratory_diseases_number</th>\n",
       "      <th>chronic_respiratory_diseases_percent</th>\n",
       "      <th>chronic_respiratory_diseases_rate</th>\n",
       "      <th>allghg</th>\n",
       "      <th>co2</th>\n",
       "      <th>ch4</th>\n",
       "      <th>n2o</th>\n",
       "      <th>fgas</th>\n",
       "      <th>mean_annual_tempC</th>\n",
       "    </tr>\n",
       "  </thead>\n",
       "  <tbody>\n",
       "    <tr>\n",
       "      <th>0</th>\n",
       "      <td>Mexico</td>\n",
       "      <td>1990</td>\n",
       "      <td>39290.44285</td>\n",
       "      <td>0.08916</td>\n",
       "      <td>45.96035</td>\n",
       "      <td>16909.83924</td>\n",
       "      <td>0.03839</td>\n",
       "      <td>19.78044</td>\n",
       "      <td>417.45</td>\n",
       "      <td>290.01</td>\n",
       "      <td>88.10</td>\n",
       "      <td>37.47</td>\n",
       "      <td>1.87</td>\n",
       "      <td>20.958333</td>\n",
       "    </tr>\n",
       "    <tr>\n",
       "      <th>1</th>\n",
       "      <td>Canada</td>\n",
       "      <td>1990</td>\n",
       "      <td>6797.77117</td>\n",
       "      <td>0.03571</td>\n",
       "      <td>24.93967</td>\n",
       "      <td>9319.25608</td>\n",
       "      <td>0.04895</td>\n",
       "      <td>34.19049</td>\n",
       "      <td>626.36</td>\n",
       "      <td>483.99</td>\n",
       "      <td>87.75</td>\n",
       "      <td>42.92</td>\n",
       "      <td>11.70</td>\n",
       "      <td>-7.450000</td>\n",
       "    </tr>\n",
       "    <tr>\n",
       "      <th>2</th>\n",
       "      <td>Israel</td>\n",
       "      <td>1990</td>\n",
       "      <td>772.29921</td>\n",
       "      <td>0.02651</td>\n",
       "      <td>15.56473</td>\n",
       "      <td>1327.52646</td>\n",
       "      <td>0.04556</td>\n",
       "      <td>26.75464</td>\n",
       "      <td>43.95</td>\n",
       "      <td>33.78</td>\n",
       "      <td>8.35</td>\n",
       "      <td>1.62</td>\n",
       "      <td>0.21</td>\n",
       "      <td>19.816667</td>\n",
       "    </tr>\n",
       "    <tr>\n",
       "      <th>3</th>\n",
       "      <td>Japan</td>\n",
       "      <td>1990</td>\n",
       "      <td>68816.75721</td>\n",
       "      <td>0.08483</td>\n",
       "      <td>54.67434</td>\n",
       "      <td>29862.30051</td>\n",
       "      <td>0.03681</td>\n",
       "      <td>23.72535</td>\n",
       "      <td>1109.37</td>\n",
       "      <td>1016.89</td>\n",
       "      <td>37.86</td>\n",
       "      <td>28.33</td>\n",
       "      <td>26.30</td>\n",
       "      <td>11.658333</td>\n",
       "    </tr>\n",
       "    <tr>\n",
       "      <th>4</th>\n",
       "      <td>Mexico</td>\n",
       "      <td>1991</td>\n",
       "      <td>37046.64026</td>\n",
       "      <td>0.08447</td>\n",
       "      <td>42.53984</td>\n",
       "      <td>17171.26279</td>\n",
       "      <td>0.03917</td>\n",
       "      <td>19.71738</td>\n",
       "      <td>435.45</td>\n",
       "      <td>308.41</td>\n",
       "      <td>88.71</td>\n",
       "      <td>36.36</td>\n",
       "      <td>1.97</td>\n",
       "      <td>20.891667</td>\n",
       "    </tr>\n",
       "  </tbody>\n",
       "</table>\n",
       "</div>"
      ],
      "text/plain": [
       "  country  year  respiratory_infections_and_tuberculosis_number  \\\n",
       "0  Mexico  1990                                     39290.44285   \n",
       "1  Canada  1990                                      6797.77117   \n",
       "2  Israel  1990                                       772.29921   \n",
       "3   Japan  1990                                     68816.75721   \n",
       "4  Mexico  1991                                     37046.64026   \n",
       "\n",
       "   respiratory_infections_and_tuberculosis_percent  \\\n",
       "0                                          0.08916   \n",
       "1                                          0.03571   \n",
       "2                                          0.02651   \n",
       "3                                          0.08483   \n",
       "4                                          0.08447   \n",
       "\n",
       "   respiratory_infections_and_tuberculosis_rate  \\\n",
       "0                                      45.96035   \n",
       "1                                      24.93967   \n",
       "2                                      15.56473   \n",
       "3                                      54.67434   \n",
       "4                                      42.53984   \n",
       "\n",
       "   chronic_respiratory_diseases_number  chronic_respiratory_diseases_percent  \\\n",
       "0                          16909.83924                               0.03839   \n",
       "1                           9319.25608                               0.04895   \n",
       "2                           1327.52646                               0.04556   \n",
       "3                          29862.30051                               0.03681   \n",
       "4                          17171.26279                               0.03917   \n",
       "\n",
       "   chronic_respiratory_diseases_rate   allghg      co2    ch4    n2o   fgas  \\\n",
       "0                           19.78044   417.45   290.01  88.10  37.47   1.87   \n",
       "1                           34.19049   626.36   483.99  87.75  42.92  11.70   \n",
       "2                           26.75464    43.95    33.78   8.35   1.62   0.21   \n",
       "3                           23.72535  1109.37  1016.89  37.86  28.33  26.30   \n",
       "4                           19.71738   435.45   308.41  88.71  36.36   1.97   \n",
       "\n",
       "   mean_annual_tempC  \n",
       "0          20.958333  \n",
       "1          -7.450000  \n",
       "2          19.816667  \n",
       "3          11.658333  \n",
       "4          20.891667  "
      ]
     },
     "execution_count": 16,
     "metadata": {},
     "output_type": "execute_result"
    }
   ],
   "source": [
    "# Reindexamos el dataset\n",
    "df = df.reset_index(drop=True)\n",
    "df.head()"
   ]
  },
  {
   "cell_type": "markdown",
   "metadata": {
    "id": "hN88PsGgy-oA"
   },
   "source": [
    "# Creo que los gases no es necesario renombrarlos"
   ]
  },
  {
   "cell_type": "code",
   "execution_count": 17,
   "metadata": {
    "colab": {
     "base_uri": "https://localhost:8080/"
    },
    "id": "LM7zRWZ7ykKz",
    "outputId": "06ec5c45-df7d-4483-ed03-4511f7543fc1"
   },
   "outputs": [
    {
     "data": {
      "text/plain": [
       "Index(['country', 'year', 'respiratory_infections_and_tuberculosis_number',\n",
       "       'respiratory_infections_and_tuberculosis_percent',\n",
       "       'respiratory_infections_and_tuberculosis_rate',\n",
       "       'chronic_respiratory_diseases_number',\n",
       "       'chronic_respiratory_diseases_percent',\n",
       "       'chronic_respiratory_diseases_rate', 'all_greenhouse_gas', 'co2', 'ch4',\n",
       "       'n2o', 'fgas', 'mean_annual_temp'],\n",
       "      dtype='object')"
      ]
     },
     "execution_count": 17,
     "metadata": {},
     "output_type": "execute_result"
    }
   ],
   "source": [
    "# Hacemos un renombre de las variables para un mejor entendimiento de las mismas y mayor facilidad de manipulación\n",
    "new_names = {\n",
    "    \"allghg\":\"all_greenhouse_gas\",\n",
    "    \"mean_annual_tempC\":\"mean_annual_temp\",\n",
    "}\n",
    "\n",
    "df = df.rename(columns = new_names)\n",
    "df.columns"
   ]
  },
  {
   "cell_type": "markdown",
   "metadata": {
    "id": "S9i59vUAzUHX"
   },
   "source": [
    "### Funciones de agregación \n",
    "Las funciones de agregación nos permiten ralizar un mejor análisis de nuestros datos para tener un panorama general se los mismos."
   ]
  },
  {
   "cell_type": "code",
   "execution_count": 18,
   "metadata": {
    "colab": {
     "base_uri": "https://localhost:8080/"
    },
    "id": "iBkXmpH_y16l",
    "outputId": "52839d8c-0498-4a57-899e-304195048c15"
   },
   "outputs": [
    {
     "ename": "KeyError",
     "evalue": "\"['mean_annual_tempC', 'CH4_methane', 'CO2_carbon_dioxide', 'N2O_nitrous_oxide'] not in index\"",
     "output_type": "error",
     "traceback": [
      "\u001b[0;31m---------------------------------------------------------------------------\u001b[0m",
      "\u001b[0;31mKeyError\u001b[0m                                  Traceback (most recent call last)",
      "\u001b[0;32m<ipython-input-18-903f9bc91726>\u001b[0m in \u001b[0;36m<module>\u001b[0;34m\u001b[0m\n\u001b[1;32m      1\u001b[0m \u001b[0;31m# Observemos el nivel de temperatura y los niveles de gases de efecto invernadero que emiten los países de estudio en promedio anualmente.\u001b[0m\u001b[0;34m\u001b[0m\u001b[0;34m\u001b[0m\u001b[0;34m\u001b[0m\u001b[0m\n\u001b[0;32m----> 2\u001b[0;31m \u001b[0mnp\u001b[0m\u001b[0;34m.\u001b[0m\u001b[0mmean\u001b[0m\u001b[0;34m(\u001b[0m\u001b[0mdf\u001b[0m\u001b[0;34m[\u001b[0m\u001b[0;34m[\u001b[0m\u001b[0;34m'mean_annual_tempC'\u001b[0m\u001b[0;34m,\u001b[0m\u001b[0;34m'CO2_carbon_dioxide'\u001b[0m\u001b[0;34m,\u001b[0m \u001b[0;34m'CH4_methane'\u001b[0m\u001b[0;34m,\u001b[0m \u001b[0;34m'N2O_nitrous_oxide'\u001b[0m\u001b[0;34m,\u001b[0m \u001b[0;34m'fgas'\u001b[0m\u001b[0;34m]\u001b[0m\u001b[0;34m]\u001b[0m\u001b[0;34m)\u001b[0m\u001b[0;34m\u001b[0m\u001b[0;34m\u001b[0m\u001b[0m\n\u001b[0m",
      "\u001b[0;32m/opt/anaconda3/lib/python3.8/site-packages/pandas/core/frame.py\u001b[0m in \u001b[0;36m__getitem__\u001b[0;34m(self, key)\u001b[0m\n\u001b[1;32m   3028\u001b[0m             \u001b[0;32mif\u001b[0m \u001b[0mis_iterator\u001b[0m\u001b[0;34m(\u001b[0m\u001b[0mkey\u001b[0m\u001b[0;34m)\u001b[0m\u001b[0;34m:\u001b[0m\u001b[0;34m\u001b[0m\u001b[0;34m\u001b[0m\u001b[0m\n\u001b[1;32m   3029\u001b[0m                 \u001b[0mkey\u001b[0m \u001b[0;34m=\u001b[0m \u001b[0mlist\u001b[0m\u001b[0;34m(\u001b[0m\u001b[0mkey\u001b[0m\u001b[0;34m)\u001b[0m\u001b[0;34m\u001b[0m\u001b[0;34m\u001b[0m\u001b[0m\n\u001b[0;32m-> 3030\u001b[0;31m             \u001b[0mindexer\u001b[0m \u001b[0;34m=\u001b[0m \u001b[0mself\u001b[0m\u001b[0;34m.\u001b[0m\u001b[0mloc\u001b[0m\u001b[0;34m.\u001b[0m\u001b[0m_get_listlike_indexer\u001b[0m\u001b[0;34m(\u001b[0m\u001b[0mkey\u001b[0m\u001b[0;34m,\u001b[0m \u001b[0maxis\u001b[0m\u001b[0;34m=\u001b[0m\u001b[0;36m1\u001b[0m\u001b[0;34m,\u001b[0m \u001b[0mraise_missing\u001b[0m\u001b[0;34m=\u001b[0m\u001b[0;32mTrue\u001b[0m\u001b[0;34m)\u001b[0m\u001b[0;34m[\u001b[0m\u001b[0;36m1\u001b[0m\u001b[0;34m]\u001b[0m\u001b[0;34m\u001b[0m\u001b[0;34m\u001b[0m\u001b[0m\n\u001b[0m\u001b[1;32m   3031\u001b[0m \u001b[0;34m\u001b[0m\u001b[0m\n\u001b[1;32m   3032\u001b[0m         \u001b[0;31m# take() does not accept boolean indexers\u001b[0m\u001b[0;34m\u001b[0m\u001b[0;34m\u001b[0m\u001b[0;34m\u001b[0m\u001b[0m\n",
      "\u001b[0;32m/opt/anaconda3/lib/python3.8/site-packages/pandas/core/indexing.py\u001b[0m in \u001b[0;36m_get_listlike_indexer\u001b[0;34m(self, key, axis, raise_missing)\u001b[0m\n\u001b[1;32m   1264\u001b[0m             \u001b[0mkeyarr\u001b[0m\u001b[0;34m,\u001b[0m \u001b[0mindexer\u001b[0m\u001b[0;34m,\u001b[0m \u001b[0mnew_indexer\u001b[0m \u001b[0;34m=\u001b[0m \u001b[0max\u001b[0m\u001b[0;34m.\u001b[0m\u001b[0m_reindex_non_unique\u001b[0m\u001b[0;34m(\u001b[0m\u001b[0mkeyarr\u001b[0m\u001b[0;34m)\u001b[0m\u001b[0;34m\u001b[0m\u001b[0;34m\u001b[0m\u001b[0m\n\u001b[1;32m   1265\u001b[0m \u001b[0;34m\u001b[0m\u001b[0m\n\u001b[0;32m-> 1266\u001b[0;31m         \u001b[0mself\u001b[0m\u001b[0;34m.\u001b[0m\u001b[0m_validate_read_indexer\u001b[0m\u001b[0;34m(\u001b[0m\u001b[0mkeyarr\u001b[0m\u001b[0;34m,\u001b[0m \u001b[0mindexer\u001b[0m\u001b[0;34m,\u001b[0m \u001b[0maxis\u001b[0m\u001b[0;34m,\u001b[0m \u001b[0mraise_missing\u001b[0m\u001b[0;34m=\u001b[0m\u001b[0mraise_missing\u001b[0m\u001b[0;34m)\u001b[0m\u001b[0;34m\u001b[0m\u001b[0;34m\u001b[0m\u001b[0m\n\u001b[0m\u001b[1;32m   1267\u001b[0m         \u001b[0;32mreturn\u001b[0m \u001b[0mkeyarr\u001b[0m\u001b[0;34m,\u001b[0m \u001b[0mindexer\u001b[0m\u001b[0;34m\u001b[0m\u001b[0;34m\u001b[0m\u001b[0m\n\u001b[1;32m   1268\u001b[0m \u001b[0;34m\u001b[0m\u001b[0m\n",
      "\u001b[0;32m/opt/anaconda3/lib/python3.8/site-packages/pandas/core/indexing.py\u001b[0m in \u001b[0;36m_validate_read_indexer\u001b[0;34m(self, key, indexer, axis, raise_missing)\u001b[0m\n\u001b[1;32m   1314\u001b[0m             \u001b[0;32mif\u001b[0m \u001b[0mraise_missing\u001b[0m\u001b[0;34m:\u001b[0m\u001b[0;34m\u001b[0m\u001b[0;34m\u001b[0m\u001b[0m\n\u001b[1;32m   1315\u001b[0m                 \u001b[0mnot_found\u001b[0m \u001b[0;34m=\u001b[0m \u001b[0mlist\u001b[0m\u001b[0;34m(\u001b[0m\u001b[0mset\u001b[0m\u001b[0;34m(\u001b[0m\u001b[0mkey\u001b[0m\u001b[0;34m)\u001b[0m \u001b[0;34m-\u001b[0m \u001b[0mset\u001b[0m\u001b[0;34m(\u001b[0m\u001b[0max\u001b[0m\u001b[0;34m)\u001b[0m\u001b[0;34m)\u001b[0m\u001b[0;34m\u001b[0m\u001b[0;34m\u001b[0m\u001b[0m\n\u001b[0;32m-> 1316\u001b[0;31m                 \u001b[0;32mraise\u001b[0m \u001b[0mKeyError\u001b[0m\u001b[0;34m(\u001b[0m\u001b[0;34mf\"{not_found} not in index\"\u001b[0m\u001b[0;34m)\u001b[0m\u001b[0;34m\u001b[0m\u001b[0;34m\u001b[0m\u001b[0m\n\u001b[0m\u001b[1;32m   1317\u001b[0m \u001b[0;34m\u001b[0m\u001b[0m\n\u001b[1;32m   1318\u001b[0m             \u001b[0mnot_found\u001b[0m \u001b[0;34m=\u001b[0m \u001b[0mkey\u001b[0m\u001b[0;34m[\u001b[0m\u001b[0mmissing_mask\u001b[0m\u001b[0;34m]\u001b[0m\u001b[0;34m\u001b[0m\u001b[0;34m\u001b[0m\u001b[0m\n",
      "\u001b[0;31mKeyError\u001b[0m: \"['mean_annual_tempC', 'CH4_methane', 'CO2_carbon_dioxide', 'N2O_nitrous_oxide'] not in index\""
     ]
    }
   ],
   "source": [
    "# Observemos el nivel de temperatura y los niveles de gases de efecto invernadero que emiten los países de estudio en promedio anualmente.\n",
    "np.mean(df[['mean_annual_tempC','CO2_carbon_dioxide', 'CH4_methane', 'N2O_nitrous_oxide', 'fgas']])"
   ]
  },
  {
   "cell_type": "code",
   "execution_count": 19,
   "metadata": {
    "colab": {
     "base_uri": "https://localhost:8080/"
    },
    "id": "SpPn_NN5zi_Y",
    "outputId": "13b65001-5665-4c45-a2a9-3135d784a22c"
   },
   "outputs": [
    {
     "name": "stdout",
     "output_type": "stream",
     "text": [
      "filas del dataset original: 25,828 \n",
      "filas del dataset después de limpieza: 928\n",
      "Porcentaje de datos netos: 3.59%\n"
     ]
    }
   ],
   "source": [
    "#porcentaje de datos no eliminados\n",
    "\n",
    "porcentaje = df.shape[0] / df_original.shape[0] * 100\n",
    "print(f'filas del dataset original: {df_original.shape[0]:,} \\nfilas del dataset después de limpieza: {df.shape[0]}')\n",
    "print(f'Porcentaje de datos netos: {porcentaje:.2f}%')"
   ]
  },
  {
   "cell_type": "markdown",
   "metadata": {
    "id": "ny6x1hCN1jP9"
   },
   "source": [
    "Es importante mencionar que a pesar de tener un porcentaje muy bajo de los datos originales. No significa que nuestro análisis carezca de significancia, ya que hemos mencionado que el sataset orginal contenia muchos registros que no se referían a algún país."
   ]
  },
  {
   "cell_type": "code",
   "execution_count": 20,
   "metadata": {
    "colab": {
     "base_uri": "https://localhost:8080/"
    },
    "id": "sm3hOOoV0dn4",
    "outputId": "e5a212da-c3fa-4a53-a160-f19136a26ce9"
   },
   "outputs": [
    {
     "ename": "SyntaxError",
     "evalue": "invalid syntax (<ipython-input-20-e99bb4a879f3>, line 2)",
     "output_type": "error",
     "traceback": [
      "\u001b[0;36m  File \u001b[0;32m\"<ipython-input-20-e99bb4a879f3>\"\u001b[0;36m, line \u001b[0;32m2\u001b[0m\n\u001b[0;31m    print(f\"Número de países:{ df[\"country\"].unique().size} \\n\")\u001b[0m\n\u001b[0m                                   ^\u001b[0m\n\u001b[0;31mSyntaxError\u001b[0m\u001b[0;31m:\u001b[0m invalid syntax\n"
     ]
    }
   ],
   "source": [
    "# Cantidad de datos por país\n",
    "print(f\"Número de países:{ df[\"country\"].unique().size} \\n\")\n",
    "df[\"country\"].value_counts()"
   ]
  },
  {
   "cell_type": "markdown",
   "metadata": {
    "id": "VIRfYg142T9E"
   },
   "source": [
    "Observemos que el número de datos por país es homogéneo, y al tener 32 países con 29 datos cada uno, hace sentido contar con un total de 928 observaciones en total, lo cual coincide con el tamaño de nuestro dataset."
   ]
  },
  {
   "cell_type": "code",
   "execution_count": 21,
   "metadata": {
    "colab": {
     "base_uri": "https://localhost:8080/"
    },
    "id": "1MOkv1cu2O5Z",
    "outputId": "320d8364-c19c-4219-bd42-59b7160ba4f7"
   },
   "outputs": [
    {
     "name": "stdout",
     "output_type": "stream",
     "text": [
      "cantidad de años registrados: 28\n",
      "desde 1990 hasta 2018\n"
     ]
    }
   ],
   "source": [
    "# Observemos el periodo de estudio\n",
    "print(f'cantidad de años registrados: {max(df[\"year\"]) - min(df[\"year\"])}')\n",
    "print(f'desde {min(df[\"year\"])} hasta {max(df[\"year\"])}')"
   ]
  },
  {
   "cell_type": "code",
   "execution_count": null,
   "metadata": {
    "id": "xGVO8XHv30dF"
   },
   "outputs": [],
   "source": []
  }
 ],
 "metadata": {
  "colab": {
   "include_colab_link": true,
   "name": "Proyecto_BEDU.ipynb",
   "provenance": []
  },
  "interpreter": {
   "hash": "31f2aee4e71d21fbe5cf8b01ff0e069b9275f58929596ceb00d14d90e3e16cd6"
  },
  "kernelspec": {
   "display_name": "Python 3",
   "language": "python",
   "name": "python3"
  },
  "language_info": {
   "codemirror_mode": {
    "name": "ipython",
    "version": 3
   },
   "file_extension": ".py",
   "mimetype": "text/x-python",
   "name": "python",
   "nbconvert_exporter": "python",
   "pygments_lexer": "ipython3",
   "version": "3.8.8"
  }
 },
 "nbformat": 4,
 "nbformat_minor": 2
}
