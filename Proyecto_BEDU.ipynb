{
  "nbformat": 4,
  "nbformat_minor": 0,
  "metadata": {
    "colab": {
      "name": "Proyecto_BEDU.ipynb",
      "provenance": [],
      "include_colab_link": true
    },
    "interpreter": {
      "hash": "31f2aee4e71d21fbe5cf8b01ff0e069b9275f58929596ceb00d14d90e3e16cd6"
    },
    "kernelspec": {
      "display_name": "Python 3",
      "language": "python",
      "name": "python3"
    },
    "language_info": {
      "codemirror_mode": {
        "name": "ipython",
        "version": 3
      },
      "file_extension": ".py",
      "mimetype": "text/x-python",
      "name": "python",
      "nbconvert_exporter": "python",
      "pygments_lexer": "ipython3",
      "version": "3.8.8"
    }
  },
  "cells": [
    {
      "cell_type": "markdown",
      "metadata": {
        "id": "view-in-github",
        "colab_type": "text"
      },
      "source": [
        "<a href=\"https://colab.research.google.com/github/POF77/Proyecto.BEDU.ModuloII/blob/new_update/Proyecto_BEDU.ipynb\" target=\"_parent\"><img src=\"https://colab.research.google.com/assets/colab-badge.svg\" alt=\"Open In Colab\"/></a>"
      ]
    },
    {
      "cell_type": "markdown",
      "metadata": {
        "id": "p6dP3QR4kEKa"
      },
      "source": [
        "# Módulo 3: **Procesamiento de Datos con Python**\n",
        "## Proyecto Final\n",
        "### Equipo:\n",
        "- Edgar Israel Casanova Cardoz\n",
        "- Omar Garduza\n",
        "- Lizzeth Gómez Rodríguez\n",
        "- Paul O'Hea Flores\n",
        "- Alan Sandoval"
      ]
    },
    {
      "cell_type": "markdown",
      "metadata": {
        "id": "Sd905bRglQiq"
      },
      "source": [
        "# **IMPACTO DEL CAMBIO CLIMÁTICO EN LA SALUD PÚBLICA**\n",
        "\n",
        "## 1. Identificación del Problema\n",
        "- Impacto del cambio climático sobre las enfermedades respiratorias en países de la OCDE\n",
        "\n",
        "## 2. Investigación y justificación del problema\n",
        "<p align = justify>\n",
        "El Cambio Climático es un problema de años pero que hoy en día se encuentra agudizado y que a su vez ha alterado drásticamente la biodiversidad del planeta, lo cual favorece la transmisión de patógenos causantes de enfermedades, particularmente aquellas relacionadas con las olas de calor, la falta de agua potable, la reproducción de plagas y las inundaciones.\n",
        "\n",
        "<p align = justify>\n",
        "En este sentido, la población más afectada es aquella que carece de infraestructura salubre adecuada, en combinación con otros factores como las condiciones vulnerables de vivienda y una mala alimentación. Dicha población se puede encontrar con mayor abundancia en países en vías de desarrollo. En ese sentido y dada la disponibilidad de los datos, el presente estudio se realiza tomando en cuenta los países de la OCDE.\n",
        "\n",
        "<p align = justify>\n",
        "Asimiso, organizaciones internacionales como Greenpeace, el Intergovernmental Panel on Climate Change (IPCC) y la Organización Mundial de la Salud (OMS) han presentado estudios respecto a la gravedad que puede presentar el cambio climático sobre la salud pública, por lo que es importante tomar acción respecto al tema y entender mejor las causas para poder mitigar los efectos sobre la salud. Por su parte, se sabe que, entre los principales gases de efecto invernadero se encuentran el dióxido de carbono (CO2), el metano (CH4), el óxido nitroso(N2O) y el ozono (O3).\n"
      ]
    },
    {
      "cell_type": "markdown",
      "metadata": {
        "id": "hPW4rc_ooDaC"
      },
      "source": [
        "## 3. Preguntas de Investigación\n",
        "- ¿Cuál es el impacto del cambio climático sobre la salud?\n",
        "- ¿Qué relación existe entre el cambio climático, la contaminación del aire, el incremento de la temperatura y la intensificación de enfermedades respiratorias, de salud mental, gastrointestinales y cardiacas?\n",
        "- ¿Qué relación existe entre el cambio climático y la aparición de nuevas enfermedades o virus?\n",
        "- ¿Qué tipo de actividades afectan de manera negativa el cambio climático?\n",
        "- ¿Qué enfermedad presenta la mayor correlación con el cambio climático?\n",
        "- ¿Qué países se encuentran mayormente afectados por el cambio climático, los desarrollados o aquellos en vías de desarrollo?\n",
        "- ¿Qué países contribuyen más al cambio climático, los de mayor o menor afectación?\n",
        "\n",
        "### Información Disponible\n",
        "Los datos para el presente análisis se han obtenido de dos fuentes de información disponibles, por un lado, los datos del [Climate Watch](https://www.climatewatchdata.org/data-explorer/historical-emissions?historical-emissions-data-sources=cait&historical-emissions-gases=all-ghg&historical-emissions-regions=All%20Selected&historical-emissions-sectors=total-including-lucf&page=1) que nos permiten cuantificar los niveles de los gases que afectan al cambio climático, cuyos datos disponibles van de 1996 a 2019. Las variables que se toman en consideración son los gases de efecto invernadero ya mencionados anteriormente:  CO2, CH4, N2O y O3. Por otro lado, para cuantificar el efectos de estos gases sobre la salud se utilizan los datos de la [Universidad de Oxford](\"https://ourworldindata.org/grapher/respiratory-disease-death-rate?tab=chart\"), que es un compilado de las muertes por enfermedades respiratorias crónicas, cuyos años disponibles van desde 1990 a 2017. Estos datos se encuentran en el [Global Health Exchange](http://ghdx.healthdata.org/gbd-results-tool).En este estudio se utilizan los países de la OCDE como se mencionó anteriormente. Respecto a la cuantificación de la temperatura se utiliza los datos del [Banco Mundial](https://github.com/POF77/Proyecto.BEDU.ModuloII) de su portal de *Climate Change*"
      ]
    },
    {
      "cell_type": "code",
      "metadata": {
        "id": "H12hTg2Rg8Vj"
      },
      "source": [
        "# Importación de los paquetes necesarios para el análisis\n",
        "import pandas as pd\n",
        "import numpy as np"
      ],
      "execution_count": 30,
      "outputs": []
    },
    {
      "cell_type": "markdown",
      "metadata": {
        "id": "QG8I0zEwnREU"
      },
      "source": [
        "### Cargado y exploración de los datos"
      ]
    },
    {
      "cell_type": "code",
      "metadata": {
        "colab": {
          "base_uri": "https://localhost:8080/",
          "height": 241
        },
        "id": "Ioomb8F18Du1",
        "kernelspec": {
          "display_name": "Python 3",
          "language": "python",
          "name": "python3"
        },
        "language_info": {
          "codemirror_mode": {
            "name": "ipython",
            "version": 3
          },
          "file_extension": ".py",
          "mimetype": "text/x-python",
          "name": "python",
          "nbconvert_exporter": "python",
          "pygments_lexer": "ipython3",
          "version": "3.8.8"
        },
        "outputId": "8c3249af-f609-47a3-e26a-d9aec6ea65b2"
      },
      "source": [
        "# Leemos el archivo csv que contiene los niveles de gases de efecto invernader, la temperatura y los fallecimientos por países.\n",
        "# Guardamos el archivo\n",
        "df = pd.read_csv(\"https://raw.githubusercontent.com/POF77/Proyecto.BEDU.ModuloII/main/Datos_nuevos/bruteData.csv\")\n",
        "df_original = df.copy()\n",
        "df.head()"
      ],
      "execution_count": 52,
      "outputs": [
        {
          "output_type": "execute_result",
          "data": {
            "text/html": [
              "<div>\n",
              "<style scoped>\n",
              "    .dataframe tbody tr th:only-of-type {\n",
              "        vertical-align: middle;\n",
              "    }\n",
              "\n",
              "    .dataframe tbody tr th {\n",
              "        vertical-align: top;\n",
              "    }\n",
              "\n",
              "    .dataframe thead th {\n",
              "        text-align: right;\n",
              "    }\n",
              "</style>\n",
              "<table border=\"1\" class=\"dataframe\">\n",
              "  <thead>\n",
              "    <tr style=\"text-align: right;\">\n",
              "      <th></th>\n",
              "      <th>country</th>\n",
              "      <th>year</th>\n",
              "      <th>iso3</th>\n",
              "      <th>health_measure</th>\n",
              "      <th>sex</th>\n",
              "      <th>respiratory_infections_and_tuberculosis_number</th>\n",
              "      <th>respiratory_infections_and_tuberculosis_percent</th>\n",
              "      <th>respiratory_infections_and_tuberculosis_rate</th>\n",
              "      <th>chronic_respiratory_diseases_number</th>\n",
              "      <th>chronic_respiratory_diseases_percent</th>\n",
              "      <th>chronic_respiratory_diseases_rate</th>\n",
              "      <th>ClimateSource</th>\n",
              "      <th>climate_units</th>\n",
              "      <th>sector</th>\n",
              "      <th>allghg</th>\n",
              "      <th>co2</th>\n",
              "      <th>ch4</th>\n",
              "      <th>n2o</th>\n",
              "      <th>fgas</th>\n",
              "      <th>mean_annual_tempC</th>\n",
              "    </tr>\n",
              "  </thead>\n",
              "  <tbody>\n",
              "    <tr>\n",
              "      <th>0</th>\n",
              "      <td>Kuwait</td>\n",
              "      <td>1990</td>\n",
              "      <td>NaN</td>\n",
              "      <td>Deaths</td>\n",
              "      <td>Both</td>\n",
              "      <td>224.57396</td>\n",
              "      <td>0.04210</td>\n",
              "      <td>12.76398</td>\n",
              "      <td>81.38989</td>\n",
              "      <td>0.01526</td>\n",
              "      <td>4.62591</td>\n",
              "      <td>NaN</td>\n",
              "      <td>NaN</td>\n",
              "      <td>NaN</td>\n",
              "      <td>NaN</td>\n",
              "      <td>NaN</td>\n",
              "      <td>NaN</td>\n",
              "      <td>NaN</td>\n",
              "      <td>NaN</td>\n",
              "      <td>NaN</td>\n",
              "    </tr>\n",
              "    <tr>\n",
              "      <th>1</th>\n",
              "      <td>Honduras</td>\n",
              "      <td>1990</td>\n",
              "      <td>NaN</td>\n",
              "      <td>Deaths</td>\n",
              "      <td>Both</td>\n",
              "      <td>2102.10070</td>\n",
              "      <td>0.07614</td>\n",
              "      <td>44.64436</td>\n",
              "      <td>1273.71280</td>\n",
              "      <td>0.04612</td>\n",
              "      <td>27.05108</td>\n",
              "      <td>NaN</td>\n",
              "      <td>NaN</td>\n",
              "      <td>NaN</td>\n",
              "      <td>NaN</td>\n",
              "      <td>NaN</td>\n",
              "      <td>NaN</td>\n",
              "      <td>NaN</td>\n",
              "      <td>NaN</td>\n",
              "      <td>NaN</td>\n",
              "    </tr>\n",
              "    <tr>\n",
              "      <th>2</th>\n",
              "      <td>Guyana</td>\n",
              "      <td>1990</td>\n",
              "      <td>NaN</td>\n",
              "      <td>Deaths</td>\n",
              "      <td>Both</td>\n",
              "      <td>373.67216</td>\n",
              "      <td>0.05752</td>\n",
              "      <td>48.52477</td>\n",
              "      <td>90.24604</td>\n",
              "      <td>0.01389</td>\n",
              "      <td>11.71928</td>\n",
              "      <td>NaN</td>\n",
              "      <td>NaN</td>\n",
              "      <td>NaN</td>\n",
              "      <td>NaN</td>\n",
              "      <td>NaN</td>\n",
              "      <td>NaN</td>\n",
              "      <td>NaN</td>\n",
              "      <td>NaN</td>\n",
              "      <td>NaN</td>\n",
              "    </tr>\n",
              "    <tr>\n",
              "      <th>3</th>\n",
              "      <td>Guinea-Bissau</td>\n",
              "      <td>1990</td>\n",
              "      <td>NaN</td>\n",
              "      <td>Deaths</td>\n",
              "      <td>Both</td>\n",
              "      <td>2628.41820</td>\n",
              "      <td>0.15324</td>\n",
              "      <td>260.93392</td>\n",
              "      <td>370.04370</td>\n",
              "      <td>0.02158</td>\n",
              "      <td>36.73577</td>\n",
              "      <td>NaN</td>\n",
              "      <td>NaN</td>\n",
              "      <td>NaN</td>\n",
              "      <td>NaN</td>\n",
              "      <td>NaN</td>\n",
              "      <td>NaN</td>\n",
              "      <td>NaN</td>\n",
              "      <td>NaN</td>\n",
              "      <td>NaN</td>\n",
              "    </tr>\n",
              "    <tr>\n",
              "      <th>4</th>\n",
              "      <td>Djibouti</td>\n",
              "      <td>1990</td>\n",
              "      <td>NaN</td>\n",
              "      <td>Deaths</td>\n",
              "      <td>Both</td>\n",
              "      <td>740.08581</td>\n",
              "      <td>0.17884</td>\n",
              "      <td>152.27827</td>\n",
              "      <td>60.30051</td>\n",
              "      <td>0.01456</td>\n",
              "      <td>12.40729</td>\n",
              "      <td>NaN</td>\n",
              "      <td>NaN</td>\n",
              "      <td>NaN</td>\n",
              "      <td>NaN</td>\n",
              "      <td>NaN</td>\n",
              "      <td>NaN</td>\n",
              "      <td>NaN</td>\n",
              "      <td>NaN</td>\n",
              "      <td>NaN</td>\n",
              "    </tr>\n",
              "  </tbody>\n",
              "</table>\n",
              "</div>"
            ],
            "text/plain": [
              "         country  year iso3 health_measure  ... ch4  n2o  fgas  mean_annual_tempC\n",
              "0         Kuwait  1990  NaN         Deaths  ... NaN  NaN   NaN                NaN\n",
              "1       Honduras  1990  NaN         Deaths  ... NaN  NaN   NaN                NaN\n",
              "2         Guyana  1990  NaN         Deaths  ... NaN  NaN   NaN                NaN\n",
              "3  Guinea-Bissau  1990  NaN         Deaths  ... NaN  NaN   NaN                NaN\n",
              "4       Djibouti  1990  NaN         Deaths  ... NaN  NaN   NaN                NaN\n",
              "\n",
              "[5 rows x 20 columns]"
            ]
          },
          "metadata": {
            "tags": []
          },
          "execution_count": 52
        }
      ]
    },
    {
      "cell_type": "markdown",
      "metadata": {
        "id": "hOYapcuc8Du6"
      },
      "source": [
        "## 4. Exploración de datos\n",
        "El conjunto de datos nos sirve para ver la relación entre el cambio climático y las muertes provocadas a causa de una enfermedad respiratoria.\n",
        "\n",
        "A continuación observemos la estructura de los datos"
      ]
    },
    {
      "cell_type": "code",
      "metadata": {
        "colab": {
          "base_uri": "https://localhost:8080/"
        },
        "id": "5QRGsHnW8Du7",
        "outputId": "9baeb233-3191-4d83-91ac-7d6e0e0786ec"
      },
      "source": [
        "df.shape"
      ],
      "execution_count": 53,
      "outputs": [
        {
          "output_type": "execute_result",
          "data": {
            "text/plain": [
              "(25828, 20)"
            ]
          },
          "metadata": {
            "tags": []
          },
          "execution_count": 53
        }
      ]
    },
    {
      "cell_type": "markdown",
      "metadata": {
        "id": "NxMkPJom8Du9"
      },
      "source": [
        "Podemos observar que el tamaño del dataset es de 25,828 filas y 20 columnas, lo cuál tomando en cuenta que son 36 países miembros de la OCDE, y que por cada país tenemos un histórico de datos aproximado de 30 años desde 1990 hasta 2019, podemos ver que tenemos conjunto completo de datos.\n",
        "\n",
        "Las columnas con las que cuenta el dataset son:\n",
        "1. País\n",
        "2. Año\n",
        "3. Iso3 (Abreviatura del país)\n",
        "4. Métrica de salud\n",
        "5. Sexo de la métrica\n",
        "6. Número de muertes por infecctiones respiratorias y tuberculosis\n",
        "7. Porcentaje de muertes por infecctiones respiratorias y tuberculosis\n",
        "8. Tasa de muertes por infecctiones respiratorias y tuberculosis\n",
        "9. Número de muertes por enfermedades respiratorias crónicas\n",
        "10. Porcentaje de muertes por enfermedades respiratorias crónicas\n",
        "11. Tasa de muertes por enfermedades respiratorias crónicas\n",
        "12. Fuente de los datos climáticos\n",
        "13. Unidades de métrica de datos climáticos\n",
        "14. Sector de medida de datos climáticos\n",
        "15. Total de gases de efecto invernadero\n",
        "16. Emisiones de dióxido de carbono(CO2)\n",
        "17. Emisiones de metano(CH4)\n",
        "18. Emisiones de Nitrógeno(N2O)\n",
        "19. Emisiones de gases Fluoruro(Fgas)\n",
        "20. Temperatura promedio en grados Celsius\n",
        "\n",
        "Observemos el nombre de las columnas que presenta nuestro dataset, algunas como como health_measure, climate_units,iso3, etc... no son entendibles al p´blico en general, por ser nombres técnicos que usan las personas que se dedican al estudio del cambio climático, gélogos entre otros del mismo gremio, por lo que es importante realizar algunos renombres en el conjunto de datos. "
      ]
    },
    {
      "cell_type": "code",
      "metadata": {
        "colab": {
          "base_uri": "https://localhost:8080/"
        },
        "id": "lrTS1MZB8Du_",
        "outputId": "14e94b98-6068-49d9-8c18-2398a6685b0f"
      },
      "source": [
        "df.dtypes"
      ],
      "execution_count": 54,
      "outputs": [
        {
          "output_type": "execute_result",
          "data": {
            "text/plain": [
              "country                                             object\n",
              "year                                                 int64\n",
              "iso3                                                object\n",
              "health_measure                                      object\n",
              "sex                                                 object\n",
              "respiratory_infections_and_tuberculosis_number     float64\n",
              "respiratory_infections_and_tuberculosis_percent    float64\n",
              "respiratory_infections_and_tuberculosis_rate       float64\n",
              "chronic_respiratory_diseases_number                float64\n",
              "chronic_respiratory_diseases_percent               float64\n",
              "chronic_respiratory_diseases_rate                  float64\n",
              "ClimateSource                                       object\n",
              "climate_units                                       object\n",
              "sector                                              object\n",
              "allghg                                             float64\n",
              "co2                                                float64\n",
              "ch4                                                float64\n",
              "n2o                                                float64\n",
              "fgas                                               float64\n",
              "mean_annual_tempC                                  float64\n",
              "dtype: object"
            ]
          },
          "metadata": {
            "tags": []
          },
          "execution_count": 54
        }
      ]
    },
    {
      "cell_type": "markdown",
      "metadata": {
        "id": "3yONnPRA8DvD"
      },
      "source": [
        "Observando el tipo de datos de las columnas de nuestro conjunto de datos, nos damos cuenta que la mayoría de las columnas son datos de tipo flotante y objetos(por lo general este tipo de datos son asignados a los string), y únicamente la columna de año('year') son de datos enteros, también podemos usar la función df.info() para obtener información de las columnas."
      ]
    },
    {
      "cell_type": "code",
      "metadata": {
        "colab": {
          "base_uri": "https://localhost:8080/"
        },
        "id": "SfQLPHg38DvE",
        "outputId": "d7874c90-9c83-4e6f-9e33-16bf15ca8ad2"
      },
      "source": [
        "df.info()"
      ],
      "execution_count": 55,
      "outputs": [
        {
          "output_type": "stream",
          "text": [
            "<class 'pandas.core.frame.DataFrame'>\n",
            "RangeIndex: 25828 entries, 0 to 25827\n",
            "Data columns (total 20 columns):\n",
            " #   Column                                           Non-Null Count  Dtype  \n",
            "---  ------                                           --------------  -----  \n",
            " 0   country                                          25828 non-null  object \n",
            " 1   year                                             25828 non-null  int64  \n",
            " 2   iso3                                             986 non-null    object \n",
            " 3   health_measure                                   25770 non-null  object \n",
            " 4   sex                                              25770 non-null  object \n",
            " 5   respiratory_infections_and_tuberculosis_number   25770 non-null  float64\n",
            " 6   respiratory_infections_and_tuberculosis_percent  25770 non-null  float64\n",
            " 7   respiratory_infections_and_tuberculosis_rate     25770 non-null  float64\n",
            " 8   chronic_respiratory_diseases_number              25770 non-null  float64\n",
            " 9   chronic_respiratory_diseases_percent             25770 non-null  float64\n",
            " 10  chronic_respiratory_diseases_rate                25770 non-null  float64\n",
            " 11  ClimateSource                                    986 non-null    object \n",
            " 12  climate_units                                    986 non-null    object \n",
            " 13  sector                                           986 non-null    object \n",
            " 14  allghg                                           986 non-null    float64\n",
            " 15  co2                                              986 non-null    float64\n",
            " 16  ch4                                              986 non-null    float64\n",
            " 17  n2o                                              986 non-null    float64\n",
            " 18  fgas                                             986 non-null    float64\n",
            " 19  mean_annual_tempC                                986 non-null    float64\n",
            "dtypes: float64(12), int64(1), object(7)\n",
            "memory usage: 3.9+ MB\n"
          ],
          "name": "stdout"
        }
      ]
    },
    {
      "cell_type": "markdown",
      "metadata": {
        "id": "Ovr3WLuG8DvG"
      },
      "source": [
        "Con el método anterior nos damos cuenta de que existen varios NA's en nuestro dataset, lo cual complica la manipulación de los datos al haber países cuyas columnas no se tienen registro de muertes o emisiones, incluso de su temperatura. Sin embargo, no es de preocuparse siempre que se realice la limpieza correspondiente ya que estas omisiones se deben a que en la columna de países se encuentran registros que en relidad son estados y no países como \"Durango\", \"Iowa\", etc.\n"
      ]
    },
    {
      "cell_type": "code",
      "metadata": {
        "colab": {
          "base_uri": "https://localhost:8080/"
        },
        "id": "Q02iX2AA8DvL",
        "outputId": "b8bfb8a2-23a8-4d84-f2d9-9a1266950210"
      },
      "source": [
        "df['country'].unique()"
      ],
      "execution_count": 56,
      "outputs": [
        {
          "output_type": "execute_result",
          "data": {
            "text/plain": [
              "array(['Kuwait', 'Honduras', 'Guyana', 'Guinea-Bissau', 'Djibouti',\n",
              "       'Bangladesh', 'Liberia', 'Lesotho', 'East Asia', 'Bhutan',\n",
              "       'Namibia', 'Mali', 'Panama', 'Oceania', 'India', 'Ethiopia',\n",
              "       'Morocco', 'Mauritania', 'Bermuda', 'Nepal', 'Leicester', 'Niger',\n",
              "       'Low-middle SDI', 'Warwickshire', 'Mexico', 'Hartlepool',\n",
              "       'South Tyneside', 'Bracknell Forest', 'Burundi',\n",
              "       'Central Bedfordshire', 'North Somerset', 'Canada', 'Tokelau',\n",
              "       'Brazil', 'Pakistan', 'Malawi', 'Lebanon', 'Jamaica', 'Israel',\n",
              "       'Taiwan (Province of China)', 'Lambeth', 'High-middle SDI',\n",
              "       'Suffolk', 'Japan', 'Zambia', 'Cheshire East', 'Southeast Asia',\n",
              "       'Nigeria', 'Guam', 'Eswatini', 'Kenya', 'Qatar',\n",
              "       'Micronesia (Federated States of)', 'Northern Ireland', 'Iceland',\n",
              "       'Greece', 'France', 'Solihull', 'China', 'Illinois', 'Eritrea',\n",
              "       'Southwark', 'Sao Tome and Principe', 'Iowa', 'Zimbabwe',\n",
              "       'Middle SDI', 'Saint Lucia', 'Venezuela (Bolivarian Republic of)',\n",
              "       'Reading', 'Australia', 'Low SDI', 'Kansas', 'Ghana', 'Essex',\n",
              "       'Central Sub-Saharan Africa', 'Cook Islands', 'Trafford',\n",
              "       'Senegal', 'Italy', 'Indonesia', 'Rwanda',\n",
              "       'Tropical Latin America', 'Cambridgeshire', 'Mauritius',\n",
              "       'Caribbean', 'Madagascar', 'Staffordshire', 'Palestine', 'Alaska',\n",
              "       'Shropshire', 'Mozambique', 'East Asia & Pacific - WB',\n",
              "       'Cheshire West and Chester', 'Tunisia', 'Monaco', 'Australasia',\n",
              "       'Maine', 'High-income', 'Angola',\n",
              "       'Southeast Asia, East Asia, and Oceania', 'Solomon Islands',\n",
              "       'Torbay', 'Maldives', \"Lao People's Democratic Republic\",\n",
              "       'Norfolk', 'Sierra Leone', 'Afghanistan', 'Suriname',\n",
              "       'North Africa and Middle East', 'Togo', 'Telford and Wrekin',\n",
              "       'Timor-Leste', 'Sub-Saharan Africa - WB', 'Paraguay', 'Uganda',\n",
              "       'Cameroon', 'World Bank Regions', 'Trinidad and Tobago', 'Andorra',\n",
              "       'Bolton', 'Newcastle upon Tyne', 'Milton Keynes', 'Luton',\n",
              "       'Cornwall', 'California', 'United Republic of Tanzania',\n",
              "       'Northumberland', 'Lancashire', 'Wokingham', 'Barbados',\n",
              "       'Thailand', 'Saudi Arabia', 'Turkey',\n",
              "       'Democratic Republic of the Congo', 'Cumbria', 'Somalia',\n",
              "       'Latin America & Caribbean - WB',\n",
              "       \"Democratic People's Republic of Korea\", 'Algeria', 'Peterborough',\n",
              "       'Equatorial Guinea', 'Botswana', 'Fiji', 'Coventry',\n",
              "       \"Côte d'Ivoire\", 'South Gloucestershire', 'County Durham',\n",
              "       'St Helens', 'Montana', 'Congo', 'Netherlands', 'Dudley', 'Yemen',\n",
              "       'Southend-on-Sea', 'Seychelles', 'Western Europe',\n",
              "       'Europe & Central Asia - WB', 'South Asia - WB', 'Myanmar',\n",
              "       'Cyprus', 'Iran (Islamic Republic of)', 'Nauru', 'American Samoa',\n",
              "       'Palau', 'Malaysia', 'Windsor and Maidenhead',\n",
              "       'Central Europe, Eastern Europe, and Central Asia', 'Burkina Faso',\n",
              "       'Stoke-on-Trent', 'Dominica', 'Michigan', 'Cambodia', 'Delaware',\n",
              "       'North Tyneside', 'Bury', 'Ecuador', 'Iraq', 'Benin', 'South Asia',\n",
              "       'Eastern Sub-Saharan Africa', 'Walsall', 'Guinea',\n",
              "       'Kensington and Chelsea', 'Richmond upon Thames', 'Philippines',\n",
              "       'Chad', 'Middle East & North Africa - WB', 'Westminster',\n",
              "       'Costa Rica', 'San Marino', 'Birmingham', 'Missouri', 'Finland',\n",
              "       'Georgia', 'Mongolia', 'Oldham', 'Greenland',\n",
              "       'United States Virgin Islands', 'United Kingdom', 'Sandwell',\n",
              "       'Brunei Darussalam', 'New Hampshire', 'Vermont', 'Singapore',\n",
              "       'Northern Mariana Islands', 'Aguascalientes', 'Morelos',\n",
              "       'Southern Latin America', 'Colombia', 'Bali', 'Nevada',\n",
              "       'Cabo Verde', 'New Zealand', 'Chile', 'New York', 'South Sudan',\n",
              "       'Tonga', 'Nicaragua', 'Sri Lanka', 'West Virginia', 'Niue',\n",
              "       'West Kalimantan', 'Bedford', 'Lampung', 'Belgium',\n",
              "       'Hertfordshire', 'Puebla', 'Central Asia', 'Saint Kitts and Nevis',\n",
              "       'Rhode Island', 'Jambi', 'Gabon', 'Ishikawa', 'Kanagawa',\n",
              "       'Veracruz de Ignacio de la Llave', 'Puerto Rico',\n",
              "       'San Luis Potosí', 'Garissa', 'Nagano', 'Chihuahua',\n",
              "       'Antigua and Barbuda', 'Kumamoto', 'East Kalimantan', 'Tabasco',\n",
              "       'Guanajuato', 'Republic of Korea', 'Jalisco', 'South Sulawesi',\n",
              "       'North Kalimantan', 'Thurrock', 'Saitama', 'West Midlands',\n",
              "       'North Maluku', 'Zacatecas', 'South East England', 'East Java',\n",
              "       'Tennessee', 'Kagoshima', 'Austria', 'Washington', 'West Sumatra',\n",
              "       'New Mexico', 'Louisiana', 'West Nusa Tenggara', 'Migori',\n",
              "       'Nuevo León', 'Wyoming', 'Turkana', 'Mie', 'Kilifi', 'Denmark',\n",
              "       'Mato Grosso do Sul', 'Campeche', 'South Sumatra', 'Nottingham',\n",
              "       'Nairobi', 'Poland', 'Wajir', 'North Dakota', 'Kisumu',\n",
              "       'Massachusetts', 'Yorkshire and the Humber', 'Slovenia',\n",
              "       'Kazakhstan', 'Germany', 'Romania',\n",
              "       'Saint Vincent and the Grenadines', 'Narok', 'North East England',\n",
              "       'Chiapas', 'Laikipia', 'Herefordshire, County of', 'Ohio',\n",
              "       'Querétaro', 'High-income North America', 'Tajikistan', 'Nyeri',\n",
              "       'Andean Latin America', 'East Midlands', 'Mississippi', 'Barnet',\n",
              "       'Durango', 'Worcestershire', 'Oregon', 'Central Sulawesi',\n",
              "       'Amazonas', 'East of England', 'Chiba',\n",
              "       'Latin America and Caribbean', 'Pennsylvania', 'Peru', 'Egypt',\n",
              "       'Greater London', 'Nebraska', 'Hidalgo', 'Latvia', 'Gorontalo',\n",
              "       'South Carolina', 'Mato Grosso', 'Baja California', 'Uruguay',\n",
              "       'Belize', 'Croatia', 'Slovakia', 'Nayarit', 'Russian Federation',\n",
              "       'South Dakota', 'Wolverhampton', 'Rio de Janeiro',\n",
              "       'North Macedonia', 'South Africa', 'Armenia',\n",
              "       'High-income Asia Pacific', 'Coahuila', 'North Sumatra', 'Jordan',\n",
              "       'Paraná', 'Belarus', 'Ireland', 'United States of America', 'Utah',\n",
              "       'Bahamas', 'Western Sub-Saharan Africa', 'West Java', 'Ceará',\n",
              "       'Tlaxcala', 'Scotland', 'European Union', 'Gunma', 'Paraíba',\n",
              "       'Lithuania', 'Central Kalimantan', 'Sinaloa', 'Central Europe',\n",
              "       'East Nusa Tenggara', 'Miyazaki', 'Wales', 'WHO region', 'Alagoas',\n",
              "       'Piaui', 'Stockholm', 'Bangka-Belitung Islands', 'Guerrero',\n",
              "       'Luxembourg', 'Goiás', 'North Sulawesi', 'Tamaulipas', 'Roraima',\n",
              "       'Yamanashi', 'Tōkyō', 'Azerbaijan', 'Kyōto', 'South Kalimantan',\n",
              "       'Bulgaria', 'Gambia', 'Nagasaki', 'Shimane', 'Bahia', 'Jakarta',\n",
              "       'Rondônia', 'Norway', 'Southeast Sulawesi', 'Montenegro',\n",
              "       'Sergipe', 'Shizuoka', 'Rio Grande do Sul', 'Hungary', 'Toyama',\n",
              "       'Yamaguchi', 'Nara', 'Yucatán', 'Cuba', 'Kyrgyzstan', 'Yogyakarta',\n",
              "       'Espírito Santo', 'Shiga', 'Maluku', 'Marshall Islands', 'Serbia',\n",
              "       'West Sulawesi', 'Ehime', 'Elgeyo-Marakwet', 'Turkmenistan',\n",
              "       'Samoa', 'Hyōgo', 'Eastern Europe', 'Grenada', 'Lamu', 'Samburu',\n",
              "       'West Papua', 'Saga', 'Albania', 'HomaBay', 'Baja California Sur',\n",
              "       'São Paulo', 'Tottori', 'Kajiado', 'Libya', 'Haiti', 'Mandera',\n",
              "       'Niigata', 'TanaRiver', 'Nordic Region', 'Kiambu', 'Aichi',\n",
              "       'Tokushima', 'Hiroshima', 'Kakamega', 'Colima', 'Marsabit',\n",
              "       'Fukui', 'Stockton-on-Tees', 'Redbridge', 'Kisii', 'Ukraine',\n",
              "       'Oman', 'Kagawa', 'Kōchi', 'Redcar and Cleveland', 'Makueni',\n",
              "       'TaitaTaveta', 'Kwale', 'Gifu', 'Nakuru', 'Hillingdon', 'Mombasa',\n",
              "       'Middlesbrough', 'Mexico City', 'TharakaNithi', 'Meru',\n",
              "       'Syrian Arab Republic', 'Bolivia (Plurinational State of)',\n",
              "       'TransNzoia', 'Kitui', 'Sutton', 'WestPokot', 'Nyamira',\n",
              "       'UasinGishu', 'Central Latin America', 'United Arab Emirates',\n",
              "       'Indiana', \"Murang'a\", 'Vihiga', 'El Salvador', 'Nandi',\n",
              "       'Michoacán de Ocampo', 'Nyandarua', 'Wandsworth', 'Kentucky',\n",
              "       'Tuvalu', 'Siaya', 'Maryland', 'Minnesota', 'Riau', 'Bengkulu',\n",
              "       'New Jersey', 'Hokkaidō', 'Virginia', 'Ōsaka', 'Malta',\n",
              "       'Riau Islands', 'North Carolina', 'Wisconsin', 'Miyagi',\n",
              "       'Wakayama', 'Portugal', 'Oklahoma', 'Central Java',\n",
              "       'North West England', 'Okayama', 'Merton', 'Havering',\n",
              "       'Switzerland', 'Banten', 'Texas', 'Harrow', 'South West England',\n",
              "       'Oaxaca', 'Fukuoka', 'Hammersmith and Fulham', 'Quintana Roo',\n",
              "       'Sonora', 'Viet Nam', 'Bromley', 'Uzbekistan',\n",
              "       'Bosnia and Herzegovina', 'Kiribati', 'Leeds', 'Czechia', 'Aceh',\n",
              "       'Rotherham', 'Papua New Guinea', 'Kingston upon Thames', 'Vanuatu',\n",
              "       'Enfield', 'Bexley', 'Rutland', 'Comoros', 'Dominican Republic',\n",
              "       'Ealing', 'Kirklees', 'Nottinghamshire', 'Brent', 'Estonia',\n",
              "       'Southern Sub-Saharan Africa', 'Bath and North East Somerset',\n",
              "       'Republic of Moldova', 'Alabama', 'Colorado', 'Swindon',\n",
              "       'District of Columbia', 'Barnsley', 'Croydon', 'Bournemouth',\n",
              "       'Arkansas', 'Hawaii', 'Greenwich', 'Lincolnshire', 'Derbyshire',\n",
              "       'Wakefield', 'Connecticut', 'Kingston upon Hull, City of',\n",
              "       'Leicestershire', 'Derby', 'Spain', 'Papua', 'Acre', 'Amapá',\n",
              "       'Guatemala', 'Minas Gerais', 'Dorset', 'Devon', 'Gloucestershire',\n",
              "       'Waltham Forest', 'Plymouth', 'Oxfordshire', 'Hounslow',\n",
              "       'Brighton and Hove', 'Slough', 'Barking and Dagenham',\n",
              "       'Portsmouth', 'Islington', 'Buckinghamshire', 'Wigan', 'Arizona',\n",
              "       'Tameside', 'Hampshire', 'East Riding of Yorkshire', 'Florida',\n",
              "       'Idaho', 'Europe', 'England', 'Commonwealth High Income',\n",
              "       'South-East Asia Region', 'Medway', 'Calderdale', 'Isle of Wight',\n",
              "       'Distrito Federal', 'Bahrain', 'Western Pacific Region',\n",
              "       'Maranhão', 'Argentina', 'African Union', 'Machakos', 'Iwate',\n",
              "       'Embu', 'Surrey', 'Baringo', 'Bradford', 'Sub-Saharan Africa',\n",
              "       'Central African Republic', 'Wiltshire', 'Poole', 'Somerset',\n",
              "       'Bristol, City of', 'African Region', 'Isiolo', 'European Region',\n",
              "       'Kericho', 'Sudan', 'World Bank High Income', 'Kirinyaga',\n",
              "       'World Bank Low Income', 'Bomet', 'Warrington', 'Gateshead',\n",
              "       'Sweden', 'High SDI', 'Pará', 'Sunderland', 'North America',\n",
              "       'Pernambuco', 'Stockport', 'Darlington', 'Sefton',\n",
              "       'Rio Grande do Norte', 'Santa Catarina', 'Wirral', 'Tocantins',\n",
              "       'Lewisham', 'Newham', 'Hackney', 'North East Lincolnshire',\n",
              "       'Camden', 'Haringey', 'Halton', 'Tower Hamlets', 'Salford',\n",
              "       'Blackpool', 'North Lincolnshire', 'West Berkshire', 'West Sussex',\n",
              "       'Kent', 'East Sussex', 'Southampton', 'Four World Regions',\n",
              "       'Region of the Americas', 'World Bank Lower Middle Income', 'G20',\n",
              "       'World Bank Income Levels', 'Sweden except Stockholm', 'Liverpool',\n",
              "       'Sheffield', 'Doncaster', 'Northamptonshire', 'Rochdale',\n",
              "       'Knowsley', 'North Yorkshire', 'Busia',\n",
              "       'Eastern Mediterranean Region', 'Bungoma', 'Fukushima',\n",
              "       'Commonwealth', 'Yamagata', 'Aomori', 'Ōita', 'Okinawa',\n",
              "       'Commonwealth Middle Income', 'America', 'Asia', 'Ibaraki',\n",
              "       'Blackburn with Darwen', 'Manchester', 'York', 'Africa', 'Tochigi',\n",
              "       'World Bank Upper Middle Income', 'OECD Countries', 'Akita',\n",
              "       'Commonwealth Low Income', 'United States', 'Czech Republic'],\n",
              "      dtype=object)"
            ]
          },
          "metadata": {
            "tags": []
          },
          "execution_count": 56
        }
      ]
    },
    {
      "cell_type": "code",
      "metadata": {
        "colab": {
          "base_uri": "https://localhost:8080/"
        },
        "id": "iB964KfE8DvO",
        "outputId": "8febf41c-0d18-4876-cc18-64b08cc3cd4c"
      },
      "source": [
        "len(df['country'].unique())"
      ],
      "execution_count": 57,
      "outputs": [
        {
          "output_type": "execute_result",
          "data": {
            "text/plain": [
              "672"
            ]
          },
          "metadata": {
            "tags": []
          },
          "execution_count": 57
        }
      ]
    },
    {
      "cell_type": "markdown",
      "metadata": {
        "id": "eOyamYrT8DvQ"
      },
      "source": [
        "Podemos ver que tenemos cerca de 672 países en nuestro conjunto de datos, sin embargo, se sabe que existen internacionalmente solo 195, por lo que, como se mencionó anteriormente, observando con mayor detalle la columna, nos percatamos que esisten muchos registrso que en realidad no corresponden al nombre de un país. Por lo que estos habrán de ser removidos a fin de que no afecten nuestro análisis."
      ]
    },
    {
      "cell_type": "markdown",
      "metadata": {
        "id": "bRhppvJ98JCk"
      },
      "source": [
        "## 5. Limpieza de datos"
      ]
    },
    {
      "cell_type": "markdown",
      "metadata": {
        "id": "dc3WzdJUvsHm"
      },
      "source": [
        "Observemos el dataset y veamos los Na's existentes"
      ]
    },
    {
      "cell_type": "code",
      "metadata": {
        "colab": {
          "base_uri": "https://localhost:8080/"
        },
        "id": "LCH-7WtovrUi",
        "outputId": "f0aa0d3a-714a-4013-dcc7-244e95d6fd23"
      },
      "source": [
        "print(f'Dimensión del dataset: {df.shape[0]:,} filas y {df.shape[1]} columnas')"
      ],
      "execution_count": 58,
      "outputs": [
        {
          "output_type": "stream",
          "text": [
            "Dimensión del dataset: 25,828 filas y 20 columnas\n"
          ],
          "name": "stdout"
        }
      ]
    },
    {
      "cell_type": "code",
      "metadata": {
        "colab": {
          "base_uri": "https://localhost:8080/",
          "height": 241
        },
        "id": "NZg8jXY1saoG",
        "outputId": "8fdf67da-4054-4516-c772-78ce3492695f"
      },
      "source": [
        "# Eliminación de variables que no se usan en el análisis\n",
        "df = df.drop([\"iso3\",\"health_measure\",\"sex\",\"ClimateSource\",\"climate_units\",\"sector\"], axis = 1)\n",
        "df.head()"
      ],
      "execution_count": 59,
      "outputs": [
        {
          "output_type": "execute_result",
          "data": {
            "text/html": [
              "<div>\n",
              "<style scoped>\n",
              "    .dataframe tbody tr th:only-of-type {\n",
              "        vertical-align: middle;\n",
              "    }\n",
              "\n",
              "    .dataframe tbody tr th {\n",
              "        vertical-align: top;\n",
              "    }\n",
              "\n",
              "    .dataframe thead th {\n",
              "        text-align: right;\n",
              "    }\n",
              "</style>\n",
              "<table border=\"1\" class=\"dataframe\">\n",
              "  <thead>\n",
              "    <tr style=\"text-align: right;\">\n",
              "      <th></th>\n",
              "      <th>country</th>\n",
              "      <th>year</th>\n",
              "      <th>respiratory_infections_and_tuberculosis_number</th>\n",
              "      <th>respiratory_infections_and_tuberculosis_percent</th>\n",
              "      <th>respiratory_infections_and_tuberculosis_rate</th>\n",
              "      <th>chronic_respiratory_diseases_number</th>\n",
              "      <th>chronic_respiratory_diseases_percent</th>\n",
              "      <th>chronic_respiratory_diseases_rate</th>\n",
              "      <th>allghg</th>\n",
              "      <th>co2</th>\n",
              "      <th>ch4</th>\n",
              "      <th>n2o</th>\n",
              "      <th>fgas</th>\n",
              "      <th>mean_annual_tempC</th>\n",
              "    </tr>\n",
              "  </thead>\n",
              "  <tbody>\n",
              "    <tr>\n",
              "      <th>0</th>\n",
              "      <td>Kuwait</td>\n",
              "      <td>1990</td>\n",
              "      <td>224.57396</td>\n",
              "      <td>0.04210</td>\n",
              "      <td>12.76398</td>\n",
              "      <td>81.38989</td>\n",
              "      <td>0.01526</td>\n",
              "      <td>4.62591</td>\n",
              "      <td>NaN</td>\n",
              "      <td>NaN</td>\n",
              "      <td>NaN</td>\n",
              "      <td>NaN</td>\n",
              "      <td>NaN</td>\n",
              "      <td>NaN</td>\n",
              "    </tr>\n",
              "    <tr>\n",
              "      <th>1</th>\n",
              "      <td>Honduras</td>\n",
              "      <td>1990</td>\n",
              "      <td>2102.10070</td>\n",
              "      <td>0.07614</td>\n",
              "      <td>44.64436</td>\n",
              "      <td>1273.71280</td>\n",
              "      <td>0.04612</td>\n",
              "      <td>27.05108</td>\n",
              "      <td>NaN</td>\n",
              "      <td>NaN</td>\n",
              "      <td>NaN</td>\n",
              "      <td>NaN</td>\n",
              "      <td>NaN</td>\n",
              "      <td>NaN</td>\n",
              "    </tr>\n",
              "    <tr>\n",
              "      <th>2</th>\n",
              "      <td>Guyana</td>\n",
              "      <td>1990</td>\n",
              "      <td>373.67216</td>\n",
              "      <td>0.05752</td>\n",
              "      <td>48.52477</td>\n",
              "      <td>90.24604</td>\n",
              "      <td>0.01389</td>\n",
              "      <td>11.71928</td>\n",
              "      <td>NaN</td>\n",
              "      <td>NaN</td>\n",
              "      <td>NaN</td>\n",
              "      <td>NaN</td>\n",
              "      <td>NaN</td>\n",
              "      <td>NaN</td>\n",
              "    </tr>\n",
              "    <tr>\n",
              "      <th>3</th>\n",
              "      <td>Guinea-Bissau</td>\n",
              "      <td>1990</td>\n",
              "      <td>2628.41820</td>\n",
              "      <td>0.15324</td>\n",
              "      <td>260.93392</td>\n",
              "      <td>370.04370</td>\n",
              "      <td>0.02158</td>\n",
              "      <td>36.73577</td>\n",
              "      <td>NaN</td>\n",
              "      <td>NaN</td>\n",
              "      <td>NaN</td>\n",
              "      <td>NaN</td>\n",
              "      <td>NaN</td>\n",
              "      <td>NaN</td>\n",
              "    </tr>\n",
              "    <tr>\n",
              "      <th>4</th>\n",
              "      <td>Djibouti</td>\n",
              "      <td>1990</td>\n",
              "      <td>740.08581</td>\n",
              "      <td>0.17884</td>\n",
              "      <td>152.27827</td>\n",
              "      <td>60.30051</td>\n",
              "      <td>0.01456</td>\n",
              "      <td>12.40729</td>\n",
              "      <td>NaN</td>\n",
              "      <td>NaN</td>\n",
              "      <td>NaN</td>\n",
              "      <td>NaN</td>\n",
              "      <td>NaN</td>\n",
              "      <td>NaN</td>\n",
              "    </tr>\n",
              "  </tbody>\n",
              "</table>\n",
              "</div>"
            ],
            "text/plain": [
              "         country  year  ...  fgas  mean_annual_tempC\n",
              "0         Kuwait  1990  ...   NaN                NaN\n",
              "1       Honduras  1990  ...   NaN                NaN\n",
              "2         Guyana  1990  ...   NaN                NaN\n",
              "3  Guinea-Bissau  1990  ...   NaN                NaN\n",
              "4       Djibouti  1990  ...   NaN                NaN\n",
              "\n",
              "[5 rows x 14 columns]"
            ]
          },
          "metadata": {
            "tags": []
          },
          "execution_count": 59
        }
      ]
    },
    {
      "cell_type": "code",
      "metadata": {
        "colab": {
          "base_uri": "https://localhost:8080/",
          "height": 309
        },
        "id": "RA5G6imVtkAX",
        "outputId": "f7111317-4b76-4b0d-c296-aca0feb60582"
      },
      "source": [
        "# Eliminación de registros duplicados\n",
        "registros_originales = df.shape[0]\n",
        "df = df.drop_duplicates()\n",
        "print(f\"El número de reigstros original son de: {registros_originales:,}\")\n",
        "print(f\"El número de registros duplicados que se eliminaron fue de: {registros_originales - df.shape[0]:,}\")\n",
        "print(f\"El nuevo número de registro es de: {df.shape[0]:,} \\n\")\n",
        "df.head()"
      ],
      "execution_count": 60,
      "outputs": [
        {
          "output_type": "stream",
          "text": [
            "El número de reigstros original son de: 25,828\n",
            "El número de registros duplicados que se eliminaron fue de: 3,780\n",
            "El nuevo número de registro es de: 22,048 \n",
            "\n"
          ],
          "name": "stdout"
        },
        {
          "output_type": "execute_result",
          "data": {
            "text/html": [
              "<div>\n",
              "<style scoped>\n",
              "    .dataframe tbody tr th:only-of-type {\n",
              "        vertical-align: middle;\n",
              "    }\n",
              "\n",
              "    .dataframe tbody tr th {\n",
              "        vertical-align: top;\n",
              "    }\n",
              "\n",
              "    .dataframe thead th {\n",
              "        text-align: right;\n",
              "    }\n",
              "</style>\n",
              "<table border=\"1\" class=\"dataframe\">\n",
              "  <thead>\n",
              "    <tr style=\"text-align: right;\">\n",
              "      <th></th>\n",
              "      <th>country</th>\n",
              "      <th>year</th>\n",
              "      <th>respiratory_infections_and_tuberculosis_number</th>\n",
              "      <th>respiratory_infections_and_tuberculosis_percent</th>\n",
              "      <th>respiratory_infections_and_tuberculosis_rate</th>\n",
              "      <th>chronic_respiratory_diseases_number</th>\n",
              "      <th>chronic_respiratory_diseases_percent</th>\n",
              "      <th>chronic_respiratory_diseases_rate</th>\n",
              "      <th>allghg</th>\n",
              "      <th>co2</th>\n",
              "      <th>ch4</th>\n",
              "      <th>n2o</th>\n",
              "      <th>fgas</th>\n",
              "      <th>mean_annual_tempC</th>\n",
              "    </tr>\n",
              "  </thead>\n",
              "  <tbody>\n",
              "    <tr>\n",
              "      <th>0</th>\n",
              "      <td>Kuwait</td>\n",
              "      <td>1990</td>\n",
              "      <td>224.57396</td>\n",
              "      <td>0.04210</td>\n",
              "      <td>12.76398</td>\n",
              "      <td>81.38989</td>\n",
              "      <td>0.01526</td>\n",
              "      <td>4.62591</td>\n",
              "      <td>NaN</td>\n",
              "      <td>NaN</td>\n",
              "      <td>NaN</td>\n",
              "      <td>NaN</td>\n",
              "      <td>NaN</td>\n",
              "      <td>NaN</td>\n",
              "    </tr>\n",
              "    <tr>\n",
              "      <th>1</th>\n",
              "      <td>Honduras</td>\n",
              "      <td>1990</td>\n",
              "      <td>2102.10070</td>\n",
              "      <td>0.07614</td>\n",
              "      <td>44.64436</td>\n",
              "      <td>1273.71280</td>\n",
              "      <td>0.04612</td>\n",
              "      <td>27.05108</td>\n",
              "      <td>NaN</td>\n",
              "      <td>NaN</td>\n",
              "      <td>NaN</td>\n",
              "      <td>NaN</td>\n",
              "      <td>NaN</td>\n",
              "      <td>NaN</td>\n",
              "    </tr>\n",
              "    <tr>\n",
              "      <th>2</th>\n",
              "      <td>Guyana</td>\n",
              "      <td>1990</td>\n",
              "      <td>373.67216</td>\n",
              "      <td>0.05752</td>\n",
              "      <td>48.52477</td>\n",
              "      <td>90.24604</td>\n",
              "      <td>0.01389</td>\n",
              "      <td>11.71928</td>\n",
              "      <td>NaN</td>\n",
              "      <td>NaN</td>\n",
              "      <td>NaN</td>\n",
              "      <td>NaN</td>\n",
              "      <td>NaN</td>\n",
              "      <td>NaN</td>\n",
              "    </tr>\n",
              "    <tr>\n",
              "      <th>3</th>\n",
              "      <td>Guinea-Bissau</td>\n",
              "      <td>1990</td>\n",
              "      <td>2628.41820</td>\n",
              "      <td>0.15324</td>\n",
              "      <td>260.93392</td>\n",
              "      <td>370.04370</td>\n",
              "      <td>0.02158</td>\n",
              "      <td>36.73577</td>\n",
              "      <td>NaN</td>\n",
              "      <td>NaN</td>\n",
              "      <td>NaN</td>\n",
              "      <td>NaN</td>\n",
              "      <td>NaN</td>\n",
              "      <td>NaN</td>\n",
              "    </tr>\n",
              "    <tr>\n",
              "      <th>4</th>\n",
              "      <td>Djibouti</td>\n",
              "      <td>1990</td>\n",
              "      <td>740.08581</td>\n",
              "      <td>0.17884</td>\n",
              "      <td>152.27827</td>\n",
              "      <td>60.30051</td>\n",
              "      <td>0.01456</td>\n",
              "      <td>12.40729</td>\n",
              "      <td>NaN</td>\n",
              "      <td>NaN</td>\n",
              "      <td>NaN</td>\n",
              "      <td>NaN</td>\n",
              "      <td>NaN</td>\n",
              "      <td>NaN</td>\n",
              "    </tr>\n",
              "  </tbody>\n",
              "</table>\n",
              "</div>"
            ],
            "text/plain": [
              "         country  year  ...  fgas  mean_annual_tempC\n",
              "0         Kuwait  1990  ...   NaN                NaN\n",
              "1       Honduras  1990  ...   NaN                NaN\n",
              "2         Guyana  1990  ...   NaN                NaN\n",
              "3  Guinea-Bissau  1990  ...   NaN                NaN\n",
              "4       Djibouti  1990  ...   NaN                NaN\n",
              "\n",
              "[5 rows x 14 columns]"
            ]
          },
          "metadata": {
            "tags": []
          },
          "execution_count": 60
        }
      ]
    },
    {
      "cell_type": "code",
      "metadata": {
        "colab": {
          "base_uri": "https://localhost:8080/"
        },
        "id": "sJi69qdB8Psj",
        "outputId": "68ce9255-4be0-4338-efb9-f0711b40e035"
      },
      "source": [
        "# Cantidad de Na's en el Dataset por columnas\n",
        "df.isna().sum()"
      ],
      "execution_count": 61,
      "outputs": [
        {
          "output_type": "execute_result",
          "data": {
            "text/plain": [
              "country                                                0\n",
              "year                                                   0\n",
              "respiratory_infections_and_tuberculosis_number        58\n",
              "respiratory_infections_and_tuberculosis_percent       58\n",
              "respiratory_infections_and_tuberculosis_rate          58\n",
              "chronic_respiratory_diseases_number                   58\n",
              "chronic_respiratory_diseases_percent                  58\n",
              "chronic_respiratory_diseases_rate                     58\n",
              "allghg                                             21062\n",
              "co2                                                21062\n",
              "ch4                                                21062\n",
              "n2o                                                21062\n",
              "fgas                                               21062\n",
              "mean_annual_tempC                                  21062\n",
              "dtype: int64"
            ]
          },
          "metadata": {
            "tags": []
          },
          "execution_count": 61
        }
      ]
    },
    {
      "cell_type": "markdown",
      "metadata": {
        "id": "W3AiOpzkrfWQ"
      },
      "source": [
        "Observese que existe gran cantidad de Na's debido a lo que se mencionó anteriormente, varios registros de la columna países en realidad no son países, sino estados o regiones, por lo que, en el caso de los datos de los niveles de gases de efectos invernadero, solo se tienen a nivel país y no estados o regiones, lo mismo pasa con las variables referente a las enferemdades respiratorias.\n",
        "\n",
        "Por lo tanto, se deben eliminar estos registros."
      ]
    },
    {
      "cell_type": "code",
      "metadata": {
        "colab": {
          "base_uri": "https://localhost:8080/"
        },
        "id": "WqNFzyAwxNzh",
        "outputId": "52ae9d20-a6ed-425a-b43b-4ff08de2fd09"
      },
      "source": [
        "# Eliminamos los Na's de las variables referentes a los gases de efecto invernadero\n",
        "df = df.dropna(subset = [\"allghg\",\"co2\",\"ch4\",\"n2o\",\"fgas\",\"mean_annual_tempC\"])\n",
        "print(f\"El nuevo número de registros es de {df.shape[0]}\")"
      ],
      "execution_count": 62,
      "outputs": [
        {
          "output_type": "stream",
          "text": [
            "El nuevo número de registros es de 986\n"
          ],
          "name": "stdout"
        }
      ]
    },
    {
      "cell_type": "code",
      "metadata": {
        "colab": {
          "base_uri": "https://localhost:8080/"
        },
        "id": "_m1Eegz5wTpN",
        "outputId": "87bebf28-25cd-4fe1-a270-d2733ea5ecd2"
      },
      "source": [
        "# Eliminamos los Na's de las variables referentes a las enferemedades respiratorias\n",
        "df = df.dropna(subset=[\"respiratory_infections_and_tuberculosis_number\",\n",
        "                       \"respiratory_infections_and_tuberculosis_percent\",\n",
        "                       \"respiratory_infections_and_tuberculosis_rate\",\n",
        "                       \"chronic_respiratory_diseases_number\",\n",
        "                       \"chronic_respiratory_diseases_percent\",\n",
        "                        \"chronic_respiratory_diseases_rate\"])\n",
        "print(f\"El nuevo numero de registros es de {df.shape[0]}\")"
      ],
      "execution_count": 63,
      "outputs": [
        {
          "output_type": "stream",
          "text": [
            "El nuevo numero de registros es de 928\n"
          ],
          "name": "stdout"
        }
      ]
    },
    {
      "cell_type": "markdown",
      "metadata": {
        "id": "UJYfGCA03hp0"
      },
      "source": [
        "Observemos que se tienen dos variables de fallecimientos por enfermedades respiratorias *fallecimientos por tuberculosis e infecciones respiratorias* y *fallecimientos por enfermedades respiratorias crónicas* por lo que es conveniente agregar una columna con la suma de estas dos variables"
      ]
    },
    {
      "cell_type": "code",
      "metadata": {
        "id": "iajrCoYE3g5k",
        "outputId": "5a388fe5-e977-4e14-b120-0857e810992f",
        "colab": {
          "base_uri": "https://localhost:8080/",
          "height": 224
        }
      },
      "source": [
        "#Agregamos columna con la suma de las los fallecimientos\n",
        "df[\"total_respiratory_diseases\"] = df[\"respiratory_infections_and_tuberculosis_number\"] + df[\"chronic_respiratory_diseases_number\"]\n",
        "df.head()"
      ],
      "execution_count": 149,
      "outputs": [
        {
          "output_type": "execute_result",
          "data": {
            "text/html": [
              "<div>\n",
              "<style scoped>\n",
              "    .dataframe tbody tr th:only-of-type {\n",
              "        vertical-align: middle;\n",
              "    }\n",
              "\n",
              "    .dataframe tbody tr th {\n",
              "        vertical-align: top;\n",
              "    }\n",
              "\n",
              "    .dataframe thead th {\n",
              "        text-align: right;\n",
              "    }\n",
              "</style>\n",
              "<table border=\"1\" class=\"dataframe\">\n",
              "  <thead>\n",
              "    <tr style=\"text-align: right;\">\n",
              "      <th></th>\n",
              "      <th>country</th>\n",
              "      <th>year</th>\n",
              "      <th>respiratory_infections_and_tuberculosis_number</th>\n",
              "      <th>respiratory_infections_and_tuberculosis_percent</th>\n",
              "      <th>respiratory_infections_and_tuberculosis_rate</th>\n",
              "      <th>chronic_respiratory_diseases_number</th>\n",
              "      <th>chronic_respiratory_diseases_percent</th>\n",
              "      <th>chronic_respiratory_diseases_rate</th>\n",
              "      <th>all_greenhouse_gas</th>\n",
              "      <th>CO2</th>\n",
              "      <th>CH4</th>\n",
              "      <th>N2O</th>\n",
              "      <th>Fgas</th>\n",
              "      <th>mean_annual_temp</th>\n",
              "      <th>total_respiratory_diseases</th>\n",
              "    </tr>\n",
              "  </thead>\n",
              "  <tbody>\n",
              "    <tr>\n",
              "      <th>0</th>\n",
              "      <td>Mexico</td>\n",
              "      <td>1990</td>\n",
              "      <td>39290.44285</td>\n",
              "      <td>0.08916</td>\n",
              "      <td>45.96035</td>\n",
              "      <td>16909.83924</td>\n",
              "      <td>0.03839</td>\n",
              "      <td>19.78044</td>\n",
              "      <td>417.45</td>\n",
              "      <td>290.01</td>\n",
              "      <td>88.10</td>\n",
              "      <td>37.47</td>\n",
              "      <td>1.87</td>\n",
              "      <td>20.958333</td>\n",
              "      <td>56200.28209</td>\n",
              "    </tr>\n",
              "    <tr>\n",
              "      <th>1</th>\n",
              "      <td>Canada</td>\n",
              "      <td>1990</td>\n",
              "      <td>6797.77117</td>\n",
              "      <td>0.03571</td>\n",
              "      <td>24.93967</td>\n",
              "      <td>9319.25608</td>\n",
              "      <td>0.04895</td>\n",
              "      <td>34.19049</td>\n",
              "      <td>626.36</td>\n",
              "      <td>483.99</td>\n",
              "      <td>87.75</td>\n",
              "      <td>42.92</td>\n",
              "      <td>11.70</td>\n",
              "      <td>-7.450000</td>\n",
              "      <td>16117.02725</td>\n",
              "    </tr>\n",
              "    <tr>\n",
              "      <th>2</th>\n",
              "      <td>Israel</td>\n",
              "      <td>1990</td>\n",
              "      <td>772.29921</td>\n",
              "      <td>0.02651</td>\n",
              "      <td>15.56473</td>\n",
              "      <td>1327.52646</td>\n",
              "      <td>0.04556</td>\n",
              "      <td>26.75464</td>\n",
              "      <td>43.95</td>\n",
              "      <td>33.78</td>\n",
              "      <td>8.35</td>\n",
              "      <td>1.62</td>\n",
              "      <td>0.21</td>\n",
              "      <td>19.816667</td>\n",
              "      <td>2099.82567</td>\n",
              "    </tr>\n",
              "    <tr>\n",
              "      <th>3</th>\n",
              "      <td>Japan</td>\n",
              "      <td>1990</td>\n",
              "      <td>68816.75721</td>\n",
              "      <td>0.08483</td>\n",
              "      <td>54.67434</td>\n",
              "      <td>29862.30051</td>\n",
              "      <td>0.03681</td>\n",
              "      <td>23.72535</td>\n",
              "      <td>1109.37</td>\n",
              "      <td>1016.89</td>\n",
              "      <td>37.86</td>\n",
              "      <td>28.33</td>\n",
              "      <td>26.30</td>\n",
              "      <td>11.658333</td>\n",
              "      <td>98679.05772</td>\n",
              "    </tr>\n",
              "    <tr>\n",
              "      <th>4</th>\n",
              "      <td>Mexico</td>\n",
              "      <td>1991</td>\n",
              "      <td>37046.64026</td>\n",
              "      <td>0.08447</td>\n",
              "      <td>42.53984</td>\n",
              "      <td>17171.26279</td>\n",
              "      <td>0.03917</td>\n",
              "      <td>19.71738</td>\n",
              "      <td>435.45</td>\n",
              "      <td>308.41</td>\n",
              "      <td>88.71</td>\n",
              "      <td>36.36</td>\n",
              "      <td>1.97</td>\n",
              "      <td>20.891667</td>\n",
              "      <td>54217.90305</td>\n",
              "    </tr>\n",
              "  </tbody>\n",
              "</table>\n",
              "</div>"
            ],
            "text/plain": [
              "  country  year  ...  mean_annual_temp  total_respiratory_diseases\n",
              "0  Mexico  1990  ...         20.958333                 56200.28209\n",
              "1  Canada  1990  ...         -7.450000                 16117.02725\n",
              "2  Israel  1990  ...         19.816667                  2099.82567\n",
              "3   Japan  1990  ...         11.658333                 98679.05772\n",
              "4  Mexico  1991  ...         20.891667                 54217.90305\n",
              "\n",
              "[5 rows x 15 columns]"
            ]
          },
          "metadata": {
            "tags": []
          },
          "execution_count": 149
        }
      ]
    },
    {
      "cell_type": "code",
      "metadata": {
        "colab": {
          "base_uri": "https://localhost:8080/",
          "height": 224
        },
        "id": "QDrIJw-bxHEH",
        "outputId": "29ec5fea-98b7-4d6b-c2c7-d45edcc6cb74"
      },
      "source": [
        "# Observemos como se han modificado los índices hasta ahora\n",
        "df.head()"
      ],
      "execution_count": 64,
      "outputs": [
        {
          "output_type": "execute_result",
          "data": {
            "text/html": [
              "<div>\n",
              "<style scoped>\n",
              "    .dataframe tbody tr th:only-of-type {\n",
              "        vertical-align: middle;\n",
              "    }\n",
              "\n",
              "    .dataframe tbody tr th {\n",
              "        vertical-align: top;\n",
              "    }\n",
              "\n",
              "    .dataframe thead th {\n",
              "        text-align: right;\n",
              "    }\n",
              "</style>\n",
              "<table border=\"1\" class=\"dataframe\">\n",
              "  <thead>\n",
              "    <tr style=\"text-align: right;\">\n",
              "      <th></th>\n",
              "      <th>country</th>\n",
              "      <th>year</th>\n",
              "      <th>respiratory_infections_and_tuberculosis_number</th>\n",
              "      <th>respiratory_infections_and_tuberculosis_percent</th>\n",
              "      <th>respiratory_infections_and_tuberculosis_rate</th>\n",
              "      <th>chronic_respiratory_diseases_number</th>\n",
              "      <th>chronic_respiratory_diseases_percent</th>\n",
              "      <th>chronic_respiratory_diseases_rate</th>\n",
              "      <th>allghg</th>\n",
              "      <th>co2</th>\n",
              "      <th>ch4</th>\n",
              "      <th>n2o</th>\n",
              "      <th>fgas</th>\n",
              "      <th>mean_annual_tempC</th>\n",
              "    </tr>\n",
              "  </thead>\n",
              "  <tbody>\n",
              "    <tr>\n",
              "      <th>24</th>\n",
              "      <td>Mexico</td>\n",
              "      <td>1990</td>\n",
              "      <td>39290.44285</td>\n",
              "      <td>0.08916</td>\n",
              "      <td>45.96035</td>\n",
              "      <td>16909.83924</td>\n",
              "      <td>0.03839</td>\n",
              "      <td>19.78044</td>\n",
              "      <td>417.45</td>\n",
              "      <td>290.01</td>\n",
              "      <td>88.10</td>\n",
              "      <td>37.47</td>\n",
              "      <td>1.87</td>\n",
              "      <td>20.958333</td>\n",
              "    </tr>\n",
              "    <tr>\n",
              "      <th>31</th>\n",
              "      <td>Canada</td>\n",
              "      <td>1990</td>\n",
              "      <td>6797.77117</td>\n",
              "      <td>0.03571</td>\n",
              "      <td>24.93967</td>\n",
              "      <td>9319.25608</td>\n",
              "      <td>0.04895</td>\n",
              "      <td>34.19049</td>\n",
              "      <td>626.36</td>\n",
              "      <td>483.99</td>\n",
              "      <td>87.75</td>\n",
              "      <td>42.92</td>\n",
              "      <td>11.70</td>\n",
              "      <td>-7.450000</td>\n",
              "    </tr>\n",
              "    <tr>\n",
              "      <th>38</th>\n",
              "      <td>Israel</td>\n",
              "      <td>1990</td>\n",
              "      <td>772.29921</td>\n",
              "      <td>0.02651</td>\n",
              "      <td>15.56473</td>\n",
              "      <td>1327.52646</td>\n",
              "      <td>0.04556</td>\n",
              "      <td>26.75464</td>\n",
              "      <td>43.95</td>\n",
              "      <td>33.78</td>\n",
              "      <td>8.35</td>\n",
              "      <td>1.62</td>\n",
              "      <td>0.21</td>\n",
              "      <td>19.816667</td>\n",
              "    </tr>\n",
              "    <tr>\n",
              "      <th>43</th>\n",
              "      <td>Japan</td>\n",
              "      <td>1990</td>\n",
              "      <td>68816.75721</td>\n",
              "      <td>0.08483</td>\n",
              "      <td>54.67434</td>\n",
              "      <td>29862.30051</td>\n",
              "      <td>0.03681</td>\n",
              "      <td>23.72535</td>\n",
              "      <td>1109.37</td>\n",
              "      <td>1016.89</td>\n",
              "      <td>37.86</td>\n",
              "      <td>28.33</td>\n",
              "      <td>26.30</td>\n",
              "      <td>11.658333</td>\n",
              "    </tr>\n",
              "    <tr>\n",
              "      <th>53</th>\n",
              "      <td>Mexico</td>\n",
              "      <td>1991</td>\n",
              "      <td>37046.64026</td>\n",
              "      <td>0.08447</td>\n",
              "      <td>42.53984</td>\n",
              "      <td>17171.26279</td>\n",
              "      <td>0.03917</td>\n",
              "      <td>19.71738</td>\n",
              "      <td>435.45</td>\n",
              "      <td>308.41</td>\n",
              "      <td>88.71</td>\n",
              "      <td>36.36</td>\n",
              "      <td>1.97</td>\n",
              "      <td>20.891667</td>\n",
              "    </tr>\n",
              "  </tbody>\n",
              "</table>\n",
              "</div>"
            ],
            "text/plain": [
              "   country  year  ...   fgas  mean_annual_tempC\n",
              "24  Mexico  1990  ...   1.87          20.958333\n",
              "31  Canada  1990  ...  11.70          -7.450000\n",
              "38  Israel  1990  ...   0.21          19.816667\n",
              "43   Japan  1990  ...  26.30          11.658333\n",
              "53  Mexico  1991  ...   1.97          20.891667\n",
              "\n",
              "[5 rows x 14 columns]"
            ]
          },
          "metadata": {
            "tags": []
          },
          "execution_count": 64
        }
      ]
    },
    {
      "cell_type": "code",
      "metadata": {
        "colab": {
          "base_uri": "https://localhost:8080/",
          "height": 224
        },
        "id": "oneltvhHyHkA",
        "outputId": "41b37630-6cc1-4aa3-dc92-bed360da0605"
      },
      "source": [
        "# Reindexamos el dataset\n",
        "df = df.reset_index(drop=True)\n",
        "df.head()"
      ],
      "execution_count": 65,
      "outputs": [
        {
          "output_type": "execute_result",
          "data": {
            "text/html": [
              "<div>\n",
              "<style scoped>\n",
              "    .dataframe tbody tr th:only-of-type {\n",
              "        vertical-align: middle;\n",
              "    }\n",
              "\n",
              "    .dataframe tbody tr th {\n",
              "        vertical-align: top;\n",
              "    }\n",
              "\n",
              "    .dataframe thead th {\n",
              "        text-align: right;\n",
              "    }\n",
              "</style>\n",
              "<table border=\"1\" class=\"dataframe\">\n",
              "  <thead>\n",
              "    <tr style=\"text-align: right;\">\n",
              "      <th></th>\n",
              "      <th>country</th>\n",
              "      <th>year</th>\n",
              "      <th>respiratory_infections_and_tuberculosis_number</th>\n",
              "      <th>respiratory_infections_and_tuberculosis_percent</th>\n",
              "      <th>respiratory_infections_and_tuberculosis_rate</th>\n",
              "      <th>chronic_respiratory_diseases_number</th>\n",
              "      <th>chronic_respiratory_diseases_percent</th>\n",
              "      <th>chronic_respiratory_diseases_rate</th>\n",
              "      <th>allghg</th>\n",
              "      <th>co2</th>\n",
              "      <th>ch4</th>\n",
              "      <th>n2o</th>\n",
              "      <th>fgas</th>\n",
              "      <th>mean_annual_tempC</th>\n",
              "    </tr>\n",
              "  </thead>\n",
              "  <tbody>\n",
              "    <tr>\n",
              "      <th>0</th>\n",
              "      <td>Mexico</td>\n",
              "      <td>1990</td>\n",
              "      <td>39290.44285</td>\n",
              "      <td>0.08916</td>\n",
              "      <td>45.96035</td>\n",
              "      <td>16909.83924</td>\n",
              "      <td>0.03839</td>\n",
              "      <td>19.78044</td>\n",
              "      <td>417.45</td>\n",
              "      <td>290.01</td>\n",
              "      <td>88.10</td>\n",
              "      <td>37.47</td>\n",
              "      <td>1.87</td>\n",
              "      <td>20.958333</td>\n",
              "    </tr>\n",
              "    <tr>\n",
              "      <th>1</th>\n",
              "      <td>Canada</td>\n",
              "      <td>1990</td>\n",
              "      <td>6797.77117</td>\n",
              "      <td>0.03571</td>\n",
              "      <td>24.93967</td>\n",
              "      <td>9319.25608</td>\n",
              "      <td>0.04895</td>\n",
              "      <td>34.19049</td>\n",
              "      <td>626.36</td>\n",
              "      <td>483.99</td>\n",
              "      <td>87.75</td>\n",
              "      <td>42.92</td>\n",
              "      <td>11.70</td>\n",
              "      <td>-7.450000</td>\n",
              "    </tr>\n",
              "    <tr>\n",
              "      <th>2</th>\n",
              "      <td>Israel</td>\n",
              "      <td>1990</td>\n",
              "      <td>772.29921</td>\n",
              "      <td>0.02651</td>\n",
              "      <td>15.56473</td>\n",
              "      <td>1327.52646</td>\n",
              "      <td>0.04556</td>\n",
              "      <td>26.75464</td>\n",
              "      <td>43.95</td>\n",
              "      <td>33.78</td>\n",
              "      <td>8.35</td>\n",
              "      <td>1.62</td>\n",
              "      <td>0.21</td>\n",
              "      <td>19.816667</td>\n",
              "    </tr>\n",
              "    <tr>\n",
              "      <th>3</th>\n",
              "      <td>Japan</td>\n",
              "      <td>1990</td>\n",
              "      <td>68816.75721</td>\n",
              "      <td>0.08483</td>\n",
              "      <td>54.67434</td>\n",
              "      <td>29862.30051</td>\n",
              "      <td>0.03681</td>\n",
              "      <td>23.72535</td>\n",
              "      <td>1109.37</td>\n",
              "      <td>1016.89</td>\n",
              "      <td>37.86</td>\n",
              "      <td>28.33</td>\n",
              "      <td>26.30</td>\n",
              "      <td>11.658333</td>\n",
              "    </tr>\n",
              "    <tr>\n",
              "      <th>4</th>\n",
              "      <td>Mexico</td>\n",
              "      <td>1991</td>\n",
              "      <td>37046.64026</td>\n",
              "      <td>0.08447</td>\n",
              "      <td>42.53984</td>\n",
              "      <td>17171.26279</td>\n",
              "      <td>0.03917</td>\n",
              "      <td>19.71738</td>\n",
              "      <td>435.45</td>\n",
              "      <td>308.41</td>\n",
              "      <td>88.71</td>\n",
              "      <td>36.36</td>\n",
              "      <td>1.97</td>\n",
              "      <td>20.891667</td>\n",
              "    </tr>\n",
              "  </tbody>\n",
              "</table>\n",
              "</div>"
            ],
            "text/plain": [
              "  country  year  ...   fgas  mean_annual_tempC\n",
              "0  Mexico  1990  ...   1.87          20.958333\n",
              "1  Canada  1990  ...  11.70          -7.450000\n",
              "2  Israel  1990  ...   0.21          19.816667\n",
              "3   Japan  1990  ...  26.30          11.658333\n",
              "4  Mexico  1991  ...   1.97          20.891667\n",
              "\n",
              "[5 rows x 14 columns]"
            ]
          },
          "metadata": {
            "tags": []
          },
          "execution_count": 65
        }
      ]
    },
    {
      "cell_type": "code",
      "metadata": {
        "colab": {
          "base_uri": "https://localhost:8080/"
        },
        "id": "LM7zRWZ7ykKz",
        "outputId": "e018a0bc-b5de-4709-c5db-9b521f826ce1"
      },
      "source": [
        "# Hacemos un renombre de las variables para un mejor entendimiento de las mismas y mayor facilidad de manipulación\n",
        "new_names = {\n",
        "    \"allghg\":\"all_greenhouse_gas\",\n",
        "    \"mean_annual_tempC\":\"mean_annual_temp\",\n",
        "    \"co2\": \"CO2\",\n",
        "    \"ch4\": \"CH4\",\n",
        "    \"n2o\": \"N2O\",\n",
        "    \"fgas\": \"Fgas\"\n",
        "}\n",
        "\n",
        "df = df.rename(columns = new_names)\n",
        "df.columns"
      ],
      "execution_count": 66,
      "outputs": [
        {
          "output_type": "execute_result",
          "data": {
            "text/plain": [
              "Index(['country', 'year', 'respiratory_infections_and_tuberculosis_number',\n",
              "       'respiratory_infections_and_tuberculosis_percent',\n",
              "       'respiratory_infections_and_tuberculosis_rate',\n",
              "       'chronic_respiratory_diseases_number',\n",
              "       'chronic_respiratory_diseases_percent',\n",
              "       'chronic_respiratory_diseases_rate', 'all_greenhouse_gas', 'CO2', 'CH4',\n",
              "       'N2O', 'Fgas', 'mean_annual_temp'],\n",
              "      dtype='object')"
            ]
          },
          "metadata": {
            "tags": []
          },
          "execution_count": 66
        }
      ]
    },
    {
      "cell_type": "markdown",
      "metadata": {
        "id": "hUrUIPU31QcG"
      },
      "source": [
        "Observemos ahora la limpieza que realizamos a nuestro dataset"
      ]
    },
    {
      "cell_type": "code",
      "metadata": {
        "colab": {
          "base_uri": "https://localhost:8080/"
        },
        "id": "SpPn_NN5zi_Y",
        "outputId": "a5e34aa9-a9be-46bb-e41c-cb1b3d2a1e6a"
      },
      "source": [
        "#porcentaje de datos no eliminados\n",
        "\n",
        "porcentaje = df.shape[0] / df_original.shape[0] * 100\n",
        "print(f'filas del dataset original: {df_original.shape[0]:,} \\nfilas del dataset después de limpieza: {df.shape[0]}')\n",
        "print(f'Porcentaje de datos netos: {porcentaje:.2f}%')"
      ],
      "execution_count": 144,
      "outputs": [
        {
          "output_type": "stream",
          "text": [
            "filas del dataset original: 25,828 \n",
            "filas del dataset después de limpieza: 928\n",
            "Porcentaje de datos netos: 3.59%\n"
          ],
          "name": "stdout"
        }
      ]
    },
    {
      "cell_type": "markdown",
      "metadata": {
        "id": "ny6x1hCN1jP9"
      },
      "source": [
        "Es importante mencionar que a pesar de tener un porcentaje muy bajo de los datos originales. No significa que nuestro análisis carezca de significancia, ya que hemos mencionado que el dataset orginal contenía muchos registros que no se referían a algún país."
      ]
    },
    {
      "cell_type": "code",
      "metadata": {
        "colab": {
          "base_uri": "https://localhost:8080/"
        },
        "id": "sm3hOOoV0dn4",
        "outputId": "017123d0-7f6d-4861-ed60-a1b391a0be88"
      },
      "source": [
        "# Cantidad de datos por país\n",
        "print(f\"Número de países:{df['country'].unique().size} \\n\")\n",
        "df[\"country\"].value_counts()"
      ],
      "execution_count": 146,
      "outputs": [
        {
          "output_type": "stream",
          "text": [
            "Número de países:32 \n",
            "\n"
          ],
          "name": "stdout"
        },
        {
          "output_type": "execute_result",
          "data": {
            "text/plain": [
              "Estonia           29\n",
              "Mexico            29\n",
              "Australia         29\n",
              "Portugal          29\n",
              "Chile             29\n",
              "Poland            29\n",
              "United Kingdom    29\n",
              "Turkey            29\n",
              "Luxembourg        29\n",
              "Spain             29\n",
              "Austria           29\n",
              "Greece            29\n",
              "Sweden            29\n",
              "Canada            29\n",
              "France            29\n",
              "Germany           29\n",
              "Finland           29\n",
              "Netherlands       29\n",
              "Slovenia          29\n",
              "Switzerland       29\n",
              "Slovakia          29\n",
              "Iceland           29\n",
              "Japan             29\n",
              "Ireland           29\n",
              "Denmark           29\n",
              "Norway            29\n",
              "Hungary           29\n",
              "Israel            29\n",
              "Latvia            29\n",
              "New Zealand       29\n",
              "Belgium           29\n",
              "Italy             29\n",
              "Name: country, dtype: int64"
            ]
          },
          "metadata": {
            "tags": []
          },
          "execution_count": 146
        }
      ]
    },
    {
      "cell_type": "markdown",
      "metadata": {
        "id": "wDkeuhAC1jPC"
      },
      "source": [
        "Observemos ahora que el número de países con la información completa para este anpalisis es de 32, lo cual hace sentido con el número de registros obtenidos que son de 928 pues los 32 países por 29 años de estudio nos dan los 928 filas de nuestro dataset.\n",
        "\n",
        "A su vez notemos que es un excelente conjunto de datos y un número considerable de países para el análisis. "
      ]
    },
    {
      "cell_type": "markdown",
      "metadata": {
        "id": "S9i59vUAzUHX"
      },
      "source": [
        "### Funciones de agregación \n",
        "Las funciones de agregación nos permiten ralizar un mejor análisis de nuestros datos para tener un panorama general y entendimiento de los mismos."
      ]
    },
    {
      "cell_type": "code",
      "metadata": {
        "colab": {
          "base_uri": "https://localhost:8080/"
        },
        "id": "iBkXmpH_y16l",
        "outputId": "b7b35439-54c2-4aee-e875-a03946325519"
      },
      "source": [
        "# Observemos el nivel de temperatura y los niveles de gases de efecto invernadero que emiten los países de estudio en promedio anualmente.\n",
        "np.mean(df[['mean_annual_temp','CO2', 'CH4', 'N2O', 'Fgas']])"
      ],
      "execution_count": 67,
      "outputs": [
        {
          "output_type": "execute_result",
          "data": {
            "text/plain": [
              "mean_annual_temp      9.609932\n",
              "CO2                 190.630916\n",
              "CH4                  31.443071\n",
              "N2O                  16.072759\n",
              "Fgas                  4.932263\n",
              "dtype: float64"
            ]
          },
          "metadata": {
            "tags": []
          },
          "execution_count": 67
        }
      ]
    },
    {
      "cell_type": "markdown",
      "metadata": {
        "id": "vFpNULBBoeUG"
      },
      "source": [
        "Notemos que es dioxido de carbono el principal contaminante que emiten todos los países de estudio. \n",
        "\n",
        "Veamos ahora que país de los que se están analizando es el que mayor CO2 emitió en el último año disponible, y qué país emitió menos."
      ]
    },
    {
      "cell_type": "code",
      "metadata": {
        "id": "BIPtfNGVolrx",
        "outputId": "7c2b1ef0-e922-4af7-dea4-24dccf3d0ff7",
        "colab": {
          "base_uri": "https://localhost:8080/"
        }
      },
      "source": [
        "#Primero extraemos los países y las emisiones del ultimo año disponibles que es 2018\n",
        "countries_2018 = df[df[\"year\"] == 2018][[\"country\",\"CO2\", \"total_respiratory_diseases\"]]\n",
        "\n",
        "# Extraemos el pais con el maximo nivel de CO2\n",
        "highest_country_co2 = countries_2018[countries_2018[\"CO2\"] == np.max(countries_2018[\"CO2\"])]\n",
        "\n",
        "#Extraemos el pais con el menor nivel de CO2\n",
        "lowest_country_co2 = countries_2018[countries_2018[\"CO2\"] == np.min(countries_2018[\"CO2\"])]\n",
        "\n",
        "print(f\"{highest_country_co2['country'].iloc[0]} es el país de estudio con mayor emisión de CO2 en 2018, cuyo nivel de CO2 alcanzó {highest_country_co2['CO2'].iloc[0]:,.2f} unidades\")\n",
        "print(f\"{lowest_country_co2['country'].iloc[0]} es el país de estudio con menor emisión de CO2 en 2018, cuyo nivel de CO2 alcanzó {lowest_country_co2['CO2'].iloc[0]:,.2f} unidades\")"
      ],
      "execution_count": 163,
      "outputs": [
        {
          "output_type": "stream",
          "text": [
            "Japan es el país de estudio con mayor emisión de CO2 en 2018, cuyo nivel de CO2 alcanzó 1,074.08 unidades\n",
            "Iceland es el país de estudio con menor emisión de CO2 en 2018, cuyo nivel de CO2 alcanzó 2.11 unidades\n"
          ],
          "name": "stdout"
        }
      ]
    },
    {
      "cell_type": "code",
      "metadata": {
        "id": "bV-gSDTJ05cv",
        "outputId": "cea1d157-707d-46cb-e22e-c9d6c7a0f07d",
        "colab": {
          "base_uri": "https://localhost:8080/"
        }
      },
      "source": [
        "# Veamos ahora las muertes por enferemedad respiratorias en 2018\n",
        "\n",
        "# Extraemos los paises con el mayor y menor numero de muesrtes por enfermedades respiratorias en 2018\n",
        "highest_country_diseases = countries_2018[countries_2018[\"total_respiratory_diseases\"] == np.max(countries_2018[\"total_respiratory_diseases\"])]\n",
        "lowest_country_diseases = countries_2018[countries_2018[\"total_respiratory_diseases\"] == np.min(countries_2018[\"total_respiratory_diseases\"])]\n",
        "\n",
        "print(f\"{highest_country_diseases['country'].iloc[0]} es el país de estudio con mayor muertes por enfermedades respiratorias en 2018, con {highest_country_co2['total_respiratory_diseases'].iloc[0]:,.2f} fallecimientos\")\n",
        "print(f\"{lowest_country_diseases['country'].iloc[0]} es el país de estudio con menor muertes por enfermedades respiratorias en 2018, con {lowest_country_co2['total_respiratory_diseases'].iloc[0]:,.2f} fallecimientos\")"
      ],
      "execution_count": 167,
      "outputs": [
        {
          "output_type": "stream",
          "text": [
            "Japan es el país de estudio con mayor muertes por enfermedades respiratorias en 2018, con 172,442.94 fallecimientos\n",
            "Iceland es el país de estudio con menor muertes por enfermedades respiratorias en 2018, con 211.26 fallecimientos\n"
          ],
          "name": "stdout"
        }
      ]
    },
    {
      "cell_type": "markdown",
      "metadata": {
        "id": "iGvVrq5x7SFG"
      },
      "source": [
        "Lo anterior encaja perfectamente con los niveles de CO2 de cada país en el año de análisis, ya que Japón tuvo la mayor emisión de CO2 en 2018 y a su vez también l tuvo el mayor númro de fallecimientos por enferemedades respiratorias, análogamente pasó con Islandia, pero en sentido opuesto.\n",
        "\n",
        "Con estos resultados podemos empezar a tener una idea de que realmente los fallecimientos por enfermedades respiratorias y los gases de efecto invernadero pueden tener una fuerte relación."
      ]
    },
    {
      "cell_type": "markdown",
      "metadata": {
        "id": "HUkZxDz88lOK"
      },
      "source": [
        "### Esto esta raro porque estamos diciendo que son 29 años y aquí esta contando 28, que está sobrando?"
      ]
    },
    {
      "cell_type": "code",
      "metadata": {
        "colab": {
          "base_uri": "https://localhost:8080/"
        },
        "id": "1MOkv1cu2O5Z",
        "outputId": "cba9607c-367a-4fcc-945c-42f1c8dff275"
      },
      "source": [
        "# Observemos el periodo de estudio\n",
        "print(f'cantidad de años registrados: {max(df[\"year\"]) - min(df[\"year\"])}')\n",
        "print(f'desde {min(df[\"year\"])} hasta {max(df[\"year\"])}')"
      ],
      "execution_count": 147,
      "outputs": [
        {
          "output_type": "stream",
          "text": [
            "cantidad de años registrados: 28\n",
            "desde 1990 hasta 2018\n"
          ],
          "name": "stdout"
        }
      ]
    },
    {
      "cell_type": "code",
      "metadata": {
        "id": "g30pj3ek8gcs"
      },
      "source": [
        ""
      ],
      "execution_count": null,
      "outputs": []
    }
  ]
}