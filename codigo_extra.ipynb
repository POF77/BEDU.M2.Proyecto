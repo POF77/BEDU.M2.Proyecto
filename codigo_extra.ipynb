{
  "nbformat": 4,
  "nbformat_minor": 0,
  "metadata": {
    "orig_nbformat": 4,
    "language_info": {
      "name": "python",
      "version": "3.9.6",
      "mimetype": "text/x-python",
      "codemirror_mode": {
        "name": "ipython",
        "version": 3
      },
      "pygments_lexer": "ipython3",
      "nbconvert_exporter": "python",
      "file_extension": ".py"
    },
    "kernelspec": {
      "name": "python3",
      "display_name": "Python 3.9.6 64-bit"
    },
    "interpreter": {
      "hash": "f40138163fcd8840a27d893df8ab9c7fa71905a679b6ff412bf749adfc03309a"
    },
    "colab": {
      "name": "postwork-6.ipynb",
      "provenance": []
    }
  },
  "cells": [
    {
      "cell_type": "markdown",
      "metadata": {
        "id": "MA5j3s2GrpyD"
      },
      "source": [
        "## Postwork 6"
      ]
    },
    {
      "cell_type": "code",
      "metadata": {
        "id": "qP18E7mZhOAW"
      },
      "source": [
        "import requests\n",
        "import pandas as pd\n",
        "import numpy as np"
      ],
      "execution_count": 220,
      "outputs": []
    },
    {
      "cell_type": "code",
      "metadata": {
        "id": "fL5mzY2BtrdT"
      },
      "source": [
        "# Establecemos la liga de la api y los paramtros a usar\n",
        "endpoint = \"https://www.climatewatchdata.org/api/v1/data/historical_emissions\"\n",
        "parameters = {'regions': ['MEX'],\n",
        "              'start_year': 1990,\n",
        "              'end_year': 2018,\n",
        "              'sort_col': 'year',\n",
        "              'sort_dir': 'DESC'}"
      ],
      "execution_count": 221,
      "outputs": []
    },
    {
      "cell_type": "markdown",
      "metadata": {
        "id": "CXOgisMwq7BO"
      },
      "source": [
        "### Automatizamos la llamada de la api para verificar el estado de nuestro reuqests"
      ]
    },
    {
      "cell_type": "code",
      "metadata": {
        "colab": {
          "base_uri": "https://localhost:8080/"
        },
        "id": "hnPthPS9trdW",
        "outputId": "78c83ae9-faf9-41d9-f2cc-a974828a0d50"
      },
      "source": [
        "#Verificamos que salio bien nuestro requests\n",
        "try:\n",
        "    r = requests.get(endpoint, parameters)\n",
        "    if r.status_code == 200:\n",
        "        json = r.json()\n",
        "        data = json['data']\n",
        "        print('Petición exitosa')\n",
        "except:\n",
        "    print('Ocurrió un error')"
      ],
      "execution_count": 222,
      "outputs": [
        {
          "output_type": "stream",
          "text": [
            "Petición exitosa\n"
          ],
          "name": "stdout"
        }
      ]
    },
    {
      "cell_type": "code",
      "metadata": {
        "colab": {
          "base_uri": "https://localhost:8080/"
        },
        "id": "fDisJEGavdCV",
        "outputId": "b70e5d20-ec27-4c29-e1ad-935f22980a76"
      },
      "source": [
        "json = r.json()\n",
        "json.keys()"
      ],
      "execution_count": 223,
      "outputs": [
        {
          "output_type": "execute_result",
          "data": {
            "text/plain": [
              "dict_keys(['data', 'meta'])"
            ]
          },
          "metadata": {
            "tags": []
          },
          "execution_count": 223
        }
      ]
    },
    {
      "cell_type": "code",
      "metadata": {
        "colab": {
          "base_uri": "https://localhost:8080/",
          "height": 204
        },
        "id": "YnVCGLDlvjuY",
        "outputId": "6196f993-2cc0-453e-d80c-507867e3c750"
      },
      "source": [
        "# Normalizamos el jdataset de una estructura tipo JSON a una de tipo Data Frame\n",
        "data = json['data']\n",
        "normalized = pd.json_normalize(data)\n",
        "df = pd.DataFrame.from_dict(normalized)\n",
        "df.head()"
      ],
      "execution_count": 233,
      "outputs": [
        {
          "output_type": "execute_result",
          "data": {
            "text/html": [
              "<div>\n",
              "<style scoped>\n",
              "    .dataframe tbody tr th:only-of-type {\n",
              "        vertical-align: middle;\n",
              "    }\n",
              "\n",
              "    .dataframe tbody tr th {\n",
              "        vertical-align: top;\n",
              "    }\n",
              "\n",
              "    .dataframe thead th {\n",
              "        text-align: right;\n",
              "    }\n",
              "</style>\n",
              "<table border=\"1\" class=\"dataframe\">\n",
              "  <thead>\n",
              "    <tr style=\"text-align: right;\">\n",
              "      <th></th>\n",
              "      <th>id</th>\n",
              "      <th>iso_code3</th>\n",
              "      <th>country</th>\n",
              "      <th>data_source</th>\n",
              "      <th>sector</th>\n",
              "      <th>gas</th>\n",
              "      <th>unit</th>\n",
              "      <th>emissions</th>\n",
              "    </tr>\n",
              "  </thead>\n",
              "  <tbody>\n",
              "    <tr>\n",
              "      <th>0</th>\n",
              "      <td>658228</td>\n",
              "      <td>MEX</td>\n",
              "      <td>Mexico</td>\n",
              "      <td>CAIT</td>\n",
              "      <td>Total excluding LUCF</td>\n",
              "      <td>All GHG</td>\n",
              "      <td>MtCO₂e</td>\n",
              "      <td>[{'year': 2011, 'value': 664.66}, {'year': 199...</td>\n",
              "    </tr>\n",
              "    <tr>\n",
              "      <th>1</th>\n",
              "      <td>658229</td>\n",
              "      <td>MEX</td>\n",
              "      <td>Mexico</td>\n",
              "      <td>CAIT</td>\n",
              "      <td>Total including LUCF</td>\n",
              "      <td>All GHG</td>\n",
              "      <td>MtCO₂e</td>\n",
              "      <td>[{'year': 2003, 'value': 492.69}, {'year': 201...</td>\n",
              "    </tr>\n",
              "    <tr>\n",
              "      <th>2</th>\n",
              "      <td>658230</td>\n",
              "      <td>MEX</td>\n",
              "      <td>Mexico</td>\n",
              "      <td>CAIT</td>\n",
              "      <td>Energy</td>\n",
              "      <td>All GHG</td>\n",
              "      <td>MtCO₂e</td>\n",
              "      <td>[{'year': 2017, 'value': 495.63}, {'year': 199...</td>\n",
              "    </tr>\n",
              "    <tr>\n",
              "      <th>3</th>\n",
              "      <td>658231</td>\n",
              "      <td>MEX</td>\n",
              "      <td>Mexico</td>\n",
              "      <td>CAIT</td>\n",
              "      <td>Industrial Processes</td>\n",
              "      <td>All GHG</td>\n",
              "      <td>MtCO₂e</td>\n",
              "      <td>[{'year': 2003, 'value': 21.35}, {'year': 1990...</td>\n",
              "    </tr>\n",
              "    <tr>\n",
              "      <th>4</th>\n",
              "      <td>658232</td>\n",
              "      <td>MEX</td>\n",
              "      <td>Mexico</td>\n",
              "      <td>CAIT</td>\n",
              "      <td>Agriculture</td>\n",
              "      <td>All GHG</td>\n",
              "      <td>MtCO₂e</td>\n",
              "      <td>[{'year': 1997, 'value': 85.51}, {'year': 1998...</td>\n",
              "    </tr>\n",
              "  </tbody>\n",
              "</table>\n",
              "</div>"
            ],
            "text/plain": [
              "       id iso_code3  ...    unit                                          emissions\n",
              "0  658228       MEX  ...  MtCO₂e  [{'year': 2011, 'value': 664.66}, {'year': 199...\n",
              "1  658229       MEX  ...  MtCO₂e  [{'year': 2003, 'value': 492.69}, {'year': 201...\n",
              "2  658230       MEX  ...  MtCO₂e  [{'year': 2017, 'value': 495.63}, {'year': 199...\n",
              "3  658231       MEX  ...  MtCO₂e  [{'year': 2003, 'value': 21.35}, {'year': 1990...\n",
              "4  658232       MEX  ...  MtCO₂e  [{'year': 1997, 'value': 85.51}, {'year': 1998...\n",
              "\n",
              "[5 rows x 8 columns]"
            ]
          },
          "metadata": {
            "tags": []
          },
          "execution_count": 233
        }
      ]
    },
    {
      "cell_type": "markdown",
      "metadata": {
        "id": "zI0ZZktkqYY1"
      },
      "source": [
        "### Exploración y limpieza del dataset"
      ]
    },
    {
      "cell_type": "markdown",
      "metadata": {
        "id": "KZQTi0SJLN30"
      },
      "source": [
        "Observemos que los sectores no son necesarios para nuestro análisis, por lo que, nos quedaremos unicamente con la fila que incluye a todos."
      ]
    },
    {
      "cell_type": "code",
      "metadata": {
        "id": "FaILZXlEJBp0",
        "outputId": "3938bba8-1d2b-4749-f529-416b9031d79a",
        "colab": {
          "base_uri": "https://localhost:8080/",
          "height": 204
        }
      },
      "source": [
        "including = df[df[\"sector\"] == \"Total including LUCF\"]\n",
        "including = incluyente.reset_index(drop = True)\n",
        "including"
      ],
      "execution_count": 234,
      "outputs": [
        {
          "output_type": "execute_result",
          "data": {
            "text/html": [
              "<div>\n",
              "<style scoped>\n",
              "    .dataframe tbody tr th:only-of-type {\n",
              "        vertical-align: middle;\n",
              "    }\n",
              "\n",
              "    .dataframe tbody tr th {\n",
              "        vertical-align: top;\n",
              "    }\n",
              "\n",
              "    .dataframe thead th {\n",
              "        text-align: right;\n",
              "    }\n",
              "</style>\n",
              "<table border=\"1\" class=\"dataframe\">\n",
              "  <thead>\n",
              "    <tr style=\"text-align: right;\">\n",
              "      <th></th>\n",
              "      <th>id</th>\n",
              "      <th>iso_code3</th>\n",
              "      <th>country</th>\n",
              "      <th>data_source</th>\n",
              "      <th>sector</th>\n",
              "      <th>gas</th>\n",
              "      <th>unit</th>\n",
              "      <th>emissions</th>\n",
              "    </tr>\n",
              "  </thead>\n",
              "  <tbody>\n",
              "    <tr>\n",
              "      <th>0</th>\n",
              "      <td>658229</td>\n",
              "      <td>MEX</td>\n",
              "      <td>Mexico</td>\n",
              "      <td>CAIT</td>\n",
              "      <td>Total including LUCF</td>\n",
              "      <td>All GHG</td>\n",
              "      <td>MtCO₂e</td>\n",
              "      <td>[{'year': 2003, 'value': 492.69}, {'year': 201...</td>\n",
              "    </tr>\n",
              "    <tr>\n",
              "      <th>1</th>\n",
              "      <td>658243</td>\n",
              "      <td>MEX</td>\n",
              "      <td>Mexico</td>\n",
              "      <td>CAIT</td>\n",
              "      <td>Total including LUCF</td>\n",
              "      <td>CO2</td>\n",
              "      <td>MtCO₂e</td>\n",
              "      <td>[{'year': 2010, 'value': 402.21}, {'year': 199...</td>\n",
              "    </tr>\n",
              "    <tr>\n",
              "      <th>2</th>\n",
              "      <td>658255</td>\n",
              "      <td>MEX</td>\n",
              "      <td>Mexico</td>\n",
              "      <td>CAIT</td>\n",
              "      <td>Total including LUCF</td>\n",
              "      <td>CH4</td>\n",
              "      <td>MtCO₂e</td>\n",
              "      <td>[{'year': 2018, 'value': 145.06}, {'year': 201...</td>\n",
              "    </tr>\n",
              "    <tr>\n",
              "      <th>3</th>\n",
              "      <td>658264</td>\n",
              "      <td>MEX</td>\n",
              "      <td>Mexico</td>\n",
              "      <td>CAIT</td>\n",
              "      <td>Total including LUCF</td>\n",
              "      <td>N2O</td>\n",
              "      <td>MtCO₂e</td>\n",
              "      <td>[{'year': 2007, 'value': 37.65}, {'year': 1990...</td>\n",
              "    </tr>\n",
              "    <tr>\n",
              "      <th>4</th>\n",
              "      <td>658273</td>\n",
              "      <td>MEX</td>\n",
              "      <td>Mexico</td>\n",
              "      <td>CAIT</td>\n",
              "      <td>Total including LUCF</td>\n",
              "      <td>F-Gas</td>\n",
              "      <td>MtCO₂e</td>\n",
              "      <td>[{'year': 2012, 'value': 16.29}, {'year': 2011...</td>\n",
              "    </tr>\n",
              "  </tbody>\n",
              "</table>\n",
              "</div>"
            ],
            "text/plain": [
              "       id iso_code3  ...    unit                                          emissions\n",
              "0  658229       MEX  ...  MtCO₂e  [{'year': 2003, 'value': 492.69}, {'year': 201...\n",
              "1  658243       MEX  ...  MtCO₂e  [{'year': 2010, 'value': 402.21}, {'year': 199...\n",
              "2  658255       MEX  ...  MtCO₂e  [{'year': 2018, 'value': 145.06}, {'year': 201...\n",
              "3  658264       MEX  ...  MtCO₂e  [{'year': 2007, 'value': 37.65}, {'year': 1990...\n",
              "4  658273       MEX  ...  MtCO₂e  [{'year': 2012, 'value': 16.29}, {'year': 2011...\n",
              "\n",
              "[5 rows x 8 columns]"
            ]
          },
          "metadata": {
            "tags": []
          },
          "execution_count": 234
        }
      ]
    },
    {
      "cell_type": "code",
      "metadata": {
        "id": "wICtMNN3LR4p"
      },
      "source": [
        "including = df[df[\"sector\"] == \"Total including LUCF\"]\n",
        "including = incluyente.reset_index(drop=True)"
      ],
      "execution_count": 235,
      "outputs": []
    },
    {
      "cell_type": "markdown",
      "metadata": {
        "id": "-qQNO0E12DqT"
      },
      "source": [
        "Observemos la columna de emisiones no pudo ser normalizada, sin emabargo está claro que es una lista de diccionarios, por lo que vamos a extraer estos datos por separado.\n",
        "Para ello es necesario acceder a los valores de cada diccionario, lo cual se realiza en el siguiente código:"
      ]
    },
    {
      "cell_type": "code",
      "metadata": {
        "colab": {
          "base_uri": "https://localhost:8080/"
        },
        "id": "sBxsaSNMyFj7",
        "outputId": "5d2f30f3-7d17-422b-868e-633f1ec75604"
      },
      "source": [
        "# Observemos los elementos del diccionario: dos llaves('year' y 'value') y sus respectivos valores\n",
        "print(including['emissions'][0][0].items())\n",
        "print(including['emissions'][0][0].keys())\n",
        "including['emissions'][0][0].values()"
      ],
      "execution_count": 236,
      "outputs": [
        {
          "output_type": "stream",
          "text": [
            "dict_items([('year', 2003), ('value', 492.69)])\n",
            "dict_keys(['year', 'value'])\n"
          ],
          "name": "stdout"
        },
        {
          "output_type": "execute_result",
          "data": {
            "text/plain": [
              "dict_values([2003, 492.69])"
            ]
          },
          "metadata": {
            "tags": []
          },
          "execution_count": 236
        }
      ]
    },
    {
      "cell_type": "code",
      "metadata": {
        "colab": {
          "base_uri": "https://localhost:8080/"
        },
        "id": "3_m19no1bZds",
        "outputId": "197a4ced-6054-4a9b-bb80-901e81fe98a7"
      },
      "source": [
        "#Con get() podemos acceder al valor de cada llave del diccionario\n",
        "print(including['emissions'][0][0].get('value'))\n",
        "including['emissions'][0][0].get('year')"
      ],
      "execution_count": 237,
      "outputs": [
        {
          "output_type": "stream",
          "text": [
            "492.69\n"
          ],
          "name": "stdout"
        },
        {
          "output_type": "execute_result",
          "data": {
            "text/plain": [
              "2003"
            ]
          },
          "metadata": {
            "tags": []
          },
          "execution_count": 237
        }
      ]
    },
    {
      "cell_type": "code",
      "metadata": {
        "id": "kefjetXha4f6"
      },
      "source": [
        "# Definimos una funcion para extraer los datos\n",
        "\n",
        "def extraccion(lista, pais):\n",
        "\n",
        "  # Definimos listas donde almacenaremos los datos extraidos (años, valor, pais)\n",
        "  lista_1 =[]\n",
        "  lista_2 = []\n",
        "  paises = []\n",
        "\n",
        "  for i in range(len(lista)):\n",
        "    for y in range(len(lista[i])):\n",
        "\n",
        "      # Extraemos el pais\n",
        "      paises.append(pais[i])\n",
        " \n",
        "      # Extraemos los años\n",
        "      anio = lista[i][y].get('year')\n",
        "      lista_1.append(anio)\n",
        "\n",
        "      # Extraemos los valores\n",
        "      valor = lista[i][y].get('value')\n",
        "      lista_2.append(valor)\n",
        "\n",
        "  # Unimos en un df\n",
        "  data = pd.DataFrame({'country': paises, 'year': lista_1, 'value': lista_2})\n",
        "\n",
        "  return data"
      ],
      "execution_count": 238,
      "outputs": []
    },
    {
      "cell_type": "markdown",
      "metadata": {
        "id": "XaYGPt1muKWc"
      },
      "source": [
        "Antes de usar la función observemos el tamaño de cada lista de diccionarios, la cual es de 29 datos, además se observa que cada lista corresponde a un gas y como son 5 gases (incluyendo la suma de gases \"ALL GHG\"), al final nuestro nuevo dataset debe ser de un tamaño de 145 registros, pues es el resultado de 29 diccionarios por 5 variables de gases"
      ]
    },
    {
      "cell_type": "code",
      "metadata": {
        "id": "0RLWUapOu3IF",
        "outputId": "d553e5cf-9d29-4380-b01f-652e865741d2",
        "colab": {
          "base_uri": "https://localhost:8080/"
        }
      },
      "source": [
        "#Tamaño de cada registro de la columna emissiones\n",
        "len(including[\"emissions\"][0])"
      ],
      "execution_count": 239,
      "outputs": [
        {
          "output_type": "execute_result",
          "data": {
            "text/plain": [
              "29"
            ]
          },
          "metadata": {
            "tags": []
          },
          "execution_count": 239
        }
      ]
    },
    {
      "cell_type": "code",
      "metadata": {
        "colab": {
          "base_uri": "https://localhost:8080/",
          "height": 419
        },
        "id": "hhpX9Q5IldX7",
        "outputId": "0012e693-5174-4e5d-8eed-ed83241f5520"
      },
      "source": [
        "# Usamos la función y extraemos nuestro nuevo dataset\n",
        "data = extraccion(including[\"emissions\"], including[\"country\"])\n",
        "data"
      ],
      "execution_count": 240,
      "outputs": [
        {
          "output_type": "execute_result",
          "data": {
            "text/html": [
              "<div>\n",
              "<style scoped>\n",
              "    .dataframe tbody tr th:only-of-type {\n",
              "        vertical-align: middle;\n",
              "    }\n",
              "\n",
              "    .dataframe tbody tr th {\n",
              "        vertical-align: top;\n",
              "    }\n",
              "\n",
              "    .dataframe thead th {\n",
              "        text-align: right;\n",
              "    }\n",
              "</style>\n",
              "<table border=\"1\" class=\"dataframe\">\n",
              "  <thead>\n",
              "    <tr style=\"text-align: right;\">\n",
              "      <th></th>\n",
              "      <th>country</th>\n",
              "      <th>year</th>\n",
              "      <th>value</th>\n",
              "    </tr>\n",
              "  </thead>\n",
              "  <tbody>\n",
              "    <tr>\n",
              "      <th>0</th>\n",
              "      <td>Mexico</td>\n",
              "      <td>2003</td>\n",
              "      <td>492.69</td>\n",
              "    </tr>\n",
              "    <tr>\n",
              "      <th>1</th>\n",
              "      <td>Mexico</td>\n",
              "      <td>2016</td>\n",
              "      <td>698.62</td>\n",
              "    </tr>\n",
              "    <tr>\n",
              "      <th>2</th>\n",
              "      <td>Mexico</td>\n",
              "      <td>2015</td>\n",
              "      <td>684.99</td>\n",
              "    </tr>\n",
              "    <tr>\n",
              "      <th>3</th>\n",
              "      <td>Mexico</td>\n",
              "      <td>2014</td>\n",
              "      <td>659.98</td>\n",
              "    </tr>\n",
              "    <tr>\n",
              "      <th>4</th>\n",
              "      <td>Mexico</td>\n",
              "      <td>2013</td>\n",
              "      <td>668.85</td>\n",
              "    </tr>\n",
              "    <tr>\n",
              "      <th>...</th>\n",
              "      <td>...</td>\n",
              "      <td>...</td>\n",
              "      <td>...</td>\n",
              "    </tr>\n",
              "    <tr>\n",
              "      <th>140</th>\n",
              "      <td>Mexico</td>\n",
              "      <td>1994</td>\n",
              "      <td>1.74</td>\n",
              "    </tr>\n",
              "    <tr>\n",
              "      <th>141</th>\n",
              "      <td>Mexico</td>\n",
              "      <td>1993</td>\n",
              "      <td>1.99</td>\n",
              "    </tr>\n",
              "    <tr>\n",
              "      <th>142</th>\n",
              "      <td>Mexico</td>\n",
              "      <td>1992</td>\n",
              "      <td>1.70</td>\n",
              "    </tr>\n",
              "    <tr>\n",
              "      <th>143</th>\n",
              "      <td>Mexico</td>\n",
              "      <td>1991</td>\n",
              "      <td>1.97</td>\n",
              "    </tr>\n",
              "    <tr>\n",
              "      <th>144</th>\n",
              "      <td>Mexico</td>\n",
              "      <td>1990</td>\n",
              "      <td>1.87</td>\n",
              "    </tr>\n",
              "  </tbody>\n",
              "</table>\n",
              "<p>145 rows × 3 columns</p>\n",
              "</div>"
            ],
            "text/plain": [
              "    country  year   value\n",
              "0    Mexico  2003  492.69\n",
              "1    Mexico  2016  698.62\n",
              "2    Mexico  2015  684.99\n",
              "3    Mexico  2014  659.98\n",
              "4    Mexico  2013  668.85\n",
              "..      ...   ...     ...\n",
              "140  Mexico  1994    1.74\n",
              "141  Mexico  1993    1.99\n",
              "142  Mexico  1992    1.70\n",
              "143  Mexico  1991    1.97\n",
              "144  Mexico  1990    1.87\n",
              "\n",
              "[145 rows x 3 columns]"
            ]
          },
          "metadata": {
            "tags": []
          },
          "execution_count": 240
        }
      ]
    },
    {
      "cell_type": "markdown",
      "metadata": {
        "id": "DC6rJC-Us5Bq"
      },
      "source": [
        "Observemos que el tamaño del nuevo dataset es de 145 filas, lo cual coincide con la explicación atnerior de que cada lista es de un tamaño de 29 diccionarios multiplicado por 5 gases\n",
        "\n",
        "Ahora agregamos los gases, que como mencionamos son 29 registros los cuales corresponden a cada gas por lo que es suficiente si los añadimos en orden 29 veces cada uno."
      ]
    },
    {
      "cell_type": "code",
      "metadata": {
        "id": "RgJ00Bi9Ql1Q"
      },
      "source": [
        "# Creamos una lista con todos los 145 datos de los gases\n",
        "lista = [\"all\",\"co2\", \"ch4\", \"n2o\", \"fgas\"]\n",
        "\n",
        "lista_gases = []\n",
        "for gases in lista:\n",
        "  for i in range(29):\n",
        "    lista_gases.append(gases)\n"
      ],
      "execution_count": 243,
      "outputs": []
    },
    {
      "cell_type": "code",
      "metadata": {
        "id": "zT6J9hPFT5hD",
        "outputId": "f06f815a-b2d2-435c-a2d7-12bcd50ac584",
        "colab": {
          "base_uri": "https://localhost:8080/",
          "height": 204
        }
      },
      "source": [
        "# Agregamos una columna a nuestro dataset llamada emissions y le asignamos los valores de la lista anterior\n",
        "data[\"emissions\"] = lista_gases\n",
        "data.head()"
      ],
      "execution_count": 244,
      "outputs": [
        {
          "output_type": "execute_result",
          "data": {
            "text/html": [
              "<div>\n",
              "<style scoped>\n",
              "    .dataframe tbody tr th:only-of-type {\n",
              "        vertical-align: middle;\n",
              "    }\n",
              "\n",
              "    .dataframe tbody tr th {\n",
              "        vertical-align: top;\n",
              "    }\n",
              "\n",
              "    .dataframe thead th {\n",
              "        text-align: right;\n",
              "    }\n",
              "</style>\n",
              "<table border=\"1\" class=\"dataframe\">\n",
              "  <thead>\n",
              "    <tr style=\"text-align: right;\">\n",
              "      <th></th>\n",
              "      <th>country</th>\n",
              "      <th>year</th>\n",
              "      <th>value</th>\n",
              "      <th>emissions</th>\n",
              "    </tr>\n",
              "  </thead>\n",
              "  <tbody>\n",
              "    <tr>\n",
              "      <th>0</th>\n",
              "      <td>Mexico</td>\n",
              "      <td>2003</td>\n",
              "      <td>492.69</td>\n",
              "      <td>all</td>\n",
              "    </tr>\n",
              "    <tr>\n",
              "      <th>1</th>\n",
              "      <td>Mexico</td>\n",
              "      <td>2016</td>\n",
              "      <td>698.62</td>\n",
              "      <td>all</td>\n",
              "    </tr>\n",
              "    <tr>\n",
              "      <th>2</th>\n",
              "      <td>Mexico</td>\n",
              "      <td>2015</td>\n",
              "      <td>684.99</td>\n",
              "      <td>all</td>\n",
              "    </tr>\n",
              "    <tr>\n",
              "      <th>3</th>\n",
              "      <td>Mexico</td>\n",
              "      <td>2014</td>\n",
              "      <td>659.98</td>\n",
              "      <td>all</td>\n",
              "    </tr>\n",
              "    <tr>\n",
              "      <th>4</th>\n",
              "      <td>Mexico</td>\n",
              "      <td>2013</td>\n",
              "      <td>668.85</td>\n",
              "      <td>all</td>\n",
              "    </tr>\n",
              "  </tbody>\n",
              "</table>\n",
              "</div>"
            ],
            "text/plain": [
              "  country  year   value emissions\n",
              "0  Mexico  2003  492.69       all\n",
              "1  Mexico  2016  698.62       all\n",
              "2  Mexico  2015  684.99       all\n",
              "3  Mexico  2014  659.98       all\n",
              "4  Mexico  2013  668.85       all"
            ]
          },
          "metadata": {
            "tags": []
          },
          "execution_count": 244
        }
      ]
    },
    {
      "cell_type": "code",
      "metadata": {
        "id": "GPp7cbPzWr8y",
        "outputId": "2ffcd0af-8b09-4747-dbb4-09e10eee0493",
        "colab": {
          "base_uri": "https://localhost:8080/",
          "height": 204
        }
      },
      "source": [
        "#Filtramos por años y vemos que se tienen los 5 gaases para cada año del país correspondiente\n",
        "data[data['year'] == 2011]"
      ],
      "execution_count": 245,
      "outputs": [
        {
          "output_type": "execute_result",
          "data": {
            "text/html": [
              "<div>\n",
              "<style scoped>\n",
              "    .dataframe tbody tr th:only-of-type {\n",
              "        vertical-align: middle;\n",
              "    }\n",
              "\n",
              "    .dataframe tbody tr th {\n",
              "        vertical-align: top;\n",
              "    }\n",
              "\n",
              "    .dataframe thead th {\n",
              "        text-align: right;\n",
              "    }\n",
              "</style>\n",
              "<table border=\"1\" class=\"dataframe\">\n",
              "  <thead>\n",
              "    <tr style=\"text-align: right;\">\n",
              "      <th></th>\n",
              "      <th>country</th>\n",
              "      <th>year</th>\n",
              "      <th>value</th>\n",
              "      <th>emissions</th>\n",
              "    </tr>\n",
              "  </thead>\n",
              "  <tbody>\n",
              "    <tr>\n",
              "      <th>6</th>\n",
              "      <td>Mexico</td>\n",
              "      <td>2011</td>\n",
              "      <td>680.75</td>\n",
              "      <td>all</td>\n",
              "    </tr>\n",
              "    <tr>\n",
              "      <th>53</th>\n",
              "      <td>Mexico</td>\n",
              "      <td>2011</td>\n",
              "      <td>494.81</td>\n",
              "      <td>co2</td>\n",
              "    </tr>\n",
              "    <tr>\n",
              "      <th>79</th>\n",
              "      <td>Mexico</td>\n",
              "      <td>2011</td>\n",
              "      <td>130.57</td>\n",
              "      <td>ch4</td>\n",
              "    </tr>\n",
              "    <tr>\n",
              "      <th>108</th>\n",
              "      <td>Mexico</td>\n",
              "      <td>2011</td>\n",
              "      <td>39.11</td>\n",
              "      <td>n2o</td>\n",
              "    </tr>\n",
              "    <tr>\n",
              "      <th>117</th>\n",
              "      <td>Mexico</td>\n",
              "      <td>2011</td>\n",
              "      <td>16.26</td>\n",
              "      <td>fgas</td>\n",
              "    </tr>\n",
              "  </tbody>\n",
              "</table>\n",
              "</div>"
            ],
            "text/plain": [
              "    country  year   value emissions\n",
              "6    Mexico  2011  680.75       all\n",
              "53   Mexico  2011  494.81       co2\n",
              "79   Mexico  2011  130.57       ch4\n",
              "108  Mexico  2011   39.11       n2o\n",
              "117  Mexico  2011   16.26      fgas"
            ]
          },
          "metadata": {
            "tags": []
          },
          "execution_count": 245
        }
      ]
    },
    {
      "cell_type": "code",
      "metadata": {
        "id": "EoZJshqnbpzh",
        "outputId": "4a348d68-bba0-46a2-b146-7f2121980d1c",
        "colab": {
          "base_uri": "https://localhost:8080/"
        }
      },
      "source": [
        "data[\"value\"][data[\"year\"] == 2011].loc[0]"
      ],
      "execution_count": 184,
      "outputs": [
        {
          "output_type": "execute_result",
          "data": {
            "text/plain": [
              "664.66"
            ]
          },
          "metadata": {
            "tags": []
          },
          "execution_count": 184
        }
      ]
    },
    {
      "cell_type": "code",
      "metadata": {
        "id": "RlwoKK3qx_ea",
        "outputId": "95b3a129-ba36-4b01-d090-d520239360d6",
        "colab": {
          "base_uri": "https://localhost:8080/"
        }
      },
      "source": [
        "# Observemos que no hay datos nulos\n",
        "data.isna().sum()"
      ],
      "execution_count": 247,
      "outputs": [
        {
          "output_type": "execute_result",
          "data": {
            "text/plain": [
              "country      0\n",
              "year         0\n",
              "value        0\n",
              "emissions    0\n",
              "dtype: int64"
            ]
          },
          "metadata": {
            "tags": []
          },
          "execution_count": 247
        }
      ]
    },
    {
      "cell_type": "markdown",
      "metadata": {
        "id": "05cTJqg5yLz2"
      },
      "source": [
        "**Nota**: Observese que este dataset es complementario al dataset que se está utilizando en la investigación, ya que la api utilizada corresponde a una de loas fuentes de información utilizada para el poryecto final, y se puede observar que en ambos datasets al final se tienen las 5 variables de gases por año y por país. \n",
        "\n",
        "Sin embargo, no se utiliza específicamente este dataset debido a que el que se está usando se le agregaron otros dos conjuntos de datos de diferentes fuentes de información, estos fueron los niveles de temperatra y los fallecimientos por enferemedades respiratorias, lo cual ya se había realizado para antes de este postwork."
      ]
    }
  ]
}